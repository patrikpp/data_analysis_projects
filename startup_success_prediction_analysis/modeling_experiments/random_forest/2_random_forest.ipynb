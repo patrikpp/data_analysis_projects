{
 "cells": [
  {
   "cell_type": "markdown",
   "metadata": {},
   "source": [
    "- remove age_first_funding_year from features"
   ]
  },
  {
   "cell_type": "code",
   "execution_count": 1,
   "metadata": {},
   "outputs": [],
   "source": [
    "import pandas as pd\n",
    "import numpy as np\n",
    "from matplotlib import pyplot as plt\n",
    "import seaborn as sns\n",
    "from mlxtend.plotting import scatterplotmatrix\n",
    "from sklearn.preprocessing import StandardScaler\n",
    "from sklearn.model_selection import GridSearchCV\n",
    "from sklearn.ensemble import RandomForestClassifier\n",
    "from sklearn.model_selection import train_test_split\n",
    "from sklearn.model_selection import cross_val_score\n",
    "from sklearn.pipeline import make_pipeline\n",
    "from sklearn import metrics\n",
    "import shap\n",
    "%matplotlib inline  "
   ]
  },
  {
   "cell_type": "code",
   "execution_count": 2,
   "metadata": {},
   "outputs": [],
   "source": [
    "%run \"../../plots.py\"\n",
    "%run \"../../helper.py\""
   ]
  },
  {
   "cell_type": "code",
   "execution_count": 3,
   "metadata": {},
   "outputs": [
    {
     "data": {
      "text/html": [
       "<div>\n",
       "<style scoped>\n",
       "    .dataframe tbody tr th:only-of-type {\n",
       "        vertical-align: middle;\n",
       "    }\n",
       "\n",
       "    .dataframe tbody tr th {\n",
       "        vertical-align: top;\n",
       "    }\n",
       "\n",
       "    .dataframe thead th {\n",
       "        text-align: right;\n",
       "    }\n",
       "</style>\n",
       "<table border=\"1\" class=\"dataframe\">\n",
       "  <thead>\n",
       "    <tr style=\"text-align: right;\">\n",
       "      <th></th>\n",
       "      <th>Unnamed: 0</th>\n",
       "      <th>state_code</th>\n",
       "      <th>latitude</th>\n",
       "      <th>longitude</th>\n",
       "      <th>zip_code</th>\n",
       "      <th>id</th>\n",
       "      <th>city</th>\n",
       "      <th>Unnamed: 6</th>\n",
       "      <th>name</th>\n",
       "      <th>labels</th>\n",
       "      <th>founded_at</th>\n",
       "      <th>closed_at</th>\n",
       "      <th>first_funding_at</th>\n",
       "      <th>last_funding_at</th>\n",
       "      <th>age_first_funding_year</th>\n",
       "      <th>age_last_funding_year</th>\n",
       "      <th>age_first_milestone_year</th>\n",
       "      <th>age_last_milestone_year</th>\n",
       "      <th>relationships</th>\n",
       "      <th>funding_rounds</th>\n",
       "      <th>funding_total_usd</th>\n",
       "      <th>milestones</th>\n",
       "      <th>state_code.1</th>\n",
       "      <th>is_CA</th>\n",
       "      <th>is_NY</th>\n",
       "      <th>is_MA</th>\n",
       "      <th>is_TX</th>\n",
       "      <th>is_otherstate</th>\n",
       "      <th>category_code</th>\n",
       "      <th>is_software</th>\n",
       "      <th>is_web</th>\n",
       "      <th>is_mobile</th>\n",
       "      <th>is_enterprise</th>\n",
       "      <th>is_advertising</th>\n",
       "      <th>is_gamesvideo</th>\n",
       "      <th>is_ecommerce</th>\n",
       "      <th>is_biotech</th>\n",
       "      <th>is_consulting</th>\n",
       "      <th>is_othercategory</th>\n",
       "      <th>object_id</th>\n",
       "      <th>has_VC</th>\n",
       "      <th>has_angel</th>\n",
       "      <th>has_roundA</th>\n",
       "      <th>has_roundB</th>\n",
       "      <th>has_roundC</th>\n",
       "      <th>has_roundD</th>\n",
       "      <th>avg_participants</th>\n",
       "      <th>is_top500</th>\n",
       "      <th>status</th>\n",
       "    </tr>\n",
       "  </thead>\n",
       "  <tbody>\n",
       "    <tr>\n",
       "      <th>0</th>\n",
       "      <td>1005</td>\n",
       "      <td>CA</td>\n",
       "      <td>42.358880</td>\n",
       "      <td>-71.056820</td>\n",
       "      <td>92101</td>\n",
       "      <td>c:6669</td>\n",
       "      <td>San Diego</td>\n",
       "      <td>NaN</td>\n",
       "      <td>Bandsintown</td>\n",
       "      <td>1</td>\n",
       "      <td>1/1/2007</td>\n",
       "      <td>NaN</td>\n",
       "      <td>4/1/2009</td>\n",
       "      <td>1/1/2010</td>\n",
       "      <td>2.2493</td>\n",
       "      <td>3.0027</td>\n",
       "      <td>4.6685</td>\n",
       "      <td>6.7041</td>\n",
       "      <td>3</td>\n",
       "      <td>3</td>\n",
       "      <td>375000</td>\n",
       "      <td>3</td>\n",
       "      <td>CA</td>\n",
       "      <td>1</td>\n",
       "      <td>0</td>\n",
       "      <td>0</td>\n",
       "      <td>0</td>\n",
       "      <td>0</td>\n",
       "      <td>music</td>\n",
       "      <td>0</td>\n",
       "      <td>0</td>\n",
       "      <td>0</td>\n",
       "      <td>0</td>\n",
       "      <td>0</td>\n",
       "      <td>0</td>\n",
       "      <td>0</td>\n",
       "      <td>0</td>\n",
       "      <td>0</td>\n",
       "      <td>1</td>\n",
       "      <td>c:6669</td>\n",
       "      <td>0</td>\n",
       "      <td>1</td>\n",
       "      <td>0</td>\n",
       "      <td>0</td>\n",
       "      <td>0</td>\n",
       "      <td>0</td>\n",
       "      <td>1.0000</td>\n",
       "      <td>0</td>\n",
       "      <td>acquired</td>\n",
       "    </tr>\n",
       "    <tr>\n",
       "      <th>1</th>\n",
       "      <td>204</td>\n",
       "      <td>CA</td>\n",
       "      <td>37.238916</td>\n",
       "      <td>-121.973718</td>\n",
       "      <td>95032</td>\n",
       "      <td>c:16283</td>\n",
       "      <td>Los Gatos</td>\n",
       "      <td>NaN</td>\n",
       "      <td>TriCipher</td>\n",
       "      <td>1</td>\n",
       "      <td>1/1/2000</td>\n",
       "      <td>NaN</td>\n",
       "      <td>2/14/2005</td>\n",
       "      <td>12/28/2009</td>\n",
       "      <td>5.1260</td>\n",
       "      <td>9.9973</td>\n",
       "      <td>7.0055</td>\n",
       "      <td>7.0055</td>\n",
       "      <td>9</td>\n",
       "      <td>4</td>\n",
       "      <td>40100000</td>\n",
       "      <td>1</td>\n",
       "      <td>CA</td>\n",
       "      <td>1</td>\n",
       "      <td>0</td>\n",
       "      <td>0</td>\n",
       "      <td>0</td>\n",
       "      <td>0</td>\n",
       "      <td>enterprise</td>\n",
       "      <td>0</td>\n",
       "      <td>0</td>\n",
       "      <td>0</td>\n",
       "      <td>1</td>\n",
       "      <td>0</td>\n",
       "      <td>0</td>\n",
       "      <td>0</td>\n",
       "      <td>0</td>\n",
       "      <td>0</td>\n",
       "      <td>0</td>\n",
       "      <td>c:16283</td>\n",
       "      <td>1</td>\n",
       "      <td>0</td>\n",
       "      <td>0</td>\n",
       "      <td>1</td>\n",
       "      <td>1</td>\n",
       "      <td>1</td>\n",
       "      <td>4.7500</td>\n",
       "      <td>1</td>\n",
       "      <td>acquired</td>\n",
       "    </tr>\n",
       "    <tr>\n",
       "      <th>2</th>\n",
       "      <td>1001</td>\n",
       "      <td>CA</td>\n",
       "      <td>32.901049</td>\n",
       "      <td>-117.192656</td>\n",
       "      <td>92121</td>\n",
       "      <td>c:65620</td>\n",
       "      <td>San Diego</td>\n",
       "      <td>San Diego CA 92121</td>\n",
       "      <td>Plixi</td>\n",
       "      <td>1</td>\n",
       "      <td>3/18/2009</td>\n",
       "      <td>NaN</td>\n",
       "      <td>3/30/2010</td>\n",
       "      <td>3/30/2010</td>\n",
       "      <td>1.0329</td>\n",
       "      <td>1.0329</td>\n",
       "      <td>1.4575</td>\n",
       "      <td>2.2055</td>\n",
       "      <td>5</td>\n",
       "      <td>1</td>\n",
       "      <td>2600000</td>\n",
       "      <td>2</td>\n",
       "      <td>CA</td>\n",
       "      <td>1</td>\n",
       "      <td>0</td>\n",
       "      <td>0</td>\n",
       "      <td>0</td>\n",
       "      <td>0</td>\n",
       "      <td>web</td>\n",
       "      <td>0</td>\n",
       "      <td>1</td>\n",
       "      <td>0</td>\n",
       "      <td>0</td>\n",
       "      <td>0</td>\n",
       "      <td>0</td>\n",
       "      <td>0</td>\n",
       "      <td>0</td>\n",
       "      <td>0</td>\n",
       "      <td>0</td>\n",
       "      <td>c:65620</td>\n",
       "      <td>0</td>\n",
       "      <td>0</td>\n",
       "      <td>1</td>\n",
       "      <td>0</td>\n",
       "      <td>0</td>\n",
       "      <td>0</td>\n",
       "      <td>4.0000</td>\n",
       "      <td>1</td>\n",
       "      <td>acquired</td>\n",
       "    </tr>\n",
       "    <tr>\n",
       "      <th>3</th>\n",
       "      <td>738</td>\n",
       "      <td>CA</td>\n",
       "      <td>37.320309</td>\n",
       "      <td>-122.050040</td>\n",
       "      <td>95014</td>\n",
       "      <td>c:42668</td>\n",
       "      <td>Cupertino</td>\n",
       "      <td>Cupertino CA 95014</td>\n",
       "      <td>Solidcore Systems</td>\n",
       "      <td>1</td>\n",
       "      <td>1/1/2002</td>\n",
       "      <td>NaN</td>\n",
       "      <td>2/17/2005</td>\n",
       "      <td>4/25/2007</td>\n",
       "      <td>3.1315</td>\n",
       "      <td>5.3151</td>\n",
       "      <td>6.0027</td>\n",
       "      <td>6.0027</td>\n",
       "      <td>5</td>\n",
       "      <td>3</td>\n",
       "      <td>40000000</td>\n",
       "      <td>1</td>\n",
       "      <td>CA</td>\n",
       "      <td>1</td>\n",
       "      <td>0</td>\n",
       "      <td>0</td>\n",
       "      <td>0</td>\n",
       "      <td>0</td>\n",
       "      <td>software</td>\n",
       "      <td>1</td>\n",
       "      <td>0</td>\n",
       "      <td>0</td>\n",
       "      <td>0</td>\n",
       "      <td>0</td>\n",
       "      <td>0</td>\n",
       "      <td>0</td>\n",
       "      <td>0</td>\n",
       "      <td>0</td>\n",
       "      <td>0</td>\n",
       "      <td>c:42668</td>\n",
       "      <td>0</td>\n",
       "      <td>0</td>\n",
       "      <td>0</td>\n",
       "      <td>1</td>\n",
       "      <td>1</td>\n",
       "      <td>1</td>\n",
       "      <td>3.3333</td>\n",
       "      <td>1</td>\n",
       "      <td>acquired</td>\n",
       "    </tr>\n",
       "    <tr>\n",
       "      <th>4</th>\n",
       "      <td>1002</td>\n",
       "      <td>CA</td>\n",
       "      <td>37.779281</td>\n",
       "      <td>-122.419236</td>\n",
       "      <td>94105</td>\n",
       "      <td>c:65806</td>\n",
       "      <td>San Francisco</td>\n",
       "      <td>San Francisco CA 94105</td>\n",
       "      <td>Inhale Digital</td>\n",
       "      <td>0</td>\n",
       "      <td>8/1/2010</td>\n",
       "      <td>10/1/2012</td>\n",
       "      <td>8/1/2010</td>\n",
       "      <td>4/1/2012</td>\n",
       "      <td>0.0000</td>\n",
       "      <td>1.6685</td>\n",
       "      <td>0.0384</td>\n",
       "      <td>0.0384</td>\n",
       "      <td>2</td>\n",
       "      <td>2</td>\n",
       "      <td>1300000</td>\n",
       "      <td>1</td>\n",
       "      <td>CA</td>\n",
       "      <td>1</td>\n",
       "      <td>0</td>\n",
       "      <td>0</td>\n",
       "      <td>0</td>\n",
       "      <td>0</td>\n",
       "      <td>games_video</td>\n",
       "      <td>0</td>\n",
       "      <td>0</td>\n",
       "      <td>0</td>\n",
       "      <td>0</td>\n",
       "      <td>0</td>\n",
       "      <td>1</td>\n",
       "      <td>0</td>\n",
       "      <td>0</td>\n",
       "      <td>0</td>\n",
       "      <td>0</td>\n",
       "      <td>c:65806</td>\n",
       "      <td>1</td>\n",
       "      <td>1</td>\n",
       "      <td>0</td>\n",
       "      <td>0</td>\n",
       "      <td>0</td>\n",
       "      <td>0</td>\n",
       "      <td>1.0000</td>\n",
       "      <td>1</td>\n",
       "      <td>closed</td>\n",
       "    </tr>\n",
       "  </tbody>\n",
       "</table>\n",
       "</div>"
      ],
      "text/plain": [
       "   Unnamed: 0 state_code   latitude   longitude zip_code       id  \\\n",
       "0        1005         CA  42.358880  -71.056820    92101   c:6669   \n",
       "1         204         CA  37.238916 -121.973718    95032  c:16283   \n",
       "2        1001         CA  32.901049 -117.192656    92121  c:65620   \n",
       "3         738         CA  37.320309 -122.050040    95014  c:42668   \n",
       "4        1002         CA  37.779281 -122.419236    94105  c:65806   \n",
       "\n",
       "            city              Unnamed: 6               name  labels  \\\n",
       "0      San Diego                     NaN        Bandsintown       1   \n",
       "1      Los Gatos                     NaN          TriCipher       1   \n",
       "2      San Diego      San Diego CA 92121              Plixi       1   \n",
       "3      Cupertino      Cupertino CA 95014  Solidcore Systems       1   \n",
       "4  San Francisco  San Francisco CA 94105     Inhale Digital       0   \n",
       "\n",
       "  founded_at  closed_at first_funding_at last_funding_at  \\\n",
       "0   1/1/2007        NaN         4/1/2009        1/1/2010   \n",
       "1   1/1/2000        NaN        2/14/2005      12/28/2009   \n",
       "2  3/18/2009        NaN        3/30/2010       3/30/2010   \n",
       "3   1/1/2002        NaN        2/17/2005       4/25/2007   \n",
       "4   8/1/2010  10/1/2012         8/1/2010        4/1/2012   \n",
       "\n",
       "   age_first_funding_year  age_last_funding_year  age_first_milestone_year  \\\n",
       "0                  2.2493                 3.0027                    4.6685   \n",
       "1                  5.1260                 9.9973                    7.0055   \n",
       "2                  1.0329                 1.0329                    1.4575   \n",
       "3                  3.1315                 5.3151                    6.0027   \n",
       "4                  0.0000                 1.6685                    0.0384   \n",
       "\n",
       "   age_last_milestone_year  relationships  funding_rounds  funding_total_usd  \\\n",
       "0                   6.7041              3               3             375000   \n",
       "1                   7.0055              9               4           40100000   \n",
       "2                   2.2055              5               1            2600000   \n",
       "3                   6.0027              5               3           40000000   \n",
       "4                   0.0384              2               2            1300000   \n",
       "\n",
       "   milestones state_code.1  is_CA  is_NY  is_MA  is_TX  is_otherstate  \\\n",
       "0           3           CA      1      0      0      0              0   \n",
       "1           1           CA      1      0      0      0              0   \n",
       "2           2           CA      1      0      0      0              0   \n",
       "3           1           CA      1      0      0      0              0   \n",
       "4           1           CA      1      0      0      0              0   \n",
       "\n",
       "  category_code  is_software  is_web  is_mobile  is_enterprise  \\\n",
       "0         music            0       0          0              0   \n",
       "1    enterprise            0       0          0              1   \n",
       "2           web            0       1          0              0   \n",
       "3      software            1       0          0              0   \n",
       "4   games_video            0       0          0              0   \n",
       "\n",
       "   is_advertising  is_gamesvideo  is_ecommerce  is_biotech  is_consulting  \\\n",
       "0               0              0             0           0              0   \n",
       "1               0              0             0           0              0   \n",
       "2               0              0             0           0              0   \n",
       "3               0              0             0           0              0   \n",
       "4               0              1             0           0              0   \n",
       "\n",
       "   is_othercategory object_id  has_VC  has_angel  has_roundA  has_roundB  \\\n",
       "0                 1    c:6669       0          1           0           0   \n",
       "1                 0   c:16283       1          0           0           1   \n",
       "2                 0   c:65620       0          0           1           0   \n",
       "3                 0   c:42668       0          0           0           1   \n",
       "4                 0   c:65806       1          1           0           0   \n",
       "\n",
       "   has_roundC  has_roundD  avg_participants  is_top500    status  \n",
       "0           0           0            1.0000          0  acquired  \n",
       "1           1           1            4.7500          1  acquired  \n",
       "2           0           0            4.0000          1  acquired  \n",
       "3           1           1            3.3333          1  acquired  \n",
       "4           0           0            1.0000          1    closed  "
      ]
     },
     "execution_count": 3,
     "metadata": {},
     "output_type": "execute_result"
    }
   ],
   "source": [
    "pd.set_option('display.max_columns', None)\n",
    "\n",
    "df = pd.read_csv('../../startup_data.csv')\n",
    "df.head()"
   ]
  },
  {
   "cell_type": "code",
   "execution_count": 4,
   "metadata": {},
   "outputs": [
    {
     "name": "stdout",
     "output_type": "stream",
     "text": [
      "Dataset contains 923 rows and 49 columns.\n"
     ]
    }
   ],
   "source": [
    "print(f'Dataset contains {df.shape[0]} rows and {df.shape[1]} columns.')"
   ]
  },
  {
   "cell_type": "markdown",
   "metadata": {},
   "source": [
    "### Target variable"
   ]
  },
  {
   "cell_type": "code",
   "execution_count": 5,
   "metadata": {},
   "outputs": [],
   "source": [
    "if (df['status'].dtype == object):\n",
    "    df['status'] = df.status.map({'acquired': 1, 'closed': 0})"
   ]
  },
  {
   "cell_type": "markdown",
   "metadata": {},
   "source": [
    "### Data splitting"
   ]
  },
  {
   "cell_type": "code",
   "execution_count": 6,
   "metadata": {},
   "outputs": [],
   "source": [
    "features = ['age_last_funding_year', 'relationships', 'funding_rounds', \n",
    "            'funding_total_usd', 'milestones', 'has_VC', 'has_angel', 'has_roundA', \n",
    "            'has_roundB', 'has_roundC', 'has_roundD', 'avg_participants', 'is_top500']\n",
    "\n",
    "X = df[features]\n",
    "y = df['status']\n",
    "\n",
    "X_train, X_test, y_train, y_test = train_test_split(X, y, \n",
    "                                                    test_size=0.20,\n",
    "                                                    stratify=y,\n",
    "                                                    random_state=1)"
   ]
  },
  {
   "cell_type": "code",
   "execution_count": 7,
   "metadata": {},
   "outputs": [],
   "source": [
    "model = RandomForestClassifier(random_state=1, n_jobs=-1)\n",
    "\n",
    "param_grid = { \n",
    "    'n_estimators': [200, 225, 250],\n",
    "    'max_features': ['sqrt', 'log2'],\n",
    "    'criterion': ['gini', 'entropy'],\n",
    "}"
   ]
  },
  {
   "cell_type": "markdown",
   "metadata": {},
   "source": [
    "### Nested cross-validation"
   ]
  },
  {
   "cell_type": "code",
   "execution_count": 8,
   "metadata": {},
   "outputs": [
    {
     "name": "stdout",
     "output_type": "stream",
     "text": [
      "Nested CV precision: 0.7893 +/-0.0255\n"
     ]
    }
   ],
   "source": [
    "outer_n_splits = 10\n",
    "inner_n_splits = 3\n",
    "\n",
    "gs = GridSearchCV(estimator=model,\n",
    "                  param_grid=param_grid,\n",
    "                  scoring='precision',\n",
    "                  cv=inner_n_splits,\n",
    "                  n_jobs=-1)\n",
    "\n",
    "scores = cross_val_score(gs, X_train, y_train, \n",
    "                         scoring='precision', cv=outer_n_splits)\n",
    "\n",
    "print(f'Nested CV precision: {np.mean(scores):.4f} +/-{np.std(scores):.4f}')"
   ]
  },
  {
   "cell_type": "markdown",
   "metadata": {},
   "source": [
    "### Hyperparameter tuning"
   ]
  },
  {
   "cell_type": "code",
   "execution_count": 9,
   "metadata": {},
   "outputs": [
    {
     "name": "stdout",
     "output_type": "stream",
     "text": [
      "{'criterion': 'entropy', 'max_features': 'sqrt', 'n_estimators': 250}\n"
     ]
    }
   ],
   "source": [
    "gs = GridSearchCV(estimator=model, \n",
    "                  param_grid=param_grid, \n",
    "                  scoring='precision', \n",
    "                  refit=True,\n",
    "                  cv=10,\n",
    "                  n_jobs=-1)\n",
    "\n",
    "gs = gs.fit(X_train, y_train)\n",
    "best_model = gs.best_estimator_\n",
    "\n",
    "print(gs.best_params_)"
   ]
  },
  {
   "cell_type": "markdown",
   "metadata": {},
   "source": [
    "### Feature importances"
   ]
  },
  {
   "cell_type": "code",
   "execution_count": 10,
   "metadata": {},
   "outputs": [
    {
     "name": "stdout",
     "output_type": "stream",
     "text": [
      " 1) relationships                  0.211174\n",
      " 2) funding_total_usd              0.189084\n",
      " 3) age_last_funding_year          0.177463\n",
      " 4) avg_participants               0.105953\n",
      " 5) milestones                     0.099494\n",
      " 6) funding_rounds                 0.065877\n",
      " 7) is_top500                      0.043840\n",
      " 8) has_VC                         0.023154\n",
      " 9) has_roundB                     0.021533\n",
      "10) has_roundA                     0.020862\n",
      "11) has_angel                      0.015498\n",
      "12) has_roundC                     0.015030\n",
      "13) has_roundD                     0.011038\n"
     ]
    }
   ],
   "source": [
    "print_feature_importances(tree_classifier=best_model, X_columns=list(X_train.columns))"
   ]
  },
  {
   "cell_type": "code",
   "execution_count": 11,
   "metadata": {},
   "outputs": [
    {
     "data": {
      "image/png": "[encoded data removed]",
      "text/plain": [
       "<Figure size 576x482.4 with 2 Axes>"
      ]
     },
     "metadata": {
      "needs_background": "light"
     },
     "output_type": "display_data"
    }
   ],
   "source": [
    "explainer = shap.TreeExplainer(best_model)\n",
    "shap_values = explainer.shap_values(X_train)\n",
    "shap.summary_plot(shap_values[1], X_train)"
   ]
  },
  {
   "cell_type": "code",
   "execution_count": 12,
   "metadata": {},
   "outputs": [
    {
     "data": {
      "image/png": "[encoded data removed]",
      "text/plain": [
       "<Figure size 540x360 with 2 Axes>"
      ]
     },
     "metadata": {
      "needs_background": "light"
     },
     "output_type": "display_data"
    }
   ],
   "source": [
    "shap.dependence_plot('relationships', shap_values[1], X_train)"
   ]
  },
  {
   "cell_type": "code",
   "execution_count": 13,
   "metadata": {},
   "outputs": [
    {
     "data": {
      "image/png": "[encoded data removed]",
      "text/plain": [
       "<Figure size 540x360 with 2 Axes>"
      ]
     },
     "metadata": {
      "needs_background": "light"
     },
     "output_type": "display_data"
    }
   ],
   "source": [
    "shap.dependence_plot('milestones', shap_values[1], X_train)"
   ]
  },
  {
   "cell_type": "code",
   "execution_count": 14,
   "metadata": {},
   "outputs": [
    {
     "data": {
      "image/png": "[encoded data removed]",
      "text/plain": [
       "<Figure size 540x360 with 2 Axes>"
      ]
     },
     "metadata": {
      "needs_background": "light"
     },
     "output_type": "display_data"
    }
   ],
   "source": [
    "shap.dependence_plot('avg_participants', shap_values[1], X_train)"
   ]
  },
  {
   "cell_type": "code",
   "execution_count": 15,
   "metadata": {},
   "outputs": [
    {
     "data": {
      "image/png": "[encoded data removed]",
      "text/plain": [
       "<Figure size 540x360 with 2 Axes>"
      ]
     },
     "metadata": {
      "needs_background": "light"
     },
     "output_type": "display_data"
    }
   ],
   "source": [
    "shap.dependence_plot('age_last_funding_year', shap_values[1], X_train)"
   ]
  },
  {
   "cell_type": "markdown",
   "metadata": {},
   "source": [
    "### Model evaluation"
   ]
  },
  {
   "cell_type": "code",
   "execution_count": 16,
   "metadata": {},
   "outputs": [
    {
     "name": "stdout",
     "output_type": "stream",
     "text": [
      "Accuracy: 1.0000\n",
      "Recall: 1.0000\n",
      "Precision: 1.0000\n",
      "F1: 1.0000\n"
     ]
    }
   ],
   "source": [
    "y_pred = best_model.predict(X_train)\n",
    "\n",
    "evaluate_classifier(y_train, y_pred)"
   ]
  },
  {
   "cell_type": "code",
   "execution_count": 17,
   "metadata": {},
   "outputs": [
    {
     "name": "stdout",
     "output_type": "stream",
     "text": [
      "Accuracy: 0.7622\n",
      "Recall: 0.8917\n",
      "Precision: 0.7754\n",
      "F1: 0.8295\n"
     ]
    }
   ],
   "source": [
    "y_pred = best_model.predict(X_test)\n",
    "\n",
    "evaluate_classifier(y_test, y_pred)"
   ]
  },
  {
   "cell_type": "code",
   "execution_count": 18,
   "metadata": {},
   "outputs": [
    {
     "data": {
      "text/plain": [
       "array([[ 34,  31],\n",
       "       [ 13, 107]], dtype=int64)"
      ]
     },
     "execution_count": 18,
     "metadata": {},
     "output_type": "execute_result"
    }
   ],
   "source": [
    "confusion_matrix = metrics.confusion_matrix(y_true=y_test, y_pred=y_pred)\n",
    "confusion_matrix"
   ]
  },
  {
   "cell_type": "code",
   "execution_count": 19,
   "metadata": {},
   "outputs": [
    {
     "data": {
      "image/png": "[encoded data removed]",
      "text/plain": [
       "<Figure size 360x288 with 2 Axes>"
      ]
     },
     "metadata": {
      "needs_background": "light"
     },
     "output_type": "display_data"
    }
   ],
   "source": [
    "plot_confusion_matrix(confusion_matrix=confusion_matrix, figsize=(5, 4))"
   ]
  },
  {
   "cell_type": "code",
   "execution_count": 20,
   "metadata": {},
   "outputs": [
    {
     "data": {
      "image/png": "[encoded data removed]",
      "text/plain": [
       "<Figure size 432x288 with 1 Axes>"
      ]
     },
     "metadata": {
      "needs_background": "light"
     },
     "output_type": "display_data"
    }
   ],
   "source": [
    "plot_roc_curve(classifier=best_model, X_test=X_test, y_test=y_test)"
   ]
  },
  {
   "cell_type": "markdown",
   "metadata": {},
   "source": [
    "### Comparing false positives with true positives"
   ]
  },
  {
   "cell_type": "code",
   "execution_count": 21,
   "metadata": {},
   "outputs": [
    {
     "name": "stdout",
     "output_type": "stream",
     "text": [
      "False positives count: 31\n"
     ]
    },
    {
     "data": {
      "text/html": [
       "<div>\n",
       "<style scoped>\n",
       "    .dataframe tbody tr th:only-of-type {\n",
       "        vertical-align: middle;\n",
       "    }\n",
       "\n",
       "    .dataframe tbody tr th {\n",
       "        vertical-align: top;\n",
       "    }\n",
       "\n",
       "    .dataframe thead th {\n",
       "        text-align: right;\n",
       "    }\n",
       "</style>\n",
       "<table border=\"1\" class=\"dataframe\">\n",
       "  <thead>\n",
       "    <tr style=\"text-align: right;\">\n",
       "      <th></th>\n",
       "      <th>age_last_funding_year</th>\n",
       "      <th>relationships</th>\n",
       "      <th>funding_rounds</th>\n",
       "      <th>funding_total_usd</th>\n",
       "      <th>milestones</th>\n",
       "      <th>has_VC</th>\n",
       "      <th>has_angel</th>\n",
       "      <th>has_roundA</th>\n",
       "      <th>has_roundB</th>\n",
       "      <th>has_roundC</th>\n",
       "      <th>has_roundD</th>\n",
       "      <th>avg_participants</th>\n",
       "      <th>is_top500</th>\n",
       "    </tr>\n",
       "  </thead>\n",
       "  <tbody>\n",
       "    <tr>\n",
       "      <th>439</th>\n",
       "      <td>7.1973</td>\n",
       "      <td>6</td>\n",
       "      <td>3</td>\n",
       "      <td>25500100</td>\n",
       "      <td>3</td>\n",
       "      <td>1</td>\n",
       "      <td>0</td>\n",
       "      <td>0</td>\n",
       "      <td>1</td>\n",
       "      <td>0</td>\n",
       "      <td>0</td>\n",
       "      <td>2.50</td>\n",
       "      <td>1</td>\n",
       "    </tr>\n",
       "    <tr>\n",
       "      <th>345</th>\n",
       "      <td>1.3781</td>\n",
       "      <td>7</td>\n",
       "      <td>2</td>\n",
       "      <td>1900000</td>\n",
       "      <td>2</td>\n",
       "      <td>0</td>\n",
       "      <td>1</td>\n",
       "      <td>1</td>\n",
       "      <td>0</td>\n",
       "      <td>0</td>\n",
       "      <td>0</td>\n",
       "      <td>2.50</td>\n",
       "      <td>1</td>\n",
       "    </tr>\n",
       "    <tr>\n",
       "      <th>36</th>\n",
       "      <td>1.5945</td>\n",
       "      <td>8</td>\n",
       "      <td>2</td>\n",
       "      <td>14600000</td>\n",
       "      <td>3</td>\n",
       "      <td>0</td>\n",
       "      <td>0</td>\n",
       "      <td>1</td>\n",
       "      <td>1</td>\n",
       "      <td>0</td>\n",
       "      <td>0</td>\n",
       "      <td>2.00</td>\n",
       "      <td>1</td>\n",
       "    </tr>\n",
       "    <tr>\n",
       "      <th>563</th>\n",
       "      <td>0.7945</td>\n",
       "      <td>7</td>\n",
       "      <td>1</td>\n",
       "      <td>4000000</td>\n",
       "      <td>4</td>\n",
       "      <td>0</td>\n",
       "      <td>0</td>\n",
       "      <td>1</td>\n",
       "      <td>0</td>\n",
       "      <td>0</td>\n",
       "      <td>0</td>\n",
       "      <td>1.00</td>\n",
       "      <td>0</td>\n",
       "    </tr>\n",
       "    <tr>\n",
       "      <th>831</th>\n",
       "      <td>6.1233</td>\n",
       "      <td>5</td>\n",
       "      <td>4</td>\n",
       "      <td>11400000</td>\n",
       "      <td>1</td>\n",
       "      <td>1</td>\n",
       "      <td>0</td>\n",
       "      <td>0</td>\n",
       "      <td>1</td>\n",
       "      <td>0</td>\n",
       "      <td>0</td>\n",
       "      <td>3.00</td>\n",
       "      <td>1</td>\n",
       "    </tr>\n",
       "    <tr>\n",
       "      <th>105</th>\n",
       "      <td>4.8329</td>\n",
       "      <td>4</td>\n",
       "      <td>2</td>\n",
       "      <td>5000000</td>\n",
       "      <td>6</td>\n",
       "      <td>0</td>\n",
       "      <td>0</td>\n",
       "      <td>1</td>\n",
       "      <td>1</td>\n",
       "      <td>0</td>\n",
       "      <td>0</td>\n",
       "      <td>1.00</td>\n",
       "      <td>0</td>\n",
       "    </tr>\n",
       "    <tr>\n",
       "      <th>21</th>\n",
       "      <td>3.8329</td>\n",
       "      <td>3</td>\n",
       "      <td>1</td>\n",
       "      <td>15000000</td>\n",
       "      <td>1</td>\n",
       "      <td>0</td>\n",
       "      <td>0</td>\n",
       "      <td>0</td>\n",
       "      <td>1</td>\n",
       "      <td>0</td>\n",
       "      <td>0</td>\n",
       "      <td>2.00</td>\n",
       "      <td>1</td>\n",
       "    </tr>\n",
       "    <tr>\n",
       "      <th>66</th>\n",
       "      <td>1.0877</td>\n",
       "      <td>5</td>\n",
       "      <td>1</td>\n",
       "      <td>20500000</td>\n",
       "      <td>0</td>\n",
       "      <td>1</td>\n",
       "      <td>0</td>\n",
       "      <td>0</td>\n",
       "      <td>0</td>\n",
       "      <td>0</td>\n",
       "      <td>0</td>\n",
       "      <td>4.00</td>\n",
       "      <td>1</td>\n",
       "    </tr>\n",
       "    <tr>\n",
       "      <th>5</th>\n",
       "      <td>4.5452</td>\n",
       "      <td>3</td>\n",
       "      <td>1</td>\n",
       "      <td>7500000</td>\n",
       "      <td>1</td>\n",
       "      <td>0</td>\n",
       "      <td>0</td>\n",
       "      <td>0</td>\n",
       "      <td>1</td>\n",
       "      <td>0</td>\n",
       "      <td>0</td>\n",
       "      <td>3.00</td>\n",
       "      <td>1</td>\n",
       "    </tr>\n",
       "    <tr>\n",
       "      <th>202</th>\n",
       "      <td>5.5616</td>\n",
       "      <td>8</td>\n",
       "      <td>4</td>\n",
       "      <td>32500000</td>\n",
       "      <td>3</td>\n",
       "      <td>0</td>\n",
       "      <td>0</td>\n",
       "      <td>1</td>\n",
       "      <td>1</td>\n",
       "      <td>1</td>\n",
       "      <td>1</td>\n",
       "      <td>2.75</td>\n",
       "      <td>1</td>\n",
       "    </tr>\n",
       "    <tr>\n",
       "      <th>561</th>\n",
       "      <td>6.4767</td>\n",
       "      <td>4</td>\n",
       "      <td>5</td>\n",
       "      <td>21138876</td>\n",
       "      <td>0</td>\n",
       "      <td>1</td>\n",
       "      <td>0</td>\n",
       "      <td>1</td>\n",
       "      <td>1</td>\n",
       "      <td>0</td>\n",
       "      <td>0</td>\n",
       "      <td>2.00</td>\n",
       "      <td>1</td>\n",
       "    </tr>\n",
       "    <tr>\n",
       "      <th>139</th>\n",
       "      <td>0.5726</td>\n",
       "      <td>12</td>\n",
       "      <td>1</td>\n",
       "      <td>15000000</td>\n",
       "      <td>2</td>\n",
       "      <td>0</td>\n",
       "      <td>0</td>\n",
       "      <td>1</td>\n",
       "      <td>0</td>\n",
       "      <td>0</td>\n",
       "      <td>0</td>\n",
       "      <td>3.00</td>\n",
       "      <td>0</td>\n",
       "    </tr>\n",
       "    <tr>\n",
       "      <th>472</th>\n",
       "      <td>1.8301</td>\n",
       "      <td>4</td>\n",
       "      <td>1</td>\n",
       "      <td>1700000</td>\n",
       "      <td>2</td>\n",
       "      <td>0</td>\n",
       "      <td>0</td>\n",
       "      <td>0</td>\n",
       "      <td>0</td>\n",
       "      <td>0</td>\n",
       "      <td>0</td>\n",
       "      <td>7.00</td>\n",
       "      <td>1</td>\n",
       "    </tr>\n",
       "    <tr>\n",
       "      <th>411</th>\n",
       "      <td>7.1973</td>\n",
       "      <td>3</td>\n",
       "      <td>4</td>\n",
       "      <td>28000000</td>\n",
       "      <td>2</td>\n",
       "      <td>1</td>\n",
       "      <td>0</td>\n",
       "      <td>0</td>\n",
       "      <td>1</td>\n",
       "      <td>1</td>\n",
       "      <td>0</td>\n",
       "      <td>3.00</td>\n",
       "      <td>1</td>\n",
       "    </tr>\n",
       "    <tr>\n",
       "      <th>704</th>\n",
       "      <td>5.0685</td>\n",
       "      <td>2</td>\n",
       "      <td>3</td>\n",
       "      <td>30926154</td>\n",
       "      <td>0</td>\n",
       "      <td>0</td>\n",
       "      <td>0</td>\n",
       "      <td>0</td>\n",
       "      <td>1</td>\n",
       "      <td>0</td>\n",
       "      <td>0</td>\n",
       "      <td>3.00</td>\n",
       "      <td>1</td>\n",
       "    </tr>\n",
       "    <tr>\n",
       "      <th>584</th>\n",
       "      <td>0.3945</td>\n",
       "      <td>5</td>\n",
       "      <td>3</td>\n",
       "      <td>11300000</td>\n",
       "      <td>2</td>\n",
       "      <td>1</td>\n",
       "      <td>0</td>\n",
       "      <td>0</td>\n",
       "      <td>1</td>\n",
       "      <td>1</td>\n",
       "      <td>0</td>\n",
       "      <td>1.00</td>\n",
       "      <td>1</td>\n",
       "    </tr>\n",
       "    <tr>\n",
       "      <th>758</th>\n",
       "      <td>0.8521</td>\n",
       "      <td>3</td>\n",
       "      <td>1</td>\n",
       "      <td>500000</td>\n",
       "      <td>3</td>\n",
       "      <td>0</td>\n",
       "      <td>1</td>\n",
       "      <td>0</td>\n",
       "      <td>0</td>\n",
       "      <td>0</td>\n",
       "      <td>0</td>\n",
       "      <td>3.00</td>\n",
       "      <td>1</td>\n",
       "    </tr>\n",
       "    <tr>\n",
       "      <th>333</th>\n",
       "      <td>11.4329</td>\n",
       "      <td>1</td>\n",
       "      <td>1</td>\n",
       "      <td>20000000</td>\n",
       "      <td>0</td>\n",
       "      <td>0</td>\n",
       "      <td>0</td>\n",
       "      <td>0</td>\n",
       "      <td>0</td>\n",
       "      <td>1</td>\n",
       "      <td>0</td>\n",
       "      <td>5.00</td>\n",
       "      <td>1</td>\n",
       "    </tr>\n",
       "    <tr>\n",
       "      <th>197</th>\n",
       "      <td>5.5836</td>\n",
       "      <td>2</td>\n",
       "      <td>2</td>\n",
       "      <td>48000000</td>\n",
       "      <td>0</td>\n",
       "      <td>0</td>\n",
       "      <td>0</td>\n",
       "      <td>0</td>\n",
       "      <td>0</td>\n",
       "      <td>1</td>\n",
       "      <td>1</td>\n",
       "      <td>6.00</td>\n",
       "      <td>1</td>\n",
       "    </tr>\n",
       "    <tr>\n",
       "      <th>515</th>\n",
       "      <td>3.2877</td>\n",
       "      <td>13</td>\n",
       "      <td>2</td>\n",
       "      <td>33000000</td>\n",
       "      <td>4</td>\n",
       "      <td>0</td>\n",
       "      <td>0</td>\n",
       "      <td>1</td>\n",
       "      <td>1</td>\n",
       "      <td>0</td>\n",
       "      <td>0</td>\n",
       "      <td>2.50</td>\n",
       "      <td>1</td>\n",
       "    </tr>\n",
       "    <tr>\n",
       "      <th>402</th>\n",
       "      <td>4.2959</td>\n",
       "      <td>3</td>\n",
       "      <td>1</td>\n",
       "      <td>5000000</td>\n",
       "      <td>1</td>\n",
       "      <td>1</td>\n",
       "      <td>0</td>\n",
       "      <td>0</td>\n",
       "      <td>0</td>\n",
       "      <td>0</td>\n",
       "      <td>0</td>\n",
       "      <td>5.00</td>\n",
       "      <td>1</td>\n",
       "    </tr>\n",
       "    <tr>\n",
       "      <th>673</th>\n",
       "      <td>7.8603</td>\n",
       "      <td>2</td>\n",
       "      <td>2</td>\n",
       "      <td>28500000</td>\n",
       "      <td>0</td>\n",
       "      <td>1</td>\n",
       "      <td>0</td>\n",
       "      <td>0</td>\n",
       "      <td>1</td>\n",
       "      <td>0</td>\n",
       "      <td>0</td>\n",
       "      <td>4.50</td>\n",
       "      <td>1</td>\n",
       "    </tr>\n",
       "    <tr>\n",
       "      <th>617</th>\n",
       "      <td>0.4932</td>\n",
       "      <td>8</td>\n",
       "      <td>1</td>\n",
       "      <td>5000000</td>\n",
       "      <td>1</td>\n",
       "      <td>0</td>\n",
       "      <td>0</td>\n",
       "      <td>1</td>\n",
       "      <td>0</td>\n",
       "      <td>0</td>\n",
       "      <td>0</td>\n",
       "      <td>1.00</td>\n",
       "      <td>0</td>\n",
       "    </tr>\n",
       "    <tr>\n",
       "      <th>847</th>\n",
       "      <td>2.2493</td>\n",
       "      <td>3</td>\n",
       "      <td>2</td>\n",
       "      <td>350000</td>\n",
       "      <td>1</td>\n",
       "      <td>0</td>\n",
       "      <td>1</td>\n",
       "      <td>0</td>\n",
       "      <td>0</td>\n",
       "      <td>0</td>\n",
       "      <td>0</td>\n",
       "      <td>1.00</td>\n",
       "      <td>1</td>\n",
       "    </tr>\n",
       "    <tr>\n",
       "      <th>375</th>\n",
       "      <td>0.3616</td>\n",
       "      <td>9</td>\n",
       "      <td>1</td>\n",
       "      <td>100000</td>\n",
       "      <td>3</td>\n",
       "      <td>0</td>\n",
       "      <td>1</td>\n",
       "      <td>0</td>\n",
       "      <td>0</td>\n",
       "      <td>0</td>\n",
       "      <td>0</td>\n",
       "      <td>1.00</td>\n",
       "      <td>0</td>\n",
       "    </tr>\n",
       "    <tr>\n",
       "      <th>206</th>\n",
       "      <td>1.4986</td>\n",
       "      <td>3</td>\n",
       "      <td>2</td>\n",
       "      <td>4700000</td>\n",
       "      <td>4</td>\n",
       "      <td>0</td>\n",
       "      <td>1</td>\n",
       "      <td>1</td>\n",
       "      <td>0</td>\n",
       "      <td>0</td>\n",
       "      <td>0</td>\n",
       "      <td>1.50</td>\n",
       "      <td>1</td>\n",
       "    </tr>\n",
       "    <tr>\n",
       "      <th>325</th>\n",
       "      <td>1.4055</td>\n",
       "      <td>3</td>\n",
       "      <td>2</td>\n",
       "      <td>200000</td>\n",
       "      <td>2</td>\n",
       "      <td>0</td>\n",
       "      <td>1</td>\n",
       "      <td>1</td>\n",
       "      <td>0</td>\n",
       "      <td>0</td>\n",
       "      <td>0</td>\n",
       "      <td>2.00</td>\n",
       "      <td>1</td>\n",
       "    </tr>\n",
       "    <tr>\n",
       "      <th>899</th>\n",
       "      <td>2.4685</td>\n",
       "      <td>3</td>\n",
       "      <td>2</td>\n",
       "      <td>1800000</td>\n",
       "      <td>2</td>\n",
       "      <td>1</td>\n",
       "      <td>1</td>\n",
       "      <td>0</td>\n",
       "      <td>0</td>\n",
       "      <td>0</td>\n",
       "      <td>0</td>\n",
       "      <td>5.00</td>\n",
       "      <td>1</td>\n",
       "    </tr>\n",
       "    <tr>\n",
       "      <th>707</th>\n",
       "      <td>6.7534</td>\n",
       "      <td>2</td>\n",
       "      <td>3</td>\n",
       "      <td>33000000</td>\n",
       "      <td>1</td>\n",
       "      <td>0</td>\n",
       "      <td>0</td>\n",
       "      <td>1</td>\n",
       "      <td>1</td>\n",
       "      <td>1</td>\n",
       "      <td>0</td>\n",
       "      <td>4.00</td>\n",
       "      <td>1</td>\n",
       "    </tr>\n",
       "    <tr>\n",
       "      <th>601</th>\n",
       "      <td>3.6493</td>\n",
       "      <td>2</td>\n",
       "      <td>1</td>\n",
       "      <td>21000000</td>\n",
       "      <td>0</td>\n",
       "      <td>0</td>\n",
       "      <td>0</td>\n",
       "      <td>0</td>\n",
       "      <td>0</td>\n",
       "      <td>1</td>\n",
       "      <td>0</td>\n",
       "      <td>4.00</td>\n",
       "      <td>1</td>\n",
       "    </tr>\n",
       "    <tr>\n",
       "      <th>230</th>\n",
       "      <td>2.1890</td>\n",
       "      <td>32</td>\n",
       "      <td>1</td>\n",
       "      <td>9000000</td>\n",
       "      <td>0</td>\n",
       "      <td>0</td>\n",
       "      <td>0</td>\n",
       "      <td>0</td>\n",
       "      <td>1</td>\n",
       "      <td>0</td>\n",
       "      <td>0</td>\n",
       "      <td>4.00</td>\n",
       "      <td>1</td>\n",
       "    </tr>\n",
       "  </tbody>\n",
       "</table>\n",
       "</div>"
      ],
      "text/plain": [
       "     age_last_funding_year  relationships  funding_rounds  funding_total_usd  \\\n",
       "439                 7.1973              6               3           25500100   \n",
       "345                 1.3781              7               2            1900000   \n",
       "36                  1.5945              8               2           14600000   \n",
       "563                 0.7945              7               1            4000000   \n",
       "831                 6.1233              5               4           11400000   \n",
       "105                 4.8329              4               2            5000000   \n",
       "21                  3.8329              3               1           15000000   \n",
       "66                  1.0877              5               1           20500000   \n",
       "5                   4.5452              3               1            7500000   \n",
       "202                 5.5616              8               4           32500000   \n",
       "561                 6.4767              4               5           21138876   \n",
       "139                 0.5726             12               1           15000000   \n",
       "472                 1.8301              4               1            1700000   \n",
       "411                 7.1973              3               4           28000000   \n",
       "704                 5.0685              2               3           30926154   \n",
       "584                 0.3945              5               3           11300000   \n",
       "758                 0.8521              3               1             500000   \n",
       "333                11.4329              1               1           20000000   \n",
       "197                 5.5836              2               2           48000000   \n",
       "515                 3.2877             13               2           33000000   \n",
       "402                 4.2959              3               1            5000000   \n",
       "673                 7.8603              2               2           28500000   \n",
       "617                 0.4932              8               1            5000000   \n",
       "847                 2.2493              3               2             350000   \n",
       "375                 0.3616              9               1             100000   \n",
       "206                 1.4986              3               2            4700000   \n",
       "325                 1.4055              3               2             200000   \n",
       "899                 2.4685              3               2            1800000   \n",
       "707                 6.7534              2               3           33000000   \n",
       "601                 3.6493              2               1           21000000   \n",
       "230                 2.1890             32               1            9000000   \n",
       "\n",
       "     milestones  has_VC  has_angel  has_roundA  has_roundB  has_roundC  \\\n",
       "439           3       1          0           0           1           0   \n",
       "345           2       0          1           1           0           0   \n",
       "36            3       0          0           1           1           0   \n",
       "563           4       0          0           1           0           0   \n",
       "831           1       1          0           0           1           0   \n",
       "105           6       0          0           1           1           0   \n",
       "21            1       0          0           0           1           0   \n",
       "66            0       1          0           0           0           0   \n",
       "5             1       0          0           0           1           0   \n",
       "202           3       0          0           1           1           1   \n",
       "561           0       1          0           1           1           0   \n",
       "139           2       0          0           1           0           0   \n",
       "472           2       0          0           0           0           0   \n",
       "411           2       1          0           0           1           1   \n",
       "704           0       0          0           0           1           0   \n",
       "584           2       1          0           0           1           1   \n",
       "758           3       0          1           0           0           0   \n",
       "333           0       0          0           0           0           1   \n",
       "197           0       0          0           0           0           1   \n",
       "515           4       0          0           1           1           0   \n",
       "402           1       1          0           0           0           0   \n",
       "673           0       1          0           0           1           0   \n",
       "617           1       0          0           1           0           0   \n",
       "847           1       0          1           0           0           0   \n",
       "375           3       0          1           0           0           0   \n",
       "206           4       0          1           1           0           0   \n",
       "325           2       0          1           1           0           0   \n",
       "899           2       1          1           0           0           0   \n",
       "707           1       0          0           1           1           1   \n",
       "601           0       0          0           0           0           1   \n",
       "230           0       0          0           0           1           0   \n",
       "\n",
       "     has_roundD  avg_participants  is_top500  \n",
       "439           0              2.50          1  \n",
       "345           0              2.50          1  \n",
       "36            0              2.00          1  \n",
       "563           0              1.00          0  \n",
       "831           0              3.00          1  \n",
       "105           0              1.00          0  \n",
       "21            0              2.00          1  \n",
       "66            0              4.00          1  \n",
       "5             0              3.00          1  \n",
       "202           1              2.75          1  \n",
       "561           0              2.00          1  \n",
       "139           0              3.00          0  \n",
       "472           0              7.00          1  \n",
       "411           0              3.00          1  \n",
       "704           0              3.00          1  \n",
       "584           0              1.00          1  \n",
       "758           0              3.00          1  \n",
       "333           0              5.00          1  \n",
       "197           1              6.00          1  \n",
       "515           0              2.50          1  \n",
       "402           0              5.00          1  \n",
       "673           0              4.50          1  \n",
       "617           0              1.00          0  \n",
       "847           0              1.00          1  \n",
       "375           0              1.00          0  \n",
       "206           0              1.50          1  \n",
       "325           0              2.00          1  \n",
       "899           0              5.00          1  \n",
       "707           0              4.00          1  \n",
       "601           0              4.00          1  \n",
       "230           0              4.00          1  "
      ]
     },
     "execution_count": 21,
     "metadata": {},
     "output_type": "execute_result"
    }
   ],
   "source": [
    "y_test_arr = y_test.to_numpy()\n",
    "false_positives = (y_test_arr != y_pred) & (y_test_arr == 0)\n",
    "df_false_positives = X_test[false_positives]\n",
    "print(f'False positives count: {len(df_false_positives)}')\n",
    "df_false_positives"
   ]
  },
  {
   "cell_type": "code",
   "execution_count": 22,
   "metadata": {},
   "outputs": [
    {
     "name": "stdout",
     "output_type": "stream",
     "text": [
      "True positives count: 107\n"
     ]
    },
    {
     "data": {
      "text/html": [
       "<div>\n",
       "<style scoped>\n",
       "    .dataframe tbody tr th:only-of-type {\n",
       "        vertical-align: middle;\n",
       "    }\n",
       "\n",
       "    .dataframe tbody tr th {\n",
       "        vertical-align: top;\n",
       "    }\n",
       "\n",
       "    .dataframe thead th {\n",
       "        text-align: right;\n",
       "    }\n",
       "</style>\n",
       "<table border=\"1\" class=\"dataframe\">\n",
       "  <thead>\n",
       "    <tr style=\"text-align: right;\">\n",
       "      <th></th>\n",
       "      <th>age_last_funding_year</th>\n",
       "      <th>relationships</th>\n",
       "      <th>funding_rounds</th>\n",
       "      <th>funding_total_usd</th>\n",
       "      <th>milestones</th>\n",
       "      <th>has_VC</th>\n",
       "      <th>has_angel</th>\n",
       "      <th>has_roundA</th>\n",
       "      <th>has_roundB</th>\n",
       "      <th>has_roundC</th>\n",
       "      <th>has_roundD</th>\n",
       "      <th>avg_participants</th>\n",
       "      <th>is_top500</th>\n",
       "    </tr>\n",
       "  </thead>\n",
       "  <tbody>\n",
       "    <tr>\n",
       "      <th>371</th>\n",
       "      <td>2.0685</td>\n",
       "      <td>3</td>\n",
       "      <td>1</td>\n",
       "      <td>25000000</td>\n",
       "      <td>1</td>\n",
       "      <td>0</td>\n",
       "      <td>0</td>\n",
       "      <td>0</td>\n",
       "      <td>0</td>\n",
       "      <td>0</td>\n",
       "      <td>1</td>\n",
       "      <td>5.0000</td>\n",
       "      <td>1</td>\n",
       "    </tr>\n",
       "    <tr>\n",
       "      <th>621</th>\n",
       "      <td>5.6438</td>\n",
       "      <td>9</td>\n",
       "      <td>1</td>\n",
       "      <td>12700000</td>\n",
       "      <td>2</td>\n",
       "      <td>0</td>\n",
       "      <td>0</td>\n",
       "      <td>0</td>\n",
       "      <td>0</td>\n",
       "      <td>0</td>\n",
       "      <td>1</td>\n",
       "      <td>4.0000</td>\n",
       "      <td>1</td>\n",
       "    </tr>\n",
       "    <tr>\n",
       "      <th>156</th>\n",
       "      <td>4.7068</td>\n",
       "      <td>17</td>\n",
       "      <td>1</td>\n",
       "      <td>940261</td>\n",
       "      <td>2</td>\n",
       "      <td>0</td>\n",
       "      <td>0</td>\n",
       "      <td>1</td>\n",
       "      <td>0</td>\n",
       "      <td>0</td>\n",
       "      <td>0</td>\n",
       "      <td>1.0000</td>\n",
       "      <td>1</td>\n",
       "    </tr>\n",
       "    <tr>\n",
       "      <th>324</th>\n",
       "      <td>0.7041</td>\n",
       "      <td>5</td>\n",
       "      <td>2</td>\n",
       "      <td>1000000</td>\n",
       "      <td>3</td>\n",
       "      <td>1</td>\n",
       "      <td>0</td>\n",
       "      <td>1</td>\n",
       "      <td>0</td>\n",
       "      <td>0</td>\n",
       "      <td>0</td>\n",
       "      <td>5.5000</td>\n",
       "      <td>1</td>\n",
       "    </tr>\n",
       "    <tr>\n",
       "      <th>349</th>\n",
       "      <td>7.1205</td>\n",
       "      <td>3</td>\n",
       "      <td>1</td>\n",
       "      <td>18800000</td>\n",
       "      <td>0</td>\n",
       "      <td>0</td>\n",
       "      <td>0</td>\n",
       "      <td>0</td>\n",
       "      <td>0</td>\n",
       "      <td>1</td>\n",
       "      <td>0</td>\n",
       "      <td>7.0000</td>\n",
       "      <td>1</td>\n",
       "    </tr>\n",
       "    <tr>\n",
       "      <th>...</th>\n",
       "      <td>...</td>\n",
       "      <td>...</td>\n",
       "      <td>...</td>\n",
       "      <td>...</td>\n",
       "      <td>...</td>\n",
       "      <td>...</td>\n",
       "      <td>...</td>\n",
       "      <td>...</td>\n",
       "      <td>...</td>\n",
       "      <td>...</td>\n",
       "      <td>...</td>\n",
       "      <td>...</td>\n",
       "      <td>...</td>\n",
       "    </tr>\n",
       "    <tr>\n",
       "      <th>509</th>\n",
       "      <td>3.1425</td>\n",
       "      <td>30</td>\n",
       "      <td>2</td>\n",
       "      <td>6875000</td>\n",
       "      <td>5</td>\n",
       "      <td>1</td>\n",
       "      <td>0</td>\n",
       "      <td>1</td>\n",
       "      <td>0</td>\n",
       "      <td>0</td>\n",
       "      <td>0</td>\n",
       "      <td>7.0000</td>\n",
       "      <td>1</td>\n",
       "    </tr>\n",
       "    <tr>\n",
       "      <th>261</th>\n",
       "      <td>8.1260</td>\n",
       "      <td>13</td>\n",
       "      <td>2</td>\n",
       "      <td>24500000</td>\n",
       "      <td>2</td>\n",
       "      <td>0</td>\n",
       "      <td>0</td>\n",
       "      <td>0</td>\n",
       "      <td>0</td>\n",
       "      <td>0</td>\n",
       "      <td>0</td>\n",
       "      <td>5.5000</td>\n",
       "      <td>1</td>\n",
       "    </tr>\n",
       "    <tr>\n",
       "      <th>699</th>\n",
       "      <td>4.1644</td>\n",
       "      <td>19</td>\n",
       "      <td>4</td>\n",
       "      <td>33000000</td>\n",
       "      <td>4</td>\n",
       "      <td>0</td>\n",
       "      <td>0</td>\n",
       "      <td>1</td>\n",
       "      <td>1</td>\n",
       "      <td>1</td>\n",
       "      <td>1</td>\n",
       "      <td>1.3333</td>\n",
       "      <td>1</td>\n",
       "    </tr>\n",
       "    <tr>\n",
       "      <th>799</th>\n",
       "      <td>2.9370</td>\n",
       "      <td>6</td>\n",
       "      <td>2</td>\n",
       "      <td>2250000</td>\n",
       "      <td>2</td>\n",
       "      <td>1</td>\n",
       "      <td>0</td>\n",
       "      <td>0</td>\n",
       "      <td>0</td>\n",
       "      <td>0</td>\n",
       "      <td>0</td>\n",
       "      <td>8.5000</td>\n",
       "      <td>1</td>\n",
       "    </tr>\n",
       "    <tr>\n",
       "      <th>608</th>\n",
       "      <td>3.0575</td>\n",
       "      <td>3</td>\n",
       "      <td>2</td>\n",
       "      <td>5550000</td>\n",
       "      <td>1</td>\n",
       "      <td>0</td>\n",
       "      <td>1</td>\n",
       "      <td>1</td>\n",
       "      <td>0</td>\n",
       "      <td>0</td>\n",
       "      <td>0</td>\n",
       "      <td>1.0000</td>\n",
       "      <td>1</td>\n",
       "    </tr>\n",
       "  </tbody>\n",
       "</table>\n",
       "<p>107 rows × 13 columns</p>\n",
       "</div>"
      ],
      "text/plain": [
       "     age_last_funding_year  relationships  funding_rounds  funding_total_usd  \\\n",
       "371                 2.0685              3               1           25000000   \n",
       "621                 5.6438              9               1           12700000   \n",
       "156                 4.7068             17               1             940261   \n",
       "324                 0.7041              5               2            1000000   \n",
       "349                 7.1205              3               1           18800000   \n",
       "..                     ...            ...             ...                ...   \n",
       "509                 3.1425             30               2            6875000   \n",
       "261                 8.1260             13               2           24500000   \n",
       "699                 4.1644             19               4           33000000   \n",
       "799                 2.9370              6               2            2250000   \n",
       "608                 3.0575              3               2            5550000   \n",
       "\n",
       "     milestones  has_VC  has_angel  has_roundA  has_roundB  has_roundC  \\\n",
       "371           1       0          0           0           0           0   \n",
       "621           2       0          0           0           0           0   \n",
       "156           2       0          0           1           0           0   \n",
       "324           3       1          0           1           0           0   \n",
       "349           0       0          0           0           0           1   \n",
       "..          ...     ...        ...         ...         ...         ...   \n",
       "509           5       1          0           1           0           0   \n",
       "261           2       0          0           0           0           0   \n",
       "699           4       0          0           1           1           1   \n",
       "799           2       1          0           0           0           0   \n",
       "608           1       0          1           1           0           0   \n",
       "\n",
       "     has_roundD  avg_participants  is_top500  \n",
       "371           1            5.0000          1  \n",
       "621           1            4.0000          1  \n",
       "156           0            1.0000          1  \n",
       "324           0            5.5000          1  \n",
       "349           0            7.0000          1  \n",
       "..          ...               ...        ...  \n",
       "509           0            7.0000          1  \n",
       "261           0            5.5000          1  \n",
       "699           1            1.3333          1  \n",
       "799           0            8.5000          1  \n",
       "608           0            1.0000          1  \n",
       "\n",
       "[107 rows x 13 columns]"
      ]
     },
     "execution_count": 22,
     "metadata": {},
     "output_type": "execute_result"
    }
   ],
   "source": [
    "true_positives = (y_test_arr == y_pred) & (y_test_arr == 1)\n",
    "df_true_positives = X_test[true_positives]\n",
    "print(f'True positives count: {len(df_true_positives)}')\n",
    "df_true_positives"
   ]
  },
  {
   "cell_type": "code",
   "execution_count": 23,
   "metadata": {},
   "outputs": [
    {
     "data": {
      "text/html": [
       "<div>\n",
       "<style scoped>\n",
       "    .dataframe tbody tr th:only-of-type {\n",
       "        vertical-align: middle;\n",
       "    }\n",
       "\n",
       "    .dataframe tbody tr th {\n",
       "        vertical-align: top;\n",
       "    }\n",
       "\n",
       "    .dataframe thead th {\n",
       "        text-align: right;\n",
       "    }\n",
       "</style>\n",
       "<table border=\"1\" class=\"dataframe\">\n",
       "  <thead>\n",
       "    <tr style=\"text-align: right;\">\n",
       "      <th></th>\n",
       "      <th>age_last_funding_year</th>\n",
       "      <th>relationships</th>\n",
       "      <th>funding_rounds</th>\n",
       "      <th>funding_total_usd</th>\n",
       "      <th>milestones</th>\n",
       "      <th>has_VC</th>\n",
       "      <th>has_angel</th>\n",
       "      <th>has_roundA</th>\n",
       "      <th>has_roundB</th>\n",
       "      <th>has_roundC</th>\n",
       "      <th>has_roundD</th>\n",
       "      <th>avg_participants</th>\n",
       "      <th>is_top500</th>\n",
       "      <th>prediction</th>\n",
       "      <th>ground_truth</th>\n",
       "    </tr>\n",
       "  </thead>\n",
       "  <tbody>\n",
       "    <tr>\n",
       "      <th>439</th>\n",
       "      <td>7.1973</td>\n",
       "      <td>6</td>\n",
       "      <td>3</td>\n",
       "      <td>25500100</td>\n",
       "      <td>3</td>\n",
       "      <td>1</td>\n",
       "      <td>0</td>\n",
       "      <td>0</td>\n",
       "      <td>1</td>\n",
       "      <td>0</td>\n",
       "      <td>0</td>\n",
       "      <td>2.5000</td>\n",
       "      <td>1</td>\n",
       "      <td>1</td>\n",
       "      <td>0</td>\n",
       "    </tr>\n",
       "    <tr>\n",
       "      <th>345</th>\n",
       "      <td>1.3781</td>\n",
       "      <td>7</td>\n",
       "      <td>2</td>\n",
       "      <td>1900000</td>\n",
       "      <td>2</td>\n",
       "      <td>0</td>\n",
       "      <td>1</td>\n",
       "      <td>1</td>\n",
       "      <td>0</td>\n",
       "      <td>0</td>\n",
       "      <td>0</td>\n",
       "      <td>2.5000</td>\n",
       "      <td>1</td>\n",
       "      <td>1</td>\n",
       "      <td>0</td>\n",
       "    </tr>\n",
       "    <tr>\n",
       "      <th>36</th>\n",
       "      <td>1.5945</td>\n",
       "      <td>8</td>\n",
       "      <td>2</td>\n",
       "      <td>14600000</td>\n",
       "      <td>3</td>\n",
       "      <td>0</td>\n",
       "      <td>0</td>\n",
       "      <td>1</td>\n",
       "      <td>1</td>\n",
       "      <td>0</td>\n",
       "      <td>0</td>\n",
       "      <td>2.0000</td>\n",
       "      <td>1</td>\n",
       "      <td>1</td>\n",
       "      <td>0</td>\n",
       "    </tr>\n",
       "    <tr>\n",
       "      <th>563</th>\n",
       "      <td>0.7945</td>\n",
       "      <td>7</td>\n",
       "      <td>1</td>\n",
       "      <td>4000000</td>\n",
       "      <td>4</td>\n",
       "      <td>0</td>\n",
       "      <td>0</td>\n",
       "      <td>1</td>\n",
       "      <td>0</td>\n",
       "      <td>0</td>\n",
       "      <td>0</td>\n",
       "      <td>1.0000</td>\n",
       "      <td>0</td>\n",
       "      <td>1</td>\n",
       "      <td>0</td>\n",
       "    </tr>\n",
       "    <tr>\n",
       "      <th>831</th>\n",
       "      <td>6.1233</td>\n",
       "      <td>5</td>\n",
       "      <td>4</td>\n",
       "      <td>11400000</td>\n",
       "      <td>1</td>\n",
       "      <td>1</td>\n",
       "      <td>0</td>\n",
       "      <td>0</td>\n",
       "      <td>1</td>\n",
       "      <td>0</td>\n",
       "      <td>0</td>\n",
       "      <td>3.0000</td>\n",
       "      <td>1</td>\n",
       "      <td>1</td>\n",
       "      <td>0</td>\n",
       "    </tr>\n",
       "    <tr>\n",
       "      <th>...</th>\n",
       "      <td>...</td>\n",
       "      <td>...</td>\n",
       "      <td>...</td>\n",
       "      <td>...</td>\n",
       "      <td>...</td>\n",
       "      <td>...</td>\n",
       "      <td>...</td>\n",
       "      <td>...</td>\n",
       "      <td>...</td>\n",
       "      <td>...</td>\n",
       "      <td>...</td>\n",
       "      <td>...</td>\n",
       "      <td>...</td>\n",
       "      <td>...</td>\n",
       "      <td>...</td>\n",
       "    </tr>\n",
       "    <tr>\n",
       "      <th>509</th>\n",
       "      <td>3.1425</td>\n",
       "      <td>30</td>\n",
       "      <td>2</td>\n",
       "      <td>6875000</td>\n",
       "      <td>5</td>\n",
       "      <td>1</td>\n",
       "      <td>0</td>\n",
       "      <td>1</td>\n",
       "      <td>0</td>\n",
       "      <td>0</td>\n",
       "      <td>0</td>\n",
       "      <td>7.0000</td>\n",
       "      <td>1</td>\n",
       "      <td>1</td>\n",
       "      <td>1</td>\n",
       "    </tr>\n",
       "    <tr>\n",
       "      <th>261</th>\n",
       "      <td>8.1260</td>\n",
       "      <td>13</td>\n",
       "      <td>2</td>\n",
       "      <td>24500000</td>\n",
       "      <td>2</td>\n",
       "      <td>0</td>\n",
       "      <td>0</td>\n",
       "      <td>0</td>\n",
       "      <td>0</td>\n",
       "      <td>0</td>\n",
       "      <td>0</td>\n",
       "      <td>5.5000</td>\n",
       "      <td>1</td>\n",
       "      <td>1</td>\n",
       "      <td>1</td>\n",
       "    </tr>\n",
       "    <tr>\n",
       "      <th>699</th>\n",
       "      <td>4.1644</td>\n",
       "      <td>19</td>\n",
       "      <td>4</td>\n",
       "      <td>33000000</td>\n",
       "      <td>4</td>\n",
       "      <td>0</td>\n",
       "      <td>0</td>\n",
       "      <td>1</td>\n",
       "      <td>1</td>\n",
       "      <td>1</td>\n",
       "      <td>1</td>\n",
       "      <td>1.3333</td>\n",
       "      <td>1</td>\n",
       "      <td>1</td>\n",
       "      <td>1</td>\n",
       "    </tr>\n",
       "    <tr>\n",
       "      <th>799</th>\n",
       "      <td>2.9370</td>\n",
       "      <td>6</td>\n",
       "      <td>2</td>\n",
       "      <td>2250000</td>\n",
       "      <td>2</td>\n",
       "      <td>1</td>\n",
       "      <td>0</td>\n",
       "      <td>0</td>\n",
       "      <td>0</td>\n",
       "      <td>0</td>\n",
       "      <td>0</td>\n",
       "      <td>8.5000</td>\n",
       "      <td>1</td>\n",
       "      <td>1</td>\n",
       "      <td>1</td>\n",
       "    </tr>\n",
       "    <tr>\n",
       "      <th>608</th>\n",
       "      <td>3.0575</td>\n",
       "      <td>3</td>\n",
       "      <td>2</td>\n",
       "      <td>5550000</td>\n",
       "      <td>1</td>\n",
       "      <td>0</td>\n",
       "      <td>1</td>\n",
       "      <td>1</td>\n",
       "      <td>0</td>\n",
       "      <td>0</td>\n",
       "      <td>0</td>\n",
       "      <td>1.0000</td>\n",
       "      <td>1</td>\n",
       "      <td>1</td>\n",
       "      <td>1</td>\n",
       "    </tr>\n",
       "  </tbody>\n",
       "</table>\n",
       "<p>138 rows × 15 columns</p>\n",
       "</div>"
      ],
      "text/plain": [
       "     age_last_funding_year  relationships  funding_rounds  funding_total_usd  \\\n",
       "439                 7.1973              6               3           25500100   \n",
       "345                 1.3781              7               2            1900000   \n",
       "36                  1.5945              8               2           14600000   \n",
       "563                 0.7945              7               1            4000000   \n",
       "831                 6.1233              5               4           11400000   \n",
       "..                     ...            ...             ...                ...   \n",
       "509                 3.1425             30               2            6875000   \n",
       "261                 8.1260             13               2           24500000   \n",
       "699                 4.1644             19               4           33000000   \n",
       "799                 2.9370              6               2            2250000   \n",
       "608                 3.0575              3               2            5550000   \n",
       "\n",
       "     milestones  has_VC  has_angel  has_roundA  has_roundB  has_roundC  \\\n",
       "439           3       1          0           0           1           0   \n",
       "345           2       0          1           1           0           0   \n",
       "36            3       0          0           1           1           0   \n",
       "563           4       0          0           1           0           0   \n",
       "831           1       1          0           0           1           0   \n",
       "..          ...     ...        ...         ...         ...         ...   \n",
       "509           5       1          0           1           0           0   \n",
       "261           2       0          0           0           0           0   \n",
       "699           4       0          0           1           1           1   \n",
       "799           2       1          0           0           0           0   \n",
       "608           1       0          1           1           0           0   \n",
       "\n",
       "     has_roundD  avg_participants  is_top500  prediction  ground_truth  \n",
       "439           0            2.5000          1           1             0  \n",
       "345           0            2.5000          1           1             0  \n",
       "36            0            2.0000          1           1             0  \n",
       "563           0            1.0000          0           1             0  \n",
       "831           0            3.0000          1           1             0  \n",
       "..          ...               ...        ...         ...           ...  \n",
       "509           0            7.0000          1           1             1  \n",
       "261           0            5.5000          1           1             1  \n",
       "699           1            1.3333          1           1             1  \n",
       "799           0            8.5000          1           1             1  \n",
       "608           0            1.0000          1           1             1  \n",
       "\n",
       "[138 rows x 15 columns]"
      ]
     },
     "execution_count": 23,
     "metadata": {},
     "output_type": "execute_result"
    }
   ],
   "source": [
    "df_false_positives = df_false_positives.assign(prediction=np.full(len(df_false_positives), 1))\n",
    "df_false_positives = df_false_positives.assign(ground_truth=np.full(len(df_false_positives), 0))\n",
    "\n",
    "df_true_positives = df_true_positives.assign(prediction=np.full(len(df_true_positives), 1))\n",
    "df_true_positives = df_true_positives.assign(ground_truth=np.full(len(df_true_positives), 1))\n",
    "\n",
    "df_predictions = pd.concat([df_false_positives, df_true_positives])\n",
    "df_predictions"
   ]
  },
  {
   "cell_type": "code",
   "execution_count": 24,
   "metadata": {},
   "outputs": [
    {
     "data": {
      "text/plain": [
       "<matplotlib.axes._subplots.AxesSubplot at 0x175fbd48520>"
      ]
     },
     "execution_count": 24,
     "metadata": {},
     "output_type": "execute_result"
    },
    {
     "data": {
      "image/png": "[encoded data removed]",
      "text/plain": [
       "<Figure size 504x360 with 1 Axes>"
      ]
     },
     "metadata": {
      "needs_background": "light"
     },
     "output_type": "display_data"
    }
   ],
   "source": [
    "fig, ax = plt.subplots(figsize=(7, 5))\n",
    "sns.boxplot(x='ground_truth', y='relationships', data=df_predictions)"
   ]
  },
  {
   "cell_type": "code",
   "execution_count": 25,
   "metadata": {},
   "outputs": [
    {
     "data": {
      "text/plain": [
       "<matplotlib.axes._subplots.AxesSubplot at 0x175fbf49a90>"
      ]
     },
     "execution_count": 25,
     "metadata": {},
     "output_type": "execute_result"
    },
    {
     "data": {
      "image/png": "[encoded data removed]",
      "text/plain": [
       "<Figure size 504x360 with 1 Axes>"
      ]
     },
     "metadata": {
      "needs_background": "light"
     },
     "output_type": "display_data"
    }
   ],
   "source": [
    "df_predictions['funding_total_usd_log'] = np.log(df_predictions['funding_total_usd'])\n",
    "fig, ax = plt.subplots(figsize=(7, 5))\n",
    "sns.boxplot(x='ground_truth', y='funding_total_usd_log', data=df_predictions)"
   ]
  },
  {
   "cell_type": "code",
   "execution_count": 26,
   "metadata": {},
   "outputs": [
    {
     "data": {
      "text/plain": [
       "<matplotlib.axes._subplots.AxesSubplot at 0x175fbfbc550>"
      ]
     },
     "execution_count": 26,
     "metadata": {},
     "output_type": "execute_result"
    },
    {
     "data": {
      "image/png": "[encoded data removed]",
      "text/plain": [
       "<Figure size 504x360 with 1 Axes>"
      ]
     },
     "metadata": {
      "needs_background": "light"
     },
     "output_type": "display_data"
    }
   ],
   "source": [
    "fig, ax = plt.subplots(figsize=(7, 5))\n",
    "sns.boxplot(x='ground_truth', y='age_last_funding_year', data=df_predictions)"
   ]
  },
  {
   "cell_type": "code",
   "execution_count": 27,
   "metadata": {},
   "outputs": [
    {
     "data": {
      "text/plain": [
       "<matplotlib.axes._subplots.AxesSubplot at 0x175fc0294c0>"
      ]
     },
     "execution_count": 27,
     "metadata": {},
     "output_type": "execute_result"
    },
    {
     "data": {
      "image/png": "[encoded data removed]",
      "text/plain": [
       "<Figure size 504x360 with 1 Axes>"
      ]
     },
     "metadata": {
      "needs_background": "light"
     },
     "output_type": "display_data"
    }
   ],
   "source": [
    "fig, ax = plt.subplots(figsize=(7, 5))\n",
    "sns.boxplot(x='ground_truth', y='avg_participants', data=df_predictions)"
   ]
  },
  {
   "cell_type": "code",
   "execution_count": 28,
   "metadata": {},
   "outputs": [
    {
     "data": {
      "text/plain": [
       "<matplotlib.axes._subplots.AxesSubplot at 0x175f98e4670>"
      ]
     },
     "execution_count": 28,
     "metadata": {},
     "output_type": "execute_result"
    },
    {
     "data": {
      "image/png": "[encoded data removed]",
      "text/plain": [
       "<Figure size 504x360 with 1 Axes>"
      ]
     },
     "metadata": {
      "needs_background": "light"
     },
     "output_type": "display_data"
    }
   ],
   "source": [
    "fig, ax = plt.subplots(figsize=(7, 5))\n",
    "sns.boxplot(x='ground_truth', y='milestones', data=df_predictions)"
   ]
  },
  {
   "cell_type": "code",
   "execution_count": 29,
   "metadata": {},
   "outputs": [
    {
     "data": {
      "text/plain": [
       "<matplotlib.axes._subplots.AxesSubplot at 0x175fc0fd310>"
      ]
     },
     "execution_count": 29,
     "metadata": {},
     "output_type": "execute_result"
    },
    {
     "data": {
      "image/png": "[encoded data removed]",
      "text/plain": [
       "<Figure size 504x360 with 1 Axes>"
      ]
     },
     "metadata": {
      "needs_background": "light"
     },
     "output_type": "display_data"
    }
   ],
   "source": [
    "fig, ax = plt.subplots(figsize=(7, 5))\n",
    "sns.boxplot(x='ground_truth', y='funding_rounds', data=df_predictions)"
   ]
  },
  {
   "cell_type": "code",
   "execution_count": 30,
   "metadata": {},
   "outputs": [
    {
     "data": {
      "image/png": "[encoded data removed]",
      "text/plain": [
       "<Figure size 576x288 with 1 Axes>"
      ]
     },
     "metadata": {
      "needs_background": "light"
     },
     "output_type": "display_data"
    }
   ],
   "source": [
    "plot_countplot(df=df_predictions, x='is_top500', hue='ground_truth', x_label='is Top 500', y_label='Count',  \n",
    "                 figsize=(8, 4), sort_by_count=True)"
   ]
  },
  {
   "cell_type": "code",
   "execution_count": 31,
   "metadata": {},
   "outputs": [
    {
     "data": {
      "image/png": "[encoded data removed]",
      "text/plain": [
       "<Figure size 576x288 with 1 Axes>"
      ]
     },
     "metadata": {
      "needs_background": "light"
     },
     "output_type": "display_data"
    }
   ],
   "source": [
    "plot_countplot(df=df_predictions, x='has_VC', hue='ground_truth', x_label='has VC', y_label='Count',  \n",
    "                 figsize=(8, 4), sort_by_count=True)"
   ]
  },
  {
   "cell_type": "code",
   "execution_count": 32,
   "metadata": {},
   "outputs": [
    {
     "data": {
      "image/png": "[encoded data removed]",
      "text/plain": [
       "<Figure size 576x288 with 1 Axes>"
      ]
     },
     "metadata": {
      "needs_background": "light"
     },
     "output_type": "display_data"
    }
   ],
   "source": [
    "plot_countplot(df=df_predictions, x='has_angel', hue='ground_truth', x_label='has angel', y_label='Count',  \n",
    "                 figsize=(8, 4), sort_by_count=True)"
   ]
  },
  {
   "cell_type": "markdown",
   "metadata": {},
   "source": [
    "### Precision/recall tradeoff"
   ]
  },
  {
   "cell_type": "code",
   "execution_count": 33,
   "metadata": {},
   "outputs": [
    {
     "data": {
      "image/png": "[encoded data removed]",
      "text/plain": [
       "<Figure size 504x360 with 1 Axes>"
      ]
     },
     "metadata": {
      "needs_background": "light"
     },
     "output_type": "display_data"
    }
   ],
   "source": [
    "plot_precision_recall_curve(classifier=best_model, \n",
    "                            X_test=X_test, \n",
    "                            y_test=y_test, \n",
    "                            label='Random forest', \n",
    "                            figsize=(7, 5))"
   ]
  },
  {
   "cell_type": "code",
   "execution_count": 34,
   "metadata": {},
   "outputs": [],
   "source": [
    "precision, recall, thresholds = metrics.precision_recall_curve(y_test, best_model.predict_proba(X_test)[:, 1])"
   ]
  },
  {
   "cell_type": "code",
   "execution_count": 35,
   "metadata": {},
   "outputs": [
    {
     "data": {
      "text/plain": [
       "0.88"
      ]
     },
     "execution_count": 35,
     "metadata": {},
     "output_type": "execute_result"
    }
   ],
   "source": [
    "threshold_precision = thresholds[np.argmax(precision >= 0.9)]\n",
    "threshold_precision"
   ]
  },
  {
   "cell_type": "code",
   "execution_count": 36,
   "metadata": {},
   "outputs": [
    {
     "name": "stdout",
     "output_type": "stream",
     "text": [
      "Accuracy: 0.4919\n",
      "Recall: 0.2417\n",
      "Precision: 0.9062\n",
      "F1: 0.3816\n"
     ]
    }
   ],
   "source": [
    "y_pred = (best_model.predict_proba(X_test)[:, 1] >= threshold_precision).astype(int)\n",
    "evaluate_classifier(y_test, y_pred)"
   ]
  },
  {
   "cell_type": "code",
   "execution_count": 37,
   "metadata": {},
   "outputs": [
    {
     "data": {
      "text/plain": [
       "array([[62,  3],\n",
       "       [91, 29]], dtype=int64)"
      ]
     },
     "execution_count": 37,
     "metadata": {},
     "output_type": "execute_result"
    }
   ],
   "source": [
    "confusion_matrix = metrics.confusion_matrix(y_true=y_test, y_pred=y_pred)\n",
    "confusion_matrix"
   ]
  },
  {
   "cell_type": "code",
   "execution_count": 38,
   "metadata": {},
   "outputs": [
    {
     "data": {
      "image/png": "[encoded data removed]",
      "text/plain": [
       "<Figure size 360x288 with 2 Axes>"
      ]
     },
     "metadata": {
      "needs_background": "light"
     },
     "output_type": "display_data"
    }
   ],
   "source": [
    "plot_confusion_matrix(confusion_matrix=confusion_matrix, figsize=(5, 4))"
   ]
  },
  {
   "cell_type": "code",
   "execution_count": 39,
   "metadata": {},
   "outputs": [
    {
     "name": "stdout",
     "output_type": "stream",
     "text": [
      "False positives count: 3\n"
     ]
    },
    {
     "data": {
      "text/html": [
       "<div>\n",
       "<style scoped>\n",
       "    .dataframe tbody tr th:only-of-type {\n",
       "        vertical-align: middle;\n",
       "    }\n",
       "\n",
       "    .dataframe tbody tr th {\n",
       "        vertical-align: top;\n",
       "    }\n",
       "\n",
       "    .dataframe thead th {\n",
       "        text-align: right;\n",
       "    }\n",
       "</style>\n",
       "<table border=\"1\" class=\"dataframe\">\n",
       "  <thead>\n",
       "    <tr style=\"text-align: right;\">\n",
       "      <th></th>\n",
       "      <th>age_last_funding_year</th>\n",
       "      <th>relationships</th>\n",
       "      <th>funding_rounds</th>\n",
       "      <th>funding_total_usd</th>\n",
       "      <th>milestones</th>\n",
       "      <th>has_VC</th>\n",
       "      <th>has_angel</th>\n",
       "      <th>has_roundA</th>\n",
       "      <th>has_roundB</th>\n",
       "      <th>has_roundC</th>\n",
       "      <th>has_roundD</th>\n",
       "      <th>avg_participants</th>\n",
       "      <th>is_top500</th>\n",
       "    </tr>\n",
       "  </thead>\n",
       "  <tbody>\n",
       "    <tr>\n",
       "      <th>345</th>\n",
       "      <td>1.3781</td>\n",
       "      <td>7</td>\n",
       "      <td>2</td>\n",
       "      <td>1900000</td>\n",
       "      <td>2</td>\n",
       "      <td>0</td>\n",
       "      <td>1</td>\n",
       "      <td>1</td>\n",
       "      <td>0</td>\n",
       "      <td>0</td>\n",
       "      <td>0</td>\n",
       "      <td>2.50</td>\n",
       "      <td>1</td>\n",
       "    </tr>\n",
       "    <tr>\n",
       "      <th>36</th>\n",
       "      <td>1.5945</td>\n",
       "      <td>8</td>\n",
       "      <td>2</td>\n",
       "      <td>14600000</td>\n",
       "      <td>3</td>\n",
       "      <td>0</td>\n",
       "      <td>0</td>\n",
       "      <td>1</td>\n",
       "      <td>1</td>\n",
       "      <td>0</td>\n",
       "      <td>0</td>\n",
       "      <td>2.00</td>\n",
       "      <td>1</td>\n",
       "    </tr>\n",
       "    <tr>\n",
       "      <th>202</th>\n",
       "      <td>5.5616</td>\n",
       "      <td>8</td>\n",
       "      <td>4</td>\n",
       "      <td>32500000</td>\n",
       "      <td>3</td>\n",
       "      <td>0</td>\n",
       "      <td>0</td>\n",
       "      <td>1</td>\n",
       "      <td>1</td>\n",
       "      <td>1</td>\n",
       "      <td>1</td>\n",
       "      <td>2.75</td>\n",
       "      <td>1</td>\n",
       "    </tr>\n",
       "  </tbody>\n",
       "</table>\n",
       "</div>"
      ],
      "text/plain": [
       "     age_last_funding_year  relationships  funding_rounds  funding_total_usd  \\\n",
       "345                 1.3781              7               2            1900000   \n",
       "36                  1.5945              8               2           14600000   \n",
       "202                 5.5616              8               4           32500000   \n",
       "\n",
       "     milestones  has_VC  has_angel  has_roundA  has_roundB  has_roundC  \\\n",
       "345           2       0          1           1           0           0   \n",
       "36            3       0          0           1           1           0   \n",
       "202           3       0          0           1           1           1   \n",
       "\n",
       "     has_roundD  avg_participants  is_top500  \n",
       "345           0              2.50          1  \n",
       "36            0              2.00          1  \n",
       "202           1              2.75          1  "
      ]
     },
     "execution_count": 39,
     "metadata": {},
     "output_type": "execute_result"
    }
   ],
   "source": [
    "y_test_arr = y_test.to_numpy()\n",
    "false_positives = (y_test_arr != y_pred) & (y_test_arr == 0)\n",
    "df_false_positives = X_test[false_positives]\n",
    "print(f'False positives count: {len(df_false_positives)}')\n",
    "df_false_positives"
   ]
  }
 ],
 "metadata": {
  "kernelspec": {
   "display_name": "Python 3 (ipykernel)",
   "language": "python",
   "name": "python3"
  },
  "language_info": {
   "codemirror_mode": {
    "name": "ipython",
    "version": 3
   },
   "file_extension": ".py",
   "mimetype": "text/x-python",
   "name": "python",
   "nbconvert_exporter": "python",
   "pygments_lexer": "ipython3",
   "version": "3.8.3"
  }
 },
 "nbformat": 4,
 "nbformat_minor": 4
}
