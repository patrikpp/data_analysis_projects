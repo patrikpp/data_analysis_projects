{
  "cells": [
    {
      "cell_type": "code",
      "source": [
        "import pandas as pd\n",
        "import numpy as np\n",
        "from matplotlib import pyplot as plt\n",
        "import seaborn as sns\n",
        "from mlxtend.plotting import scatterplotmatrix\n",
        "from sklearn.preprocessing import StandardScaler\n",
        "from sklearn.model_selection import train_test_split\n",
        "from sklearn import metrics\n",
        "%matplotlib inline \n",
        "import tensorflow\n",
        "from keras.models import Sequential, load_model\n",
        "from keras.layers import Dense, BatchNormalization\n",
        "from keras.layers.core import Dropout\n",
        "from keras.layers.advanced_activations import LeakyReLU\n",
        "from keras.callbacks import EarlyStopping, ModelCheckpoint"
      ],
      "metadata": {
        "id": "yn0c6ksaRcJv"
      },
      "execution_count": 1,
      "outputs": []
    },
    {
      "cell_type": "code",
      "source": [
        "print(tensorflow.__version__)\n",
        "print(np.__version__)"
      ],
      "metadata": {
        "colab": {
          "base_uri": "https://localhost:8080/"
        },
        "id": "OsLy0ikmhEkN",
        "outputId": "c3ade58c-7e6b-4ed3-98dd-52e2e55dc134"
      },
      "execution_count": 2,
      "outputs": [
        {
          "output_type": "stream",
          "name": "stdout",
          "text": [
            "2.8.2\n",
            "1.21.6\n"
          ]
        }
      ]
    },
    {
      "cell_type": "code",
      "source": [
        "%run \"./plots.py\"\n",
        "%run \"./helper.py\""
      ],
      "metadata": {
        "id": "JUOVpKeZWuno"
      },
      "execution_count": 3,
      "outputs": []
    },
    {
      "cell_type": "code",
      "source": [
        "pd.set_option('display.max_columns', None)\n",
        "\n",
        "df = pd.read_csv('./startup_data.csv')\n",
        "df.head()"
      ],
      "metadata": {
        "colab": {
          "base_uri": "https://localhost:8080/",
          "height": 409
        },
        "id": "RLf3GHuBXBuG",
        "outputId": "746961c3-a0c8-4ca6-bb51-a7f97547d1a2"
      },
      "execution_count": 4,
      "outputs": [
        {
          "output_type": "execute_result",
          "data": {
            "text/plain": [
              "   Unnamed: 0 state_code   latitude   longitude zip_code       id  \\\n",
              "0        1005         CA  42.358880  -71.056820    92101   c:6669   \n",
              "1         204         CA  37.238916 -121.973718    95032  c:16283   \n",
              "2        1001         CA  32.901049 -117.192656    92121  c:65620   \n",
              "3         738         CA  37.320309 -122.050040    95014  c:42668   \n",
              "4        1002         CA  37.779281 -122.419236    94105  c:65806   \n",
              "\n",
              "            city              Unnamed: 6               name  labels  \\\n",
              "0      San Diego                     NaN        Bandsintown       1   \n",
              "1      Los Gatos                     NaN          TriCipher       1   \n",
              "2      San Diego      San Diego CA 92121              Plixi       1   \n",
              "3      Cupertino      Cupertino CA 95014  Solidcore Systems       1   \n",
              "4  San Francisco  San Francisco CA 94105     Inhale Digital       0   \n",
              "\n",
              "  founded_at  closed_at first_funding_at last_funding_at  \\\n",
              "0   1/1/2007        NaN         4/1/2009        1/1/2010   \n",
              "1   1/1/2000        NaN        2/14/2005      12/28/2009   \n",
              "2  3/18/2009        NaN        3/30/2010       3/30/2010   \n",
              "3   1/1/2002        NaN        2/17/2005       4/25/2007   \n",
              "4   8/1/2010  10/1/2012         8/1/2010        4/1/2012   \n",
              "\n",
              "   age_first_funding_year  age_last_funding_year  age_first_milestone_year  \\\n",
              "0                  2.2493                 3.0027                    4.6685   \n",
              "1                  5.1260                 9.9973                    7.0055   \n",
              "2                  1.0329                 1.0329                    1.4575   \n",
              "3                  3.1315                 5.3151                    6.0027   \n",
              "4                  0.0000                 1.6685                    0.0384   \n",
              "\n",
              "   age_last_milestone_year  relationships  funding_rounds  funding_total_usd  \\\n",
              "0                   6.7041              3               3             375000   \n",
              "1                   7.0055              9               4           40100000   \n",
              "2                   2.2055              5               1            2600000   \n",
              "3                   6.0027              5               3           40000000   \n",
              "4                   0.0384              2               2            1300000   \n",
              "\n",
              "   milestones state_code.1  is_CA  is_NY  is_MA  is_TX  is_otherstate  \\\n",
              "0           3           CA      1      0      0      0              0   \n",
              "1           1           CA      1      0      0      0              0   \n",
              "2           2           CA      1      0      0      0              0   \n",
              "3           1           CA      1      0      0      0              0   \n",
              "4           1           CA      1      0      0      0              0   \n",
              "\n",
              "  category_code  is_software  is_web  is_mobile  is_enterprise  \\\n",
              "0         music            0       0          0              0   \n",
              "1    enterprise            0       0          0              1   \n",
              "2           web            0       1          0              0   \n",
              "3      software            1       0          0              0   \n",
              "4   games_video            0       0          0              0   \n",
              "\n",
              "   is_advertising  is_gamesvideo  is_ecommerce  is_biotech  is_consulting  \\\n",
              "0               0              0             0           0              0   \n",
              "1               0              0             0           0              0   \n",
              "2               0              0             0           0              0   \n",
              "3               0              0             0           0              0   \n",
              "4               0              1             0           0              0   \n",
              "\n",
              "   is_othercategory object_id  has_VC  has_angel  has_roundA  has_roundB  \\\n",
              "0                 1    c:6669       0          1           0           0   \n",
              "1                 0   c:16283       1          0           0           1   \n",
              "2                 0   c:65620       0          0           1           0   \n",
              "3                 0   c:42668       0          0           0           1   \n",
              "4                 0   c:65806       1          1           0           0   \n",
              "\n",
              "   has_roundC  has_roundD  avg_participants  is_top500    status  \n",
              "0           0           0            1.0000          0  acquired  \n",
              "1           1           1            4.7500          1  acquired  \n",
              "2           0           0            4.0000          1  acquired  \n",
              "3           1           1            3.3333          1  acquired  \n",
              "4           0           0            1.0000          1    closed  "
            ],
            "text/html": [
              "\n",
              "  <div id=\"df-a830544f-e3ef-4aed-9ea7-44a8817c350e\">\n",
              "    <div class=\"colab-df-container\">\n",
              "      <div>\n",
              "<style scoped>\n",
              "    .dataframe tbody tr th:only-of-type {\n",
              "        vertical-align: middle;\n",
              "    }\n",
              "\n",
              "    .dataframe tbody tr th {\n",
              "        vertical-align: top;\n",
              "    }\n",
              "\n",
              "    .dataframe thead th {\n",
              "        text-align: right;\n",
              "    }\n",
              "</style>\n",
              "<table border=\"1\" class=\"dataframe\">\n",
              "  <thead>\n",
              "    <tr style=\"text-align: right;\">\n",
              "      <th></th>\n",
              "      <th>Unnamed: 0</th>\n",
              "      <th>state_code</th>\n",
              "      <th>latitude</th>\n",
              "      <th>longitude</th>\n",
              "      <th>zip_code</th>\n",
              "      <th>id</th>\n",
              "      <th>city</th>\n",
              "      <th>Unnamed: 6</th>\n",
              "      <th>name</th>\n",
              "      <th>labels</th>\n",
              "      <th>founded_at</th>\n",
              "      <th>closed_at</th>\n",
              "      <th>first_funding_at</th>\n",
              "      <th>last_funding_at</th>\n",
              "      <th>age_first_funding_year</th>\n",
              "      <th>age_last_funding_year</th>\n",
              "      <th>age_first_milestone_year</th>\n",
              "      <th>age_last_milestone_year</th>\n",
              "      <th>relationships</th>\n",
              "      <th>funding_rounds</th>\n",
              "      <th>funding_total_usd</th>\n",
              "      <th>milestones</th>\n",
              "      <th>state_code.1</th>\n",
              "      <th>is_CA</th>\n",
              "      <th>is_NY</th>\n",
              "      <th>is_MA</th>\n",
              "      <th>is_TX</th>\n",
              "      <th>is_otherstate</th>\n",
              "      <th>category_code</th>\n",
              "      <th>is_software</th>\n",
              "      <th>is_web</th>\n",
              "      <th>is_mobile</th>\n",
              "      <th>is_enterprise</th>\n",
              "      <th>is_advertising</th>\n",
              "      <th>is_gamesvideo</th>\n",
              "      <th>is_ecommerce</th>\n",
              "      <th>is_biotech</th>\n",
              "      <th>is_consulting</th>\n",
              "      <th>is_othercategory</th>\n",
              "      <th>object_id</th>\n",
              "      <th>has_VC</th>\n",
              "      <th>has_angel</th>\n",
              "      <th>has_roundA</th>\n",
              "      <th>has_roundB</th>\n",
              "      <th>has_roundC</th>\n",
              "      <th>has_roundD</th>\n",
              "      <th>avg_participants</th>\n",
              "      <th>is_top500</th>\n",
              "      <th>status</th>\n",
              "    </tr>\n",
              "  </thead>\n",
              "  <tbody>\n",
              "    <tr>\n",
              "      <th>0</th>\n",
              "      <td>1005</td>\n",
              "      <td>CA</td>\n",
              "      <td>42.358880</td>\n",
              "      <td>-71.056820</td>\n",
              "      <td>92101</td>\n",
              "      <td>c:6669</td>\n",
              "      <td>San Diego</td>\n",
              "      <td>NaN</td>\n",
              "      <td>Bandsintown</td>\n",
              "      <td>1</td>\n",
              "      <td>1/1/2007</td>\n",
              "      <td>NaN</td>\n",
              "      <td>4/1/2009</td>\n",
              "      <td>1/1/2010</td>\n",
              "      <td>2.2493</td>\n",
              "      <td>3.0027</td>\n",
              "      <td>4.6685</td>\n",
              "      <td>6.7041</td>\n",
              "      <td>3</td>\n",
              "      <td>3</td>\n",
              "      <td>375000</td>\n",
              "      <td>3</td>\n",
              "      <td>CA</td>\n",
              "      <td>1</td>\n",
              "      <td>0</td>\n",
              "      <td>0</td>\n",
              "      <td>0</td>\n",
              "      <td>0</td>\n",
              "      <td>music</td>\n",
              "      <td>0</td>\n",
              "      <td>0</td>\n",
              "      <td>0</td>\n",
              "      <td>0</td>\n",
              "      <td>0</td>\n",
              "      <td>0</td>\n",
              "      <td>0</td>\n",
              "      <td>0</td>\n",
              "      <td>0</td>\n",
              "      <td>1</td>\n",
              "      <td>c:6669</td>\n",
              "      <td>0</td>\n",
              "      <td>1</td>\n",
              "      <td>0</td>\n",
              "      <td>0</td>\n",
              "      <td>0</td>\n",
              "      <td>0</td>\n",
              "      <td>1.0000</td>\n",
              "      <td>0</td>\n",
              "      <td>acquired</td>\n",
              "    </tr>\n",
              "    <tr>\n",
              "      <th>1</th>\n",
              "      <td>204</td>\n",
              "      <td>CA</td>\n",
              "      <td>37.238916</td>\n",
              "      <td>-121.973718</td>\n",
              "      <td>95032</td>\n",
              "      <td>c:16283</td>\n",
              "      <td>Los Gatos</td>\n",
              "      <td>NaN</td>\n",
              "      <td>TriCipher</td>\n",
              "      <td>1</td>\n",
              "      <td>1/1/2000</td>\n",
              "      <td>NaN</td>\n",
              "      <td>2/14/2005</td>\n",
              "      <td>12/28/2009</td>\n",
              "      <td>5.1260</td>\n",
              "      <td>9.9973</td>\n",
              "      <td>7.0055</td>\n",
              "      <td>7.0055</td>\n",
              "      <td>9</td>\n",
              "      <td>4</td>\n",
              "      <td>40100000</td>\n",
              "      <td>1</td>\n",
              "      <td>CA</td>\n",
              "      <td>1</td>\n",
              "      <td>0</td>\n",
              "      <td>0</td>\n",
              "      <td>0</td>\n",
              "      <td>0</td>\n",
              "      <td>enterprise</td>\n",
              "      <td>0</td>\n",
              "      <td>0</td>\n",
              "      <td>0</td>\n",
              "      <td>1</td>\n",
              "      <td>0</td>\n",
              "      <td>0</td>\n",
              "      <td>0</td>\n",
              "      <td>0</td>\n",
              "      <td>0</td>\n",
              "      <td>0</td>\n",
              "      <td>c:16283</td>\n",
              "      <td>1</td>\n",
              "      <td>0</td>\n",
              "      <td>0</td>\n",
              "      <td>1</td>\n",
              "      <td>1</td>\n",
              "      <td>1</td>\n",
              "      <td>4.7500</td>\n",
              "      <td>1</td>\n",
              "      <td>acquired</td>\n",
              "    </tr>\n",
              "    <tr>\n",
              "      <th>2</th>\n",
              "      <td>1001</td>\n",
              "      <td>CA</td>\n",
              "      <td>32.901049</td>\n",
              "      <td>-117.192656</td>\n",
              "      <td>92121</td>\n",
              "      <td>c:65620</td>\n",
              "      <td>San Diego</td>\n",
              "      <td>San Diego CA 92121</td>\n",
              "      <td>Plixi</td>\n",
              "      <td>1</td>\n",
              "      <td>3/18/2009</td>\n",
              "      <td>NaN</td>\n",
              "      <td>3/30/2010</td>\n",
              "      <td>3/30/2010</td>\n",
              "      <td>1.0329</td>\n",
              "      <td>1.0329</td>\n",
              "      <td>1.4575</td>\n",
              "      <td>2.2055</td>\n",
              "      <td>5</td>\n",
              "      <td>1</td>\n",
              "      <td>2600000</td>\n",
              "      <td>2</td>\n",
              "      <td>CA</td>\n",
              "      <td>1</td>\n",
              "      <td>0</td>\n",
              "      <td>0</td>\n",
              "      <td>0</td>\n",
              "      <td>0</td>\n",
              "      <td>web</td>\n",
              "      <td>0</td>\n",
              "      <td>1</td>\n",
              "      <td>0</td>\n",
              "      <td>0</td>\n",
              "      <td>0</td>\n",
              "      <td>0</td>\n",
              "      <td>0</td>\n",
              "      <td>0</td>\n",
              "      <td>0</td>\n",
              "      <td>0</td>\n",
              "      <td>c:65620</td>\n",
              "      <td>0</td>\n",
              "      <td>0</td>\n",
              "      <td>1</td>\n",
              "      <td>0</td>\n",
              "      <td>0</td>\n",
              "      <td>0</td>\n",
              "      <td>4.0000</td>\n",
              "      <td>1</td>\n",
              "      <td>acquired</td>\n",
              "    </tr>\n",
              "    <tr>\n",
              "      <th>3</th>\n",
              "      <td>738</td>\n",
              "      <td>CA</td>\n",
              "      <td>37.320309</td>\n",
              "      <td>-122.050040</td>\n",
              "      <td>95014</td>\n",
              "      <td>c:42668</td>\n",
              "      <td>Cupertino</td>\n",
              "      <td>Cupertino CA 95014</td>\n",
              "      <td>Solidcore Systems</td>\n",
              "      <td>1</td>\n",
              "      <td>1/1/2002</td>\n",
              "      <td>NaN</td>\n",
              "      <td>2/17/2005</td>\n",
              "      <td>4/25/2007</td>\n",
              "      <td>3.1315</td>\n",
              "      <td>5.3151</td>\n",
              "      <td>6.0027</td>\n",
              "      <td>6.0027</td>\n",
              "      <td>5</td>\n",
              "      <td>3</td>\n",
              "      <td>40000000</td>\n",
              "      <td>1</td>\n",
              "      <td>CA</td>\n",
              "      <td>1</td>\n",
              "      <td>0</td>\n",
              "      <td>0</td>\n",
              "      <td>0</td>\n",
              "      <td>0</td>\n",
              "      <td>software</td>\n",
              "      <td>1</td>\n",
              "      <td>0</td>\n",
              "      <td>0</td>\n",
              "      <td>0</td>\n",
              "      <td>0</td>\n",
              "      <td>0</td>\n",
              "      <td>0</td>\n",
              "      <td>0</td>\n",
              "      <td>0</td>\n",
              "      <td>0</td>\n",
              "      <td>c:42668</td>\n",
              "      <td>0</td>\n",
              "      <td>0</td>\n",
              "      <td>0</td>\n",
              "      <td>1</td>\n",
              "      <td>1</td>\n",
              "      <td>1</td>\n",
              "      <td>3.3333</td>\n",
              "      <td>1</td>\n",
              "      <td>acquired</td>\n",
              "    </tr>\n",
              "    <tr>\n",
              "      <th>4</th>\n",
              "      <td>1002</td>\n",
              "      <td>CA</td>\n",
              "      <td>37.779281</td>\n",
              "      <td>-122.419236</td>\n",
              "      <td>94105</td>\n",
              "      <td>c:65806</td>\n",
              "      <td>San Francisco</td>\n",
              "      <td>San Francisco CA 94105</td>\n",
              "      <td>Inhale Digital</td>\n",
              "      <td>0</td>\n",
              "      <td>8/1/2010</td>\n",
              "      <td>10/1/2012</td>\n",
              "      <td>8/1/2010</td>\n",
              "      <td>4/1/2012</td>\n",
              "      <td>0.0000</td>\n",
              "      <td>1.6685</td>\n",
              "      <td>0.0384</td>\n",
              "      <td>0.0384</td>\n",
              "      <td>2</td>\n",
              "      <td>2</td>\n",
              "      <td>1300000</td>\n",
              "      <td>1</td>\n",
              "      <td>CA</td>\n",
              "      <td>1</td>\n",
              "      <td>0</td>\n",
              "      <td>0</td>\n",
              "      <td>0</td>\n",
              "      <td>0</td>\n",
              "      <td>games_video</td>\n",
              "      <td>0</td>\n",
              "      <td>0</td>\n",
              "      <td>0</td>\n",
              "      <td>0</td>\n",
              "      <td>0</td>\n",
              "      <td>1</td>\n",
              "      <td>0</td>\n",
              "      <td>0</td>\n",
              "      <td>0</td>\n",
              "      <td>0</td>\n",
              "      <td>c:65806</td>\n",
              "      <td>1</td>\n",
              "      <td>1</td>\n",
              "      <td>0</td>\n",
              "      <td>0</td>\n",
              "      <td>0</td>\n",
              "      <td>0</td>\n",
              "      <td>1.0000</td>\n",
              "      <td>1</td>\n",
              "      <td>closed</td>\n",
              "    </tr>\n",
              "  </tbody>\n",
              "</table>\n",
              "</div>\n",
              "      <button class=\"colab-df-convert\" onclick=\"convertToInteractive('df-a830544f-e3ef-4aed-9ea7-44a8817c350e')\"\n",
              "              title=\"Convert this dataframe to an interactive table.\"\n",
              "              style=\"display:none;\">\n",
              "        \n",
              "  <svg xmlns=\"http://www.w3.org/2000/svg\" height=\"24px\"viewBox=\"0 0 24 24\"\n",
              "       width=\"24px\">\n",
              "    <path d=\"M0 0h24v24H0V0z\" fill=\"none\"/>\n",
              "    <path d=\"M18.56 5.44l.94 2.06.94-2.06 2.06-.94-2.06-.94-.94-2.06-.94 2.06-2.06.94zm-11 1L8.5 8.5l.94-2.06 2.06-.94-2.06-.94L8.5 2.5l-.94 2.06-2.06.94zm10 10l.94 2.06.94-2.06 2.06-.94-2.06-.94-.94-2.06-.94 2.06-2.06.94z\"/><path d=\"M17.41 7.96l-1.37-1.37c-.4-.4-.92-.59-1.43-.59-.52 0-1.04.2-1.43.59L10.3 9.45l-7.72 7.72c-.78.78-.78 2.05 0 2.83L4 21.41c.39.39.9.59 1.41.59.51 0 1.02-.2 1.41-.59l7.78-7.78 2.81-2.81c.8-.78.8-2.07 0-2.86zM5.41 20L4 18.59l7.72-7.72 1.47 1.35L5.41 20z\"/>\n",
              "  </svg>\n",
              "      </button>\n",
              "      \n",
              "  <style>\n",
              "    .colab-df-container {\n",
              "      display:flex;\n",
              "      flex-wrap:wrap;\n",
              "      gap: 12px;\n",
              "    }\n",
              "\n",
              "    .colab-df-convert {\n",
              "      background-color: #E8F0FE;\n",
              "      border: none;\n",
              "      border-radius: 50%;\n",
              "      cursor: pointer;\n",
              "      display: none;\n",
              "      fill: #1967D2;\n",
              "      height: 32px;\n",
              "      padding: 0 0 0 0;\n",
              "      width: 32px;\n",
              "    }\n",
              "\n",
              "    .colab-df-convert:hover {\n",
              "      background-color: #E2EBFA;\n",
              "      box-shadow: 0px 1px 2px rgba(60, 64, 67, 0.3), 0px 1px 3px 1px rgba(60, 64, 67, 0.15);\n",
              "      fill: #174EA6;\n",
              "    }\n",
              "\n",
              "    [theme=dark] .colab-df-convert {\n",
              "      background-color: #3B4455;\n",
              "      fill: #D2E3FC;\n",
              "    }\n",
              "\n",
              "    [theme=dark] .colab-df-convert:hover {\n",
              "      background-color: #434B5C;\n",
              "      box-shadow: 0px 1px 3px 1px rgba(0, 0, 0, 0.15);\n",
              "      filter: drop-shadow(0px 1px 2px rgba(0, 0, 0, 0.3));\n",
              "      fill: #FFFFFF;\n",
              "    }\n",
              "  </style>\n",
              "\n",
              "      <script>\n",
              "        const buttonEl =\n",
              "          document.querySelector('#df-a830544f-e3ef-4aed-9ea7-44a8817c350e button.colab-df-convert');\n",
              "        buttonEl.style.display =\n",
              "          google.colab.kernel.accessAllowed ? 'block' : 'none';\n",
              "\n",
              "        async function convertToInteractive(key) {\n",
              "          const element = document.querySelector('#df-a830544f-e3ef-4aed-9ea7-44a8817c350e');\n",
              "          const dataTable =\n",
              "            await google.colab.kernel.invokeFunction('convertToInteractive',\n",
              "                                                     [key], {});\n",
              "          if (!dataTable) return;\n",
              "\n",
              "          const docLinkHtml = 'Like what you see? Visit the ' +\n",
              "            '<a target=\"_blank\" href=https://colab.research.google.com/notebooks/data_table.ipynb>data table notebook</a>'\n",
              "            + ' to learn more about interactive tables.';\n",
              "          element.innerHTML = '';\n",
              "          dataTable['output_type'] = 'display_data';\n",
              "          await google.colab.output.renderOutput(dataTable, element);\n",
              "          const docLink = document.createElement('div');\n",
              "          docLink.innerHTML = docLinkHtml;\n",
              "          element.appendChild(docLink);\n",
              "        }\n",
              "      </script>\n",
              "    </div>\n",
              "  </div>\n",
              "  "
            ]
          },
          "metadata": {},
          "execution_count": 4
        }
      ]
    },
    {
      "cell_type": "code",
      "source": [
        "print(f'Dataset contains {df.shape[0]} and {df.shape[1]} columns.')"
      ],
      "metadata": {
        "colab": {
          "base_uri": "https://localhost:8080/"
        },
        "id": "mdsu2MHAXEV0",
        "outputId": "f0557055-2b06-47b1-f534-723df278f76b"
      },
      "execution_count": 5,
      "outputs": [
        {
          "output_type": "stream",
          "name": "stdout",
          "text": [
            "Dataset contains 923 and 49 columns.\n"
          ]
        }
      ]
    },
    {
      "cell_type": "markdown",
      "source": [
        "## Target variable"
      ],
      "metadata": {
        "id": "88zJJc6KXLqY"
      }
    },
    {
      "cell_type": "code",
      "source": [
        "if (df['status'].dtype == object):\n",
        "    df['status'] = df.status.map({'acquired': 1, 'closed': 0})"
      ],
      "metadata": {
        "id": "MZ8HUBgkXI9D"
      },
      "execution_count": 6,
      "outputs": []
    },
    {
      "cell_type": "markdown",
      "source": [
        "## Data splitting"
      ],
      "metadata": {
        "id": "fsIBSifkYC34"
      }
    },
    {
      "cell_type": "code",
      "source": [
        "features = ['age_first_funding_year', 'age_last_funding_year', 'relationships', 'funding_rounds', \n",
        "            'funding_total_usd', 'milestones', 'has_VC', 'has_angel', 'has_roundA', \n",
        "            'has_roundB', 'has_roundC', 'has_roundD', 'avg_participants', 'is_top500']\n",
        "\n",
        "X = df[features]\n",
        "y = df['status']\n",
        "\n",
        "X_train, X_test, y_train, y_test = train_test_split(X, y, \n",
        "                                                    test_size=0.20,\n",
        "                                                    stratify=y,\n",
        "                                                    random_state=1)"
      ],
      "metadata": {
        "id": "qkANKK4IXQbS"
      },
      "execution_count": 7,
      "outputs": []
    },
    {
      "cell_type": "code",
      "source": [
        "standard_scaler = StandardScaler()\n",
        "X_train_std = standard_scaler.fit_transform(X_train)\n",
        "X_test_std = standard_scaler.transform(X_test)\n",
        "\n",
        "X_train_std"
      ],
      "metadata": {
        "id": "ww-19QjzYlZB",
        "colab": {
          "base_uri": "https://localhost:8080/"
        },
        "outputId": "0c4497ae-3dee-471c-838d-169444a9728d"
      },
      "execution_count": 8,
      "outputs": [
        {
          "output_type": "execute_result",
          "data": {
            "text/plain": [
              "array([[-0.79743005, -1.04345191,  0.76233191, ..., -0.32879797,\n",
              "         1.57245159,  0.50084674],\n",
              "       [-0.96803128, -1.38406205,  0.18839572, ..., -0.32879797,\n",
              "        -0.97592536, -1.99661876],\n",
              "       [-0.80802736, -0.00720624,  0.04491167, ..., -0.32879797,\n",
              "         0.63357587,  0.50084674],\n",
              "       ...,\n",
              "       [-0.67873243, -0.21282209,  1.47975215, ..., -0.32879797,\n",
              "        -0.43942495,  0.50084674],\n",
              "       [-0.22734112,  1.78451814,  1.3362681 , ...,  3.04138127,\n",
              "        -0.61824054,  0.50084674],\n",
              "       [-0.42018124, -0.01533962,  0.04491167, ..., -0.32879797,\n",
              "         0.09707546,  0.50084674]])"
            ]
          },
          "metadata": {},
          "execution_count": 8
        }
      ]
    },
    {
      "cell_type": "code",
      "source": [
        "y_train = np.asarray(y_train).astype('float32')\n",
        "y_test = np.asarray(y_test).astype('float32')\n",
        "\n",
        "y_train"
      ],
      "metadata": {
        "colab": {
          "base_uri": "https://localhost:8080/"
        },
        "id": "h22sQ8SVzzDY",
        "outputId": "f4ef76e7-c77d-4386-eb15-54f1ed8d3651"
      },
      "execution_count": 9,
      "outputs": [
        {
          "output_type": "execute_result",
          "data": {
            "text/plain": [
              "array([1., 1., 1., 0., 0., 1., 1., 0., 1., 0., 0., 0., 1., 1., 1., 1., 1.,\n",
              "       1., 1., 1., 1., 1., 1., 0., 1., 0., 0., 1., 0., 0., 1., 1., 1., 1.,\n",
              "       0., 0., 1., 0., 0., 0., 1., 0., 1., 1., 1., 1., 0., 1., 1., 1., 1.,\n",
              "       1., 1., 0., 0., 0., 1., 1., 1., 1., 0., 1., 1., 1., 1., 1., 1., 1.,\n",
              "       0., 1., 1., 0., 0., 1., 1., 1., 0., 1., 0., 1., 1., 1., 1., 1., 1.,\n",
              "       1., 1., 1., 0., 1., 0., 1., 1., 0., 1., 1., 0., 1., 0., 0., 0., 1.,\n",
              "       1., 1., 0., 1., 0., 1., 0., 1., 0., 1., 1., 0., 1., 0., 1., 1., 0.,\n",
              "       0., 0., 1., 1., 0., 1., 1., 0., 1., 1., 1., 1., 1., 0., 0., 1., 0.,\n",
              "       0., 1., 1., 1., 1., 1., 0., 1., 1., 0., 0., 0., 1., 1., 1., 1., 0.,\n",
              "       1., 0., 0., 1., 0., 1., 1., 1., 1., 1., 1., 1., 1., 1., 1., 1., 1.,\n",
              "       1., 1., 1., 1., 0., 1., 1., 0., 0., 0., 0., 1., 1., 1., 1., 1., 1.,\n",
              "       0., 0., 1., 1., 1., 1., 1., 1., 1., 1., 0., 1., 0., 0., 1., 1., 1.,\n",
              "       0., 1., 0., 1., 1., 1., 0., 1., 1., 0., 1., 0., 1., 1., 1., 1., 0.,\n",
              "       0., 1., 0., 0., 1., 1., 0., 1., 1., 1., 0., 0., 1., 1., 0., 1., 0.,\n",
              "       0., 1., 1., 0., 0., 1., 1., 1., 1., 0., 0., 1., 1., 1., 1., 1., 0.,\n",
              "       1., 1., 1., 1., 0., 1., 0., 1., 0., 1., 1., 1., 1., 1., 1., 0., 0.,\n",
              "       1., 1., 1., 1., 0., 1., 1., 1., 1., 1., 1., 1., 0., 1., 0., 1., 1.,\n",
              "       0., 1., 0., 0., 1., 1., 0., 0., 1., 1., 0., 1., 1., 1., 0., 0., 1.,\n",
              "       1., 0., 0., 1., 0., 1., 0., 0., 0., 1., 0., 0., 1., 1., 1., 0., 1.,\n",
              "       0., 1., 0., 1., 1., 0., 1., 1., 1., 1., 0., 1., 1., 0., 1., 0., 1.,\n",
              "       1., 0., 1., 1., 1., 0., 0., 1., 0., 1., 1., 0., 0., 1., 1., 0., 1.,\n",
              "       1., 1., 1., 1., 1., 1., 1., 1., 1., 1., 1., 1., 1., 1., 0., 1., 1.,\n",
              "       0., 1., 0., 0., 0., 1., 1., 1., 1., 0., 0., 1., 1., 1., 1., 1., 1.,\n",
              "       1., 0., 0., 1., 1., 0., 0., 1., 0., 0., 0., 1., 1., 1., 1., 1., 1.,\n",
              "       1., 1., 0., 1., 1., 0., 0., 0., 0., 1., 1., 1., 1., 1., 1., 1., 1.,\n",
              "       1., 0., 0., 1., 1., 0., 0., 0., 1., 0., 1., 0., 1., 1., 0., 1., 1.,\n",
              "       1., 0., 1., 1., 1., 0., 0., 1., 0., 0., 1., 0., 0., 1., 0., 1., 1.,\n",
              "       1., 1., 1., 1., 1., 1., 1., 1., 0., 1., 1., 1., 1., 0., 0., 1., 1.,\n",
              "       1., 1., 1., 1., 1., 1., 1., 1., 1., 1., 0., 1., 1., 1., 1., 1., 0.,\n",
              "       1., 0., 1., 0., 0., 1., 1., 0., 1., 0., 1., 0., 1., 0., 1., 1., 1.,\n",
              "       1., 0., 0., 1., 1., 1., 1., 1., 1., 1., 0., 1., 0., 1., 1., 0., 1.,\n",
              "       1., 1., 0., 1., 1., 0., 0., 1., 1., 0., 1., 0., 0., 1., 1., 1., 1.,\n",
              "       1., 1., 1., 0., 1., 1., 0., 1., 1., 0., 1., 1., 0., 1., 1., 1., 0.,\n",
              "       1., 1., 1., 1., 1., 1., 0., 1., 0., 1., 1., 0., 0., 1., 1., 0., 0.,\n",
              "       0., 1., 0., 0., 1., 1., 0., 1., 1., 1., 1., 1., 0., 0., 0., 1., 1.,\n",
              "       0., 0., 1., 1., 0., 1., 1., 1., 1., 1., 1., 1., 1., 0., 0., 1., 1.,\n",
              "       1., 1., 1., 1., 1., 1., 1., 0., 1., 1., 0., 1., 0., 0., 0., 1., 0.,\n",
              "       0., 1., 0., 1., 1., 0., 1., 0., 0., 1., 1., 1., 1., 0., 1., 0., 0.,\n",
              "       1., 1., 0., 1., 1., 1., 1., 1., 0., 1., 1., 0., 0., 1., 0., 0., 1.,\n",
              "       1., 0., 1., 0., 1., 1., 1., 0., 1., 0., 0., 0., 1., 1., 1., 0., 0.,\n",
              "       0., 0., 0., 1., 0., 0., 1., 1., 1., 1., 0., 0., 1., 0., 0., 0., 1.,\n",
              "       1., 0., 1., 0., 1., 1., 0., 1., 0., 1., 0., 1., 1., 1., 1., 0., 0.,\n",
              "       0., 1., 1., 0., 1., 1., 0., 0., 0., 1., 0., 1., 1., 0., 0., 1., 0.,\n",
              "       1., 1., 1., 0., 1., 1., 1.], dtype=float32)"
            ]
          },
          "metadata": {},
          "execution_count": 9
        }
      ]
    },
    {
      "cell_type": "code",
      "source": [
        "config = {\n",
        "    'INPUT_SHAPE': (14,),\n",
        "    'BATCH_SIZE': 256,\n",
        "    'EPOCHS': 200,\n",
        "    'OPTIMIZER': 'Adam',\n",
        "    'LOSS': 'binary_crossentropy',\n",
        "    'ES_PATIENCE': 20,\n",
        "    'BEST_MODEL': 'best_model_1.h5'\n",
        "}"
      ],
      "metadata": {
        "id": "EFkKxzeifhoy"
      },
      "execution_count": 156,
      "outputs": []
    },
    {
      "cell_type": "code",
      "source": [
        "model = Sequential()\n",
        "\n",
        "model.add(Dense(units=256, input_shape=config['INPUT_SHAPE'], name='h1'))\n",
        "model.add(LeakyReLU(0.2))\n",
        "model.add(Dropout(0.5))\n",
        "model.add(BatchNormalization(momentum=0.8))\n",
        "\n",
        "model.add(Dense(units=256, name='h2'))\n",
        "model.add(LeakyReLU(0.2))\n",
        "model.add(Dropout(0.5))\n",
        "model.add(BatchNormalization(momentum=0.8))\n",
        "\n",
        "model.add(Dense(units=1, activation='sigmoid', name='out'))\n",
        "\n",
        "model.summary()"
      ],
      "metadata": {
        "colab": {
          "base_uri": "https://localhost:8080/"
        },
        "id": "uvVEI9dcZ1vE",
        "outputId": "e43b2ee7-c96c-4750-9efd-08a5ad11f3d7"
      },
      "execution_count": 275,
      "outputs": [
        {
          "output_type": "stream",
          "name": "stdout",
          "text": [
            "Model: \"sequential_22\"\n",
            "_________________________________________________________________\n",
            " Layer (type)                Output Shape              Param #   \n",
            "=================================================================\n",
            " h1 (Dense)                  (None, 256)               3840      \n",
            "                                                                 \n",
            " leaky_re_lu_50 (LeakyReLU)  (None, 256)               0         \n",
            "                                                                 \n",
            " dropout_44 (Dropout)        (None, 256)               0         \n",
            "                                                                 \n",
            " batch_normalization_37 (Bat  (None, 256)              1024      \n",
            " chNormalization)                                                \n",
            "                                                                 \n",
            " h2 (Dense)                  (None, 256)               65792     \n",
            "                                                                 \n",
            " leaky_re_lu_51 (LeakyReLU)  (None, 256)               0         \n",
            "                                                                 \n",
            " dropout_45 (Dropout)        (None, 256)               0         \n",
            "                                                                 \n",
            " batch_normalization_38 (Bat  (None, 256)              1024      \n",
            " chNormalization)                                                \n",
            "                                                                 \n",
            " out (Dense)                 (None, 1)                 257       \n",
            "                                                                 \n",
            "=================================================================\n",
            "Total params: 71,937\n",
            "Trainable params: 70,913\n",
            "Non-trainable params: 1,024\n",
            "_________________________________________________________________\n"
          ]
        }
      ]
    },
    {
      "cell_type": "code",
      "source": [
        "model.compile(loss=config['LOSS'], optimizer=config['OPTIMIZER'], metrics=['Precision'])\n",
        "\n",
        "es = EarlyStopping(monitor='val_loss', mode='min', verbose=1, patience=config['ES_PATIENCE']) \n",
        "\n",
        "mc = ModelCheckpoint(config['BEST_MODEL'], monitor='val_precision', mode='max', verbose=1, save_best_only=True)"
      ],
      "metadata": {
        "id": "aw_zGW0Gcajt"
      },
      "execution_count": 276,
      "outputs": []
    },
    {
      "cell_type": "code",
      "source": [
        "history = model.fit(X_train_std, \n",
        "                    y_train, \n",
        "                    epochs=config['EPOCHS'], \n",
        "                    batch_size=config['BATCH_SIZE'], \n",
        "                    validation_split=0.2, \n",
        "                    callbacks=[es, mc], \n",
        "                    workers=12,\n",
        "                    verbose=1)"
      ],
      "metadata": {
        "colab": {
          "base_uri": "https://localhost:8080/"
        },
        "id": "Hox9i0_EdiQc",
        "outputId": "d711cb8a-54eb-4cb0-9d71-c6943b90bdc8"
      },
      "execution_count": 277,
      "outputs": [
        {
          "output_type": "stream",
          "name": "stdout",
          "text": [
            "Epoch 1/200\n",
            "1/3 [=========>....................] - ETA: 2s - loss: 0.8417 - precision: 0.6923\n",
            "Epoch 1: val_precision improved from -inf to 0.75949, saving model to best_model_1.h5\n",
            "3/3 [==============================] - 2s 170ms/step - loss: 0.8118 - precision: 0.7292 - val_loss: 0.6154 - val_precision: 0.7595\n",
            "Epoch 2/200\n",
            "1/3 [=========>....................] - ETA: 0s - loss: 0.7259 - precision: 0.8095\n",
            "Epoch 2: val_precision improved from 0.75949 to 0.81250, saving model to best_model_1.h5\n",
            "3/3 [==============================] - 0s 37ms/step - loss: 0.7433 - precision: 0.7889 - val_loss: 0.6121 - val_precision: 0.8125\n",
            "Epoch 3/200\n",
            "1/3 [=========>....................] - ETA: 0s - loss: 0.7118 - precision: 0.8030\n",
            "Epoch 3: val_precision improved from 0.81250 to 0.81538, saving model to best_model_1.h5\n",
            "3/3 [==============================] - 0s 38ms/step - loss: 0.6849 - precision: 0.8063 - val_loss: 0.6146 - val_precision: 0.8154\n",
            "Epoch 4/200\n",
            "1/3 [=========>....................] - ETA: 0s - loss: 0.6571 - precision: 0.7939\n",
            "Epoch 4: val_precision did not improve from 0.81538\n",
            "3/3 [==============================] - 0s 26ms/step - loss: 0.6571 - precision: 0.7949 - val_loss: 0.6120 - val_precision: 0.7971\n",
            "Epoch 5/200\n",
            "1/3 [=========>....................] - ETA: 0s - loss: 0.5588 - precision: 0.8489\n",
            "Epoch 5: val_precision did not improve from 0.81538\n",
            "3/3 [==============================] - 0s 21ms/step - loss: 0.6241 - precision: 0.8241 - val_loss: 0.6043 - val_precision: 0.7945\n",
            "Epoch 6/200\n",
            "1/3 [=========>....................] - ETA: 0s - loss: 0.5913 - precision: 0.8345\n",
            "Epoch 6: val_precision did not improve from 0.81538\n",
            "3/3 [==============================] - 0s 21ms/step - loss: 0.5915 - precision: 0.8163 - val_loss: 0.5974 - val_precision: 0.7733\n",
            "Epoch 7/200\n",
            "1/3 [=========>....................] - ETA: 0s - loss: 0.5946 - precision: 0.8071\n",
            "Epoch 7: val_precision did not improve from 0.81538\n",
            "3/3 [==============================] - 0s 33ms/step - loss: 0.6273 - precision: 0.7901 - val_loss: 0.5882 - val_precision: 0.7470\n",
            "Epoch 8/200\n",
            "1/3 [=========>....................] - ETA: 0s - loss: 0.6147 - precision: 0.7925\n",
            "Epoch 8: val_precision did not improve from 0.81538\n",
            "3/3 [==============================] - 0s 24ms/step - loss: 0.5922 - precision: 0.7846 - val_loss: 0.5758 - val_precision: 0.7500\n",
            "Epoch 9/200\n",
            "1/3 [=========>....................] - ETA: 0s - loss: 0.5599 - precision: 0.8193\n",
            "Epoch 9: val_precision did not improve from 0.81538\n",
            "3/3 [==============================] - 0s 22ms/step - loss: 0.5555 - precision: 0.8102 - val_loss: 0.5704 - val_precision: 0.7416\n",
            "Epoch 10/200\n",
            "1/3 [=========>....................] - ETA: 0s - loss: 0.6040 - precision: 0.8137\n",
            "Epoch 10: val_precision did not improve from 0.81538\n",
            "3/3 [==============================] - 0s 20ms/step - loss: 0.6121 - precision: 0.7836 - val_loss: 0.5714 - val_precision: 0.7416\n",
            "Epoch 11/200\n",
            "1/3 [=========>....................] - ETA: 0s - loss: 0.5095 - precision: 0.8166\n",
            "Epoch 11: val_precision did not improve from 0.81538\n",
            "3/3 [==============================] - 0s 28ms/step - loss: 0.5346 - precision: 0.8094 - val_loss: 0.5722 - val_precision: 0.7204\n",
            "Epoch 12/200\n",
            "1/3 [=========>....................] - ETA: 0s - loss: 0.5282 - precision: 0.8438\n",
            "Epoch 12: val_precision did not improve from 0.81538\n",
            "3/3 [==============================] - 0s 22ms/step - loss: 0.5362 - precision: 0.8211 - val_loss: 0.5767 - val_precision: 0.7204\n",
            "Epoch 13/200\n",
            "1/3 [=========>....................] - ETA: 0s - loss: 0.5507 - precision: 0.7688\n",
            "Epoch 13: val_precision did not improve from 0.81538\n",
            "3/3 [==============================] - 0s 25ms/step - loss: 0.5484 - precision: 0.8105 - val_loss: 0.5731 - val_precision: 0.7158\n",
            "Epoch 14/200\n",
            "1/3 [=========>....................] - ETA: 0s - loss: 0.5350 - precision: 0.8166\n",
            "Epoch 14: val_precision did not improve from 0.81538\n",
            "3/3 [==============================] - 0s 20ms/step - loss: 0.5691 - precision: 0.7852 - val_loss: 0.5707 - val_precision: 0.7188\n",
            "Epoch 15/200\n",
            "1/3 [=========>....................] - ETA: 0s - loss: 0.5370 - precision: 0.8081\n",
            "Epoch 15: val_precision did not improve from 0.81538\n",
            "3/3 [==============================] - 0s 23ms/step - loss: 0.5391 - precision: 0.8035 - val_loss: 0.5699 - val_precision: 0.7158\n",
            "Epoch 16/200\n",
            "1/3 [=========>....................] - ETA: 0s - loss: 0.5586 - precision: 0.7874\n",
            "Epoch 16: val_precision did not improve from 0.81538\n",
            "3/3 [==============================] - 0s 24ms/step - loss: 0.5230 - precision: 0.7965 - val_loss: 0.5695 - val_precision: 0.7200\n",
            "Epoch 17/200\n",
            "1/3 [=========>....................] - ETA: 0s - loss: 0.4827 - precision: 0.8166\n",
            "Epoch 17: val_precision did not improve from 0.81538\n",
            "3/3 [==============================] - 0s 25ms/step - loss: 0.5008 - precision: 0.8168 - val_loss: 0.5762 - val_precision: 0.7143\n",
            "Epoch 18/200\n",
            "1/3 [=========>....................] - ETA: 0s - loss: 0.4935 - precision: 0.8035\n",
            "Epoch 18: val_precision did not improve from 0.81538\n",
            "3/3 [==============================] - 0s 24ms/step - loss: 0.5225 - precision: 0.7985 - val_loss: 0.5777 - val_precision: 0.7129\n",
            "Epoch 19/200\n",
            "1/3 [=========>....................] - ETA: 0s - loss: 0.5603 - precision: 0.7765\n",
            "Epoch 19: val_precision did not improve from 0.81538\n",
            "3/3 [==============================] - 0s 25ms/step - loss: 0.5413 - precision: 0.7902 - val_loss: 0.5793 - val_precision: 0.7059\n",
            "Epoch 20/200\n",
            "1/3 [=========>....................] - ETA: 0s - loss: 0.5493 - precision: 0.7692\n",
            "Epoch 20: val_precision did not improve from 0.81538\n",
            "3/3 [==============================] - 0s 22ms/step - loss: 0.5083 - precision: 0.8005 - val_loss: 0.5807 - val_precision: 0.6990\n",
            "Epoch 21/200\n",
            "1/3 [=========>....................] - ETA: 0s - loss: 0.5179 - precision: 0.8192\n",
            "Epoch 21: val_precision did not improve from 0.81538\n",
            "3/3 [==============================] - 0s 25ms/step - loss: 0.5453 - precision: 0.7957 - val_loss: 0.5822 - val_precision: 0.7129\n",
            "Epoch 22/200\n",
            "1/3 [=========>....................] - ETA: 0s - loss: 0.5122 - precision: 0.7978\n",
            "Epoch 22: val_precision did not improve from 0.81538\n",
            "3/3 [==============================] - 0s 20ms/step - loss: 0.4779 - precision: 0.8217 - val_loss: 0.5857 - val_precision: 0.7059\n",
            "Epoch 23/200\n",
            "1/3 [=========>....................] - ETA: 0s - loss: 0.5769 - precision: 0.7611\n",
            "Epoch 23: val_precision did not improve from 0.81538\n",
            "3/3 [==============================] - 0s 22ms/step - loss: 0.5674 - precision: 0.7885 - val_loss: 0.5864 - val_precision: 0.7041\n",
            "Epoch 24/200\n",
            "1/3 [=========>....................] - ETA: 0s - loss: 0.4983 - precision: 0.8011\n",
            "Epoch 24: val_precision did not improve from 0.81538\n",
            "3/3 [==============================] - 0s 22ms/step - loss: 0.5131 - precision: 0.8024 - val_loss: 0.5867 - val_precision: 0.7129\n",
            "Epoch 25/200\n",
            "1/3 [=========>....................] - ETA: 0s - loss: 0.5121 - precision: 0.8152\n",
            "Epoch 25: val_precision did not improve from 0.81538\n",
            "3/3 [==============================] - 0s 21ms/step - loss: 0.5175 - precision: 0.8005 - val_loss: 0.5860 - val_precision: 0.7273\n",
            "Epoch 26/200\n",
            "1/3 [=========>....................] - ETA: 0s - loss: 0.4922 - precision: 0.8324\n",
            "Epoch 26: val_precision did not improve from 0.81538\n",
            "3/3 [==============================] - 0s 28ms/step - loss: 0.5107 - precision: 0.8038 - val_loss: 0.5849 - val_precision: 0.7157\n",
            "Epoch 27/200\n",
            "1/3 [=========>....................] - ETA: 0s - loss: 0.6039 - precision: 0.7582\n",
            "Epoch 27: val_precision did not improve from 0.81538\n",
            "3/3 [==============================] - 0s 20ms/step - loss: 0.5194 - precision: 0.8033 - val_loss: 0.5857 - val_precision: 0.7115\n",
            "Epoch 28/200\n",
            "1/3 [=========>....................] - ETA: 0s - loss: 0.4733 - precision: 0.8324\n",
            "Epoch 28: val_precision did not improve from 0.81538\n",
            "3/3 [==============================] - 0s 24ms/step - loss: 0.5039 - precision: 0.8048 - val_loss: 0.5824 - val_precision: 0.7087\n",
            "Epoch 29/200\n",
            "1/3 [=========>....................] - ETA: 0s - loss: 0.4747 - precision: 0.8105\n",
            "Epoch 29: val_precision did not improve from 0.81538\n",
            "3/3 [==============================] - 0s 20ms/step - loss: 0.4998 - precision: 0.8024 - val_loss: 0.5779 - val_precision: 0.6990\n",
            "Epoch 30/200\n",
            "1/3 [=========>....................] - ETA: 0s - loss: 0.4807 - precision: 0.8307\n",
            "Epoch 30: val_precision did not improve from 0.81538\n",
            "3/3 [==============================] - 0s 20ms/step - loss: 0.4902 - precision: 0.8061 - val_loss: 0.5753 - val_precision: 0.7019\n",
            "Epoch 31/200\n",
            "1/3 [=========>....................] - ETA: 0s - loss: 0.5762 - precision: 0.7539\n",
            "Epoch 31: val_precision did not improve from 0.81538\n",
            "3/3 [==============================] - 0s 21ms/step - loss: 0.5146 - precision: 0.7882 - val_loss: 0.5794 - val_precision: 0.6990\n",
            "Epoch 32/200\n",
            "1/3 [=========>....................] - ETA: 0s - loss: 0.5297 - precision: 0.7838\n",
            "Epoch 32: val_precision did not improve from 0.81538\n",
            "3/3 [==============================] - 0s 22ms/step - loss: 0.4836 - precision: 0.8113 - val_loss: 0.5848 - val_precision: 0.6990\n",
            "Epoch 33/200\n",
            "1/3 [=========>....................] - ETA: 0s - loss: 0.4629 - precision: 0.8021\n",
            "Epoch 33: val_precision did not improve from 0.81538\n",
            "3/3 [==============================] - 0s 24ms/step - loss: 0.4710 - precision: 0.8121 - val_loss: 0.5892 - val_precision: 0.7059\n",
            "Epoch 34/200\n",
            "1/3 [=========>....................] - ETA: 0s - loss: 0.4627 - precision: 0.7880\n",
            "Epoch 34: val_precision did not improve from 0.81538\n",
            "3/3 [==============================] - 0s 24ms/step - loss: 0.5062 - precision: 0.7726 - val_loss: 0.5895 - val_precision: 0.7100\n",
            "Epoch 35/200\n",
            "1/3 [=========>....................] - ETA: 0s - loss: 0.5099 - precision: 0.7772\n",
            "Epoch 35: val_precision did not improve from 0.81538\n",
            "3/3 [==============================] - 0s 23ms/step - loss: 0.4732 - precision: 0.8060 - val_loss: 0.5954 - val_precision: 0.7157\n",
            "Epoch 36/200\n",
            "1/3 [=========>....................] - ETA: 0s - loss: 0.4918 - precision: 0.7947\n",
            "Epoch 36: val_precision did not improve from 0.81538\n",
            "3/3 [==============================] - 0s 22ms/step - loss: 0.4789 - precision: 0.8064 - val_loss: 0.5985 - val_precision: 0.7019\n",
            "Epoch 36: early stopping\n"
          ]
        }
      ]
    },
    {
      "cell_type": "markdown",
      "source": [
        "## Model evaluation"
      ],
      "metadata": {
        "id": "9FgyKXs3bUFb"
      }
    },
    {
      "cell_type": "code",
      "source": [
        "plt.plot(history.history['precision'])\n",
        "plt.plot(history.history['val_precision'])\n",
        "plt.title('Training/Validation precision vs. Epochs')\n",
        "plt.xlabel('Epochs')\n",
        "plt.ylabel('Precision')\n",
        "plt.legend(['Train precision', 'Validation precision'], loc='best')\n",
        "# plt.savefig('image', bbox_inches='tight')\n",
        "plt.show()"
      ],
      "metadata": {
        "id": "-Nff_6oee8Up",
        "colab": {
          "base_uri": "https://localhost:8080/",
          "height": 295
        },
        "outputId": "090a6925-05bc-4268-942d-fd3441a30db9"
      },
      "execution_count": 278,
      "outputs": [
        {
          "output_type": "display_data",
          "data": {
            "text/plain": [
              "<Figure size 432x288 with 1 Axes>"
            ],
            "image/png": "[encoded data removed]"
          },
          "metadata": {
            "needs_background": "light"
          }
        }
      ]
    },
    {
      "cell_type": "code",
      "source": [
        "plt.plot(history.history['loss'])\n",
        "plt.plot(history.history['val_loss'])\n",
        "plt.title('Training/Validation Loss vs. Epochs')\n",
        "plt.xlabel('Epochs')\n",
        "plt.ylabel('Loss')\n",
        "plt.legend(['Train Loss', 'Validation Loss'], loc='best')\n",
        "# plt.savefig('image', bbox_inches='tight')\n",
        "plt.show()"
      ],
      "metadata": {
        "id": "1LDa8mb6fO-K",
        "colab": {
          "base_uri": "https://localhost:8080/",
          "height": 295
        },
        "outputId": "8ffc3bc9-97d3-484e-d3a3-0c7c661f8ac6"
      },
      "execution_count": 279,
      "outputs": [
        {
          "output_type": "display_data",
          "data": {
            "text/plain": [
              "<Figure size 432x288 with 1 Axes>"
            ],
            "image/png": "[encoded data removed]"
          },
          "metadata": {
            "needs_background": "light"
          }
        }
      ]
    },
    {
      "cell_type": "code",
      "source": [
        "best_model = load_model(config['BEST_MODEL'])"
      ],
      "metadata": {
        "id": "rjcUwMfhfXUh"
      },
      "execution_count": 280,
      "outputs": []
    },
    {
      "cell_type": "code",
      "source": [
        "test_results = best_model.evaluate(X_test_std, y_test, batch_size=config['BATCH_SIZE'], workers=12, return_dict=True)\n",
        "print(f'Test results:\\t Loss: {test_results[\"loss\"]:.4f}\\t Precision: {test_results[\"precision\"]:.4f}')"
      ],
      "metadata": {
        "id": "3BbIIWRlhp74",
        "colab": {
          "base_uri": "https://localhost:8080/"
        },
        "outputId": "8fd19c10-9c24-4c49-8b9b-7a6be64eaa8c"
      },
      "execution_count": 306,
      "outputs": [
        {
          "output_type": "stream",
          "name": "stdout",
          "text": [
            "1/1 [==============================] - 0s 24ms/step - loss: 0.5859 - precision: 0.8795\n",
            "Test results:\t Loss: 0.5859\t Precision: 0.8795\n"
          ]
        }
      ]
    },
    {
      "cell_type": "code",
      "source": [
        "train_probas = best_model.predict(X_train_std, workers=12)\n",
        "train_probas = train_probas.reshape(-1)\n",
        "train_y_pred = (train_probas > 0.5).astype(int)\n",
        "evaluate_classifier(y_train.astype(int), train_y_pred)"
      ],
      "metadata": {
        "colab": {
          "base_uri": "https://localhost:8080/"
        },
        "id": "Slrhzdp1VMLL",
        "outputId": "1aa69a82-b79e-4468-88d3-d1319f974397"
      },
      "execution_count": 282,
      "outputs": [
        {
          "output_type": "stream",
          "name": "stdout",
          "text": [
            "Accuracy: 0.6951\n",
            "Recall: 0.6457\n",
            "Precision: 0.8462\n",
            "F1: 0.7325\n"
          ]
        }
      ]
    },
    {
      "cell_type": "code",
      "source": [
        "test_probas = best_model.predict(X_test_std, workers=12)\n",
        "test_probas = test_probas.reshape(-1)\n",
        "test_y_pred = (test_probas > 0.5).astype(int)\n",
        "evaluate_classifier(y_test.astype(int), test_y_pred)"
      ],
      "metadata": {
        "colab": {
          "base_uri": "https://localhost:8080/"
        },
        "id": "xb_O1zteb8Zf",
        "outputId": "d096fb73-3212-4e72-e16a-a0f03965e804"
      },
      "execution_count": 283,
      "outputs": [
        {
          "output_type": "stream",
          "name": "stdout",
          "text": [
            "Accuracy: 0.6919\n",
            "Recall: 0.6083\n",
            "Precision: 0.8795\n",
            "F1: 0.7192\n"
          ]
        }
      ]
    },
    {
      "cell_type": "code",
      "source": [
        "confusion_matrix = metrics.confusion_matrix(y_true=y_test.astype(int), y_pred=test_y_pred)\n",
        "confusion_matrix"
      ],
      "metadata": {
        "colab": {
          "base_uri": "https://localhost:8080/"
        },
        "id": "-Zp4he2_ebDP",
        "outputId": "4facfe6f-1d19-4f2b-eded-aefd33e6d9e1"
      },
      "execution_count": 284,
      "outputs": [
        {
          "output_type": "execute_result",
          "data": {
            "text/plain": [
              "array([[55, 10],\n",
              "       [47, 73]])"
            ]
          },
          "metadata": {},
          "execution_count": 284
        }
      ]
    },
    {
      "cell_type": "code",
      "source": [
        "plot_confusion_matrix(confusion_matrix=confusion_matrix, figsize=(5, 4))"
      ],
      "metadata": {
        "colab": {
          "base_uri": "https://localhost:8080/",
          "height": 299
        },
        "id": "kDz8InnpgHrb",
        "outputId": "ab16764f-b29f-4495-f2ec-76129659087f"
      },
      "execution_count": 285,
      "outputs": [
        {
          "output_type": "display_data",
          "data": {
            "text/plain": [
              "<Figure size 360x288 with 2 Axes>"
            ],
            "image/png": "[encoded data removed]"
          },
          "metadata": {
            "needs_background": "light"
          }
        }
      ]
    },
    {
      "cell_type": "markdown",
      "source": [
        "## Comparing false positives with true positives"
      ],
      "metadata": {
        "id": "kFEx_7rxgdgh"
      }
    },
    {
      "cell_type": "code",
      "source": [
        "y_test_arr = y_test.astype(int)\n",
        "false_positives = (y_test_arr != test_y_pred) & (y_test_arr == 0)\n",
        "df_false_positives = X_test[false_positives]\n",
        "print(f'False positives count: {len(df_false_positives)}')\n",
        "df_false_positives"
      ],
      "metadata": {
        "colab": {
          "base_uri": "https://localhost:8080/",
          "height": 445
        },
        "id": "2zJSMUEpgNZF",
        "outputId": "8d296451-b912-4ab1-8161-a3267ffc97c6"
      },
      "execution_count": 286,
      "outputs": [
        {
          "output_type": "stream",
          "name": "stdout",
          "text": [
            "False positives count: 10\n"
          ]
        },
        {
          "output_type": "execute_result",
          "data": {
            "text/plain": [
              "     age_first_funding_year  age_last_funding_year  relationships  \\\n",
              "439                  2.4438                 7.1973              6   \n",
              "345                  1.1836                 1.3781              7   \n",
              "36                   0.6192                 1.5945              8   \n",
              "105                  2.4658                 4.8329              4   \n",
              "202                  0.8164                 5.5616              8   \n",
              "584                 -3.5068                 0.3945              5   \n",
              "515                  2.1616                 3.2877             13   \n",
              "206                  1.1699                 1.4986              3   \n",
              "707                  3.0356                 6.7534              2   \n",
              "230                  2.1890                 2.1890             32   \n",
              "\n",
              "     funding_rounds  funding_total_usd  milestones  has_VC  has_angel  \\\n",
              "439               3           25500100           3       1          0   \n",
              "345               2            1900000           2       0          1   \n",
              "36                2           14600000           3       0          0   \n",
              "105               2            5000000           6       0          0   \n",
              "202               4           32500000           3       0          0   \n",
              "584               3           11300000           2       1          0   \n",
              "515               2           33000000           4       0          0   \n",
              "206               2            4700000           4       0          1   \n",
              "707               3           33000000           1       0          0   \n",
              "230               1            9000000           0       0          0   \n",
              "\n",
              "     has_roundA  has_roundB  has_roundC  has_roundD  avg_participants  \\\n",
              "439           0           1           0           0              2.50   \n",
              "345           1           0           0           0              2.50   \n",
              "36            1           1           0           0              2.00   \n",
              "105           1           1           0           0              1.00   \n",
              "202           1           1           1           1              2.75   \n",
              "584           0           1           1           0              1.00   \n",
              "515           1           1           0           0              2.50   \n",
              "206           1           0           0           0              1.50   \n",
              "707           1           1           1           0              4.00   \n",
              "230           0           1           0           0              4.00   \n",
              "\n",
              "     is_top500  \n",
              "439          1  \n",
              "345          1  \n",
              "36           1  \n",
              "105          0  \n",
              "202          1  \n",
              "584          1  \n",
              "515          1  \n",
              "206          1  \n",
              "707          1  \n",
              "230          1  "
            ],
            "text/html": [
              "\n",
              "  <div id=\"df-1aade7ce-4c32-4846-9412-ec77d1f8e5e3\">\n",
              "    <div class=\"colab-df-container\">\n",
              "      <div>\n",
              "<style scoped>\n",
              "    .dataframe tbody tr th:only-of-type {\n",
              "        vertical-align: middle;\n",
              "    }\n",
              "\n",
              "    .dataframe tbody tr th {\n",
              "        vertical-align: top;\n",
              "    }\n",
              "\n",
              "    .dataframe thead th {\n",
              "        text-align: right;\n",
              "    }\n",
              "</style>\n",
              "<table border=\"1\" class=\"dataframe\">\n",
              "  <thead>\n",
              "    <tr style=\"text-align: right;\">\n",
              "      <th></th>\n",
              "      <th>age_first_funding_year</th>\n",
              "      <th>age_last_funding_year</th>\n",
              "      <th>relationships</th>\n",
              "      <th>funding_rounds</th>\n",
              "      <th>funding_total_usd</th>\n",
              "      <th>milestones</th>\n",
              "      <th>has_VC</th>\n",
              "      <th>has_angel</th>\n",
              "      <th>has_roundA</th>\n",
              "      <th>has_roundB</th>\n",
              "      <th>has_roundC</th>\n",
              "      <th>has_roundD</th>\n",
              "      <th>avg_participants</th>\n",
              "      <th>is_top500</th>\n",
              "    </tr>\n",
              "  </thead>\n",
              "  <tbody>\n",
              "    <tr>\n",
              "      <th>439</th>\n",
              "      <td>2.4438</td>\n",
              "      <td>7.1973</td>\n",
              "      <td>6</td>\n",
              "      <td>3</td>\n",
              "      <td>25500100</td>\n",
              "      <td>3</td>\n",
              "      <td>1</td>\n",
              "      <td>0</td>\n",
              "      <td>0</td>\n",
              "      <td>1</td>\n",
              "      <td>0</td>\n",
              "      <td>0</td>\n",
              "      <td>2.50</td>\n",
              "      <td>1</td>\n",
              "    </tr>\n",
              "    <tr>\n",
              "      <th>345</th>\n",
              "      <td>1.1836</td>\n",
              "      <td>1.3781</td>\n",
              "      <td>7</td>\n",
              "      <td>2</td>\n",
              "      <td>1900000</td>\n",
              "      <td>2</td>\n",
              "      <td>0</td>\n",
              "      <td>1</td>\n",
              "      <td>1</td>\n",
              "      <td>0</td>\n",
              "      <td>0</td>\n",
              "      <td>0</td>\n",
              "      <td>2.50</td>\n",
              "      <td>1</td>\n",
              "    </tr>\n",
              "    <tr>\n",
              "      <th>36</th>\n",
              "      <td>0.6192</td>\n",
              "      <td>1.5945</td>\n",
              "      <td>8</td>\n",
              "      <td>2</td>\n",
              "      <td>14600000</td>\n",
              "      <td>3</td>\n",
              "      <td>0</td>\n",
              "      <td>0</td>\n",
              "      <td>1</td>\n",
              "      <td>1</td>\n",
              "      <td>0</td>\n",
              "      <td>0</td>\n",
              "      <td>2.00</td>\n",
              "      <td>1</td>\n",
              "    </tr>\n",
              "    <tr>\n",
              "      <th>105</th>\n",
              "      <td>2.4658</td>\n",
              "      <td>4.8329</td>\n",
              "      <td>4</td>\n",
              "      <td>2</td>\n",
              "      <td>5000000</td>\n",
              "      <td>6</td>\n",
              "      <td>0</td>\n",
              "      <td>0</td>\n",
              "      <td>1</td>\n",
              "      <td>1</td>\n",
              "      <td>0</td>\n",
              "      <td>0</td>\n",
              "      <td>1.00</td>\n",
              "      <td>0</td>\n",
              "    </tr>\n",
              "    <tr>\n",
              "      <th>202</th>\n",
              "      <td>0.8164</td>\n",
              "      <td>5.5616</td>\n",
              "      <td>8</td>\n",
              "      <td>4</td>\n",
              "      <td>32500000</td>\n",
              "      <td>3</td>\n",
              "      <td>0</td>\n",
              "      <td>0</td>\n",
              "      <td>1</td>\n",
              "      <td>1</td>\n",
              "      <td>1</td>\n",
              "      <td>1</td>\n",
              "      <td>2.75</td>\n",
              "      <td>1</td>\n",
              "    </tr>\n",
              "    <tr>\n",
              "      <th>584</th>\n",
              "      <td>-3.5068</td>\n",
              "      <td>0.3945</td>\n",
              "      <td>5</td>\n",
              "      <td>3</td>\n",
              "      <td>11300000</td>\n",
              "      <td>2</td>\n",
              "      <td>1</td>\n",
              "      <td>0</td>\n",
              "      <td>0</td>\n",
              "      <td>1</td>\n",
              "      <td>1</td>\n",
              "      <td>0</td>\n",
              "      <td>1.00</td>\n",
              "      <td>1</td>\n",
              "    </tr>\n",
              "    <tr>\n",
              "      <th>515</th>\n",
              "      <td>2.1616</td>\n",
              "      <td>3.2877</td>\n",
              "      <td>13</td>\n",
              "      <td>2</td>\n",
              "      <td>33000000</td>\n",
              "      <td>4</td>\n",
              "      <td>0</td>\n",
              "      <td>0</td>\n",
              "      <td>1</td>\n",
              "      <td>1</td>\n",
              "      <td>0</td>\n",
              "      <td>0</td>\n",
              "      <td>2.50</td>\n",
              "      <td>1</td>\n",
              "    </tr>\n",
              "    <tr>\n",
              "      <th>206</th>\n",
              "      <td>1.1699</td>\n",
              "      <td>1.4986</td>\n",
              "      <td>3</td>\n",
              "      <td>2</td>\n",
              "      <td>4700000</td>\n",
              "      <td>4</td>\n",
              "      <td>0</td>\n",
              "      <td>1</td>\n",
              "      <td>1</td>\n",
              "      <td>0</td>\n",
              "      <td>0</td>\n",
              "      <td>0</td>\n",
              "      <td>1.50</td>\n",
              "      <td>1</td>\n",
              "    </tr>\n",
              "    <tr>\n",
              "      <th>707</th>\n",
              "      <td>3.0356</td>\n",
              "      <td>6.7534</td>\n",
              "      <td>2</td>\n",
              "      <td>3</td>\n",
              "      <td>33000000</td>\n",
              "      <td>1</td>\n",
              "      <td>0</td>\n",
              "      <td>0</td>\n",
              "      <td>1</td>\n",
              "      <td>1</td>\n",
              "      <td>1</td>\n",
              "      <td>0</td>\n",
              "      <td>4.00</td>\n",
              "      <td>1</td>\n",
              "    </tr>\n",
              "    <tr>\n",
              "      <th>230</th>\n",
              "      <td>2.1890</td>\n",
              "      <td>2.1890</td>\n",
              "      <td>32</td>\n",
              "      <td>1</td>\n",
              "      <td>9000000</td>\n",
              "      <td>0</td>\n",
              "      <td>0</td>\n",
              "      <td>0</td>\n",
              "      <td>0</td>\n",
              "      <td>1</td>\n",
              "      <td>0</td>\n",
              "      <td>0</td>\n",
              "      <td>4.00</td>\n",
              "      <td>1</td>\n",
              "    </tr>\n",
              "  </tbody>\n",
              "</table>\n",
              "</div>\n",
              "      <button class=\"colab-df-convert\" onclick=\"convertToInteractive('df-1aade7ce-4c32-4846-9412-ec77d1f8e5e3')\"\n",
              "              title=\"Convert this dataframe to an interactive table.\"\n",
              "              style=\"display:none;\">\n",
              "        \n",
              "  <svg xmlns=\"http://www.w3.org/2000/svg\" height=\"24px\"viewBox=\"0 0 24 24\"\n",
              "       width=\"24px\">\n",
              "    <path d=\"M0 0h24v24H0V0z\" fill=\"none\"/>\n",
              "    <path d=\"M18.56 5.44l.94 2.06.94-2.06 2.06-.94-2.06-.94-.94-2.06-.94 2.06-2.06.94zm-11 1L8.5 8.5l.94-2.06 2.06-.94-2.06-.94L8.5 2.5l-.94 2.06-2.06.94zm10 10l.94 2.06.94-2.06 2.06-.94-2.06-.94-.94-2.06-.94 2.06-2.06.94z\"/><path d=\"M17.41 7.96l-1.37-1.37c-.4-.4-.92-.59-1.43-.59-.52 0-1.04.2-1.43.59L10.3 9.45l-7.72 7.72c-.78.78-.78 2.05 0 2.83L4 21.41c.39.39.9.59 1.41.59.51 0 1.02-.2 1.41-.59l7.78-7.78 2.81-2.81c.8-.78.8-2.07 0-2.86zM5.41 20L4 18.59l7.72-7.72 1.47 1.35L5.41 20z\"/>\n",
              "  </svg>\n",
              "      </button>\n",
              "      \n",
              "  <style>\n",
              "    .colab-df-container {\n",
              "      display:flex;\n",
              "      flex-wrap:wrap;\n",
              "      gap: 12px;\n",
              "    }\n",
              "\n",
              "    .colab-df-convert {\n",
              "      background-color: #E8F0FE;\n",
              "      border: none;\n",
              "      border-radius: 50%;\n",
              "      cursor: pointer;\n",
              "      display: none;\n",
              "      fill: #1967D2;\n",
              "      height: 32px;\n",
              "      padding: 0 0 0 0;\n",
              "      width: 32px;\n",
              "    }\n",
              "\n",
              "    .colab-df-convert:hover {\n",
              "      background-color: #E2EBFA;\n",
              "      box-shadow: 0px 1px 2px rgba(60, 64, 67, 0.3), 0px 1px 3px 1px rgba(60, 64, 67, 0.15);\n",
              "      fill: #174EA6;\n",
              "    }\n",
              "\n",
              "    [theme=dark] .colab-df-convert {\n",
              "      background-color: #3B4455;\n",
              "      fill: #D2E3FC;\n",
              "    }\n",
              "\n",
              "    [theme=dark] .colab-df-convert:hover {\n",
              "      background-color: #434B5C;\n",
              "      box-shadow: 0px 1px 3px 1px rgba(0, 0, 0, 0.15);\n",
              "      filter: drop-shadow(0px 1px 2px rgba(0, 0, 0, 0.3));\n",
              "      fill: #FFFFFF;\n",
              "    }\n",
              "  </style>\n",
              "\n",
              "      <script>\n",
              "        const buttonEl =\n",
              "          document.querySelector('#df-1aade7ce-4c32-4846-9412-ec77d1f8e5e3 button.colab-df-convert');\n",
              "        buttonEl.style.display =\n",
              "          google.colab.kernel.accessAllowed ? 'block' : 'none';\n",
              "\n",
              "        async function convertToInteractive(key) {\n",
              "          const element = document.querySelector('#df-1aade7ce-4c32-4846-9412-ec77d1f8e5e3');\n",
              "          const dataTable =\n",
              "            await google.colab.kernel.invokeFunction('convertToInteractive',\n",
              "                                                     [key], {});\n",
              "          if (!dataTable) return;\n",
              "\n",
              "          const docLinkHtml = 'Like what you see? Visit the ' +\n",
              "            '<a target=\"_blank\" href=https://colab.research.google.com/notebooks/data_table.ipynb>data table notebook</a>'\n",
              "            + ' to learn more about interactive tables.';\n",
              "          element.innerHTML = '';\n",
              "          dataTable['output_type'] = 'display_data';\n",
              "          await google.colab.output.renderOutput(dataTable, element);\n",
              "          const docLink = document.createElement('div');\n",
              "          docLink.innerHTML = docLinkHtml;\n",
              "          element.appendChild(docLink);\n",
              "        }\n",
              "      </script>\n",
              "    </div>\n",
              "  </div>\n",
              "  "
            ]
          },
          "metadata": {},
          "execution_count": 286
        }
      ]
    },
    {
      "cell_type": "code",
      "source": [
        "true_positives = (y_test_arr == test_y_pred) & (y_test_arr == 1)\n",
        "df_true_positives = X_test[true_positives]\n",
        "print(f'True positives count: {len(df_true_positives)}')\n",
        "df_true_positives"
      ],
      "metadata": {
        "colab": {
          "base_uri": "https://localhost:8080/",
          "height": 506
        },
        "id": "C8ZJJziPhENN",
        "outputId": "64aacedc-d616-45c6-f915-2d97719ba2b9"
      },
      "execution_count": 287,
      "outputs": [
        {
          "output_type": "stream",
          "name": "stdout",
          "text": [
            "True positives count: 73\n"
          ]
        },
        {
          "output_type": "execute_result",
          "data": {
            "text/plain": [
              "     age_first_funding_year  age_last_funding_year  relationships  \\\n",
              "621                  5.6438                 5.6438              9   \n",
              "156                  4.7068                 4.7068             17   \n",
              "324                  0.4548                 0.7041              5   \n",
              "145                  1.6712                 3.7863             11   \n",
              "370                  2.2521                 4.7397             22   \n",
              "..                      ...                    ...            ...   \n",
              "153                  3.1041                 4.9205             10   \n",
              "509                  0.0411                 3.1425             30   \n",
              "261                  7.3534                 8.1260             13   \n",
              "699                  1.1616                 4.1644             19   \n",
              "799                  1.5151                 2.9370              6   \n",
              "\n",
              "     funding_rounds  funding_total_usd  milestones  has_VC  has_angel  \\\n",
              "621               1           12700000           2       0          0   \n",
              "156               1             940261           2       0          0   \n",
              "324               2            1000000           3       1          0   \n",
              "145               3           11040000           2       0          0   \n",
              "370               3           39007789           5       0          0   \n",
              "..              ...                ...         ...     ...        ...   \n",
              "153               2           11500000           5       0          0   \n",
              "509               2            6875000           5       1          0   \n",
              "261               2           24500000           2       0          0   \n",
              "699               4           33000000           4       0          0   \n",
              "799               2            2250000           2       1          0   \n",
              "\n",
              "     has_roundA  has_roundB  has_roundC  has_roundD  avg_participants  \\\n",
              "621           0           0           0           1            4.0000   \n",
              "156           1           0           0           0            1.0000   \n",
              "324           1           0           0           0            5.5000   \n",
              "145           1           1           1           0            2.5000   \n",
              "370           1           1           1           0            3.0000   \n",
              "..          ...         ...         ...         ...               ...   \n",
              "153           1           1           0           0            2.5000   \n",
              "509           1           0           0           0            7.0000   \n",
              "261           0           0           0           0            5.5000   \n",
              "699           1           1           1           1            1.3333   \n",
              "799           0           0           0           0            8.5000   \n",
              "\n",
              "     is_top500  \n",
              "621          1  \n",
              "156          1  \n",
              "324          1  \n",
              "145          1  \n",
              "370          1  \n",
              "..         ...  \n",
              "153          1  \n",
              "509          1  \n",
              "261          1  \n",
              "699          1  \n",
              "799          1  \n",
              "\n",
              "[73 rows x 14 columns]"
            ],
            "text/html": [
              "\n",
              "  <div id=\"df-a3f0cda4-bea6-4b1a-afee-f7f241fdd928\">\n",
              "    <div class=\"colab-df-container\">\n",
              "      <div>\n",
              "<style scoped>\n",
              "    .dataframe tbody tr th:only-of-type {\n",
              "        vertical-align: middle;\n",
              "    }\n",
              "\n",
              "    .dataframe tbody tr th {\n",
              "        vertical-align: top;\n",
              "    }\n",
              "\n",
              "    .dataframe thead th {\n",
              "        text-align: right;\n",
              "    }\n",
              "</style>\n",
              "<table border=\"1\" class=\"dataframe\">\n",
              "  <thead>\n",
              "    <tr style=\"text-align: right;\">\n",
              "      <th></th>\n",
              "      <th>age_first_funding_year</th>\n",
              "      <th>age_last_funding_year</th>\n",
              "      <th>relationships</th>\n",
              "      <th>funding_rounds</th>\n",
              "      <th>funding_total_usd</th>\n",
              "      <th>milestones</th>\n",
              "      <th>has_VC</th>\n",
              "      <th>has_angel</th>\n",
              "      <th>has_roundA</th>\n",
              "      <th>has_roundB</th>\n",
              "      <th>has_roundC</th>\n",
              "      <th>has_roundD</th>\n",
              "      <th>avg_participants</th>\n",
              "      <th>is_top500</th>\n",
              "    </tr>\n",
              "  </thead>\n",
              "  <tbody>\n",
              "    <tr>\n",
              "      <th>621</th>\n",
              "      <td>5.6438</td>\n",
              "      <td>5.6438</td>\n",
              "      <td>9</td>\n",
              "      <td>1</td>\n",
              "      <td>12700000</td>\n",
              "      <td>2</td>\n",
              "      <td>0</td>\n",
              "      <td>0</td>\n",
              "      <td>0</td>\n",
              "      <td>0</td>\n",
              "      <td>0</td>\n",
              "      <td>1</td>\n",
              "      <td>4.0000</td>\n",
              "      <td>1</td>\n",
              "    </tr>\n",
              "    <tr>\n",
              "      <th>156</th>\n",
              "      <td>4.7068</td>\n",
              "      <td>4.7068</td>\n",
              "      <td>17</td>\n",
              "      <td>1</td>\n",
              "      <td>940261</td>\n",
              "      <td>2</td>\n",
              "      <td>0</td>\n",
              "      <td>0</td>\n",
              "      <td>1</td>\n",
              "      <td>0</td>\n",
              "      <td>0</td>\n",
              "      <td>0</td>\n",
              "      <td>1.0000</td>\n",
              "      <td>1</td>\n",
              "    </tr>\n",
              "    <tr>\n",
              "      <th>324</th>\n",
              "      <td>0.4548</td>\n",
              "      <td>0.7041</td>\n",
              "      <td>5</td>\n",
              "      <td>2</td>\n",
              "      <td>1000000</td>\n",
              "      <td>3</td>\n",
              "      <td>1</td>\n",
              "      <td>0</td>\n",
              "      <td>1</td>\n",
              "      <td>0</td>\n",
              "      <td>0</td>\n",
              "      <td>0</td>\n",
              "      <td>5.5000</td>\n",
              "      <td>1</td>\n",
              "    </tr>\n",
              "    <tr>\n",
              "      <th>145</th>\n",
              "      <td>1.6712</td>\n",
              "      <td>3.7863</td>\n",
              "      <td>11</td>\n",
              "      <td>3</td>\n",
              "      <td>11040000</td>\n",
              "      <td>2</td>\n",
              "      <td>0</td>\n",
              "      <td>0</td>\n",
              "      <td>1</td>\n",
              "      <td>1</td>\n",
              "      <td>1</td>\n",
              "      <td>0</td>\n",
              "      <td>2.5000</td>\n",
              "      <td>1</td>\n",
              "    </tr>\n",
              "    <tr>\n",
              "      <th>370</th>\n",
              "      <td>2.2521</td>\n",
              "      <td>4.7397</td>\n",
              "      <td>22</td>\n",
              "      <td>3</td>\n",
              "      <td>39007789</td>\n",
              "      <td>5</td>\n",
              "      <td>0</td>\n",
              "      <td>0</td>\n",
              "      <td>1</td>\n",
              "      <td>1</td>\n",
              "      <td>1</td>\n",
              "      <td>0</td>\n",
              "      <td>3.0000</td>\n",
              "      <td>1</td>\n",
              "    </tr>\n",
              "    <tr>\n",
              "      <th>...</th>\n",
              "      <td>...</td>\n",
              "      <td>...</td>\n",
              "      <td>...</td>\n",
              "      <td>...</td>\n",
              "      <td>...</td>\n",
              "      <td>...</td>\n",
              "      <td>...</td>\n",
              "      <td>...</td>\n",
              "      <td>...</td>\n",
              "      <td>...</td>\n",
              "      <td>...</td>\n",
              "      <td>...</td>\n",
              "      <td>...</td>\n",
              "      <td>...</td>\n",
              "    </tr>\n",
              "    <tr>\n",
              "      <th>153</th>\n",
              "      <td>3.1041</td>\n",
              "      <td>4.9205</td>\n",
              "      <td>10</td>\n",
              "      <td>2</td>\n",
              "      <td>11500000</td>\n",
              "      <td>5</td>\n",
              "      <td>0</td>\n",
              "      <td>0</td>\n",
              "      <td>1</td>\n",
              "      <td>1</td>\n",
              "      <td>0</td>\n",
              "      <td>0</td>\n",
              "      <td>2.5000</td>\n",
              "      <td>1</td>\n",
              "    </tr>\n",
              "    <tr>\n",
              "      <th>509</th>\n",
              "      <td>0.0411</td>\n",
              "      <td>3.1425</td>\n",
              "      <td>30</td>\n",
              "      <td>2</td>\n",
              "      <td>6875000</td>\n",
              "      <td>5</td>\n",
              "      <td>1</td>\n",
              "      <td>0</td>\n",
              "      <td>1</td>\n",
              "      <td>0</td>\n",
              "      <td>0</td>\n",
              "      <td>0</td>\n",
              "      <td>7.0000</td>\n",
              "      <td>1</td>\n",
              "    </tr>\n",
              "    <tr>\n",
              "      <th>261</th>\n",
              "      <td>7.3534</td>\n",
              "      <td>8.1260</td>\n",
              "      <td>13</td>\n",
              "      <td>2</td>\n",
              "      <td>24500000</td>\n",
              "      <td>2</td>\n",
              "      <td>0</td>\n",
              "      <td>0</td>\n",
              "      <td>0</td>\n",
              "      <td>0</td>\n",
              "      <td>0</td>\n",
              "      <td>0</td>\n",
              "      <td>5.5000</td>\n",
              "      <td>1</td>\n",
              "    </tr>\n",
              "    <tr>\n",
              "      <th>699</th>\n",
              "      <td>1.1616</td>\n",
              "      <td>4.1644</td>\n",
              "      <td>19</td>\n",
              "      <td>4</td>\n",
              "      <td>33000000</td>\n",
              "      <td>4</td>\n",
              "      <td>0</td>\n",
              "      <td>0</td>\n",
              "      <td>1</td>\n",
              "      <td>1</td>\n",
              "      <td>1</td>\n",
              "      <td>1</td>\n",
              "      <td>1.3333</td>\n",
              "      <td>1</td>\n",
              "    </tr>\n",
              "    <tr>\n",
              "      <th>799</th>\n",
              "      <td>1.5151</td>\n",
              "      <td>2.9370</td>\n",
              "      <td>6</td>\n",
              "      <td>2</td>\n",
              "      <td>2250000</td>\n",
              "      <td>2</td>\n",
              "      <td>1</td>\n",
              "      <td>0</td>\n",
              "      <td>0</td>\n",
              "      <td>0</td>\n",
              "      <td>0</td>\n",
              "      <td>0</td>\n",
              "      <td>8.5000</td>\n",
              "      <td>1</td>\n",
              "    </tr>\n",
              "  </tbody>\n",
              "</table>\n",
              "<p>73 rows × 14 columns</p>\n",
              "</div>\n",
              "      <button class=\"colab-df-convert\" onclick=\"convertToInteractive('df-a3f0cda4-bea6-4b1a-afee-f7f241fdd928')\"\n",
              "              title=\"Convert this dataframe to an interactive table.\"\n",
              "              style=\"display:none;\">\n",
              "        \n",
              "  <svg xmlns=\"http://www.w3.org/2000/svg\" height=\"24px\"viewBox=\"0 0 24 24\"\n",
              "       width=\"24px\">\n",
              "    <path d=\"M0 0h24v24H0V0z\" fill=\"none\"/>\n",
              "    <path d=\"M18.56 5.44l.94 2.06.94-2.06 2.06-.94-2.06-.94-.94-2.06-.94 2.06-2.06.94zm-11 1L8.5 8.5l.94-2.06 2.06-.94-2.06-.94L8.5 2.5l-.94 2.06-2.06.94zm10 10l.94 2.06.94-2.06 2.06-.94-2.06-.94-.94-2.06-.94 2.06-2.06.94z\"/><path d=\"M17.41 7.96l-1.37-1.37c-.4-.4-.92-.59-1.43-.59-.52 0-1.04.2-1.43.59L10.3 9.45l-7.72 7.72c-.78.78-.78 2.05 0 2.83L4 21.41c.39.39.9.59 1.41.59.51 0 1.02-.2 1.41-.59l7.78-7.78 2.81-2.81c.8-.78.8-2.07 0-2.86zM5.41 20L4 18.59l7.72-7.72 1.47 1.35L5.41 20z\"/>\n",
              "  </svg>\n",
              "      </button>\n",
              "      \n",
              "  <style>\n",
              "    .colab-df-container {\n",
              "      display:flex;\n",
              "      flex-wrap:wrap;\n",
              "      gap: 12px;\n",
              "    }\n",
              "\n",
              "    .colab-df-convert {\n",
              "      background-color: #E8F0FE;\n",
              "      border: none;\n",
              "      border-radius: 50%;\n",
              "      cursor: pointer;\n",
              "      display: none;\n",
              "      fill: #1967D2;\n",
              "      height: 32px;\n",
              "      padding: 0 0 0 0;\n",
              "      width: 32px;\n",
              "    }\n",
              "\n",
              "    .colab-df-convert:hover {\n",
              "      background-color: #E2EBFA;\n",
              "      box-shadow: 0px 1px 2px rgba(60, 64, 67, 0.3), 0px 1px 3px 1px rgba(60, 64, 67, 0.15);\n",
              "      fill: #174EA6;\n",
              "    }\n",
              "\n",
              "    [theme=dark] .colab-df-convert {\n",
              "      background-color: #3B4455;\n",
              "      fill: #D2E3FC;\n",
              "    }\n",
              "\n",
              "    [theme=dark] .colab-df-convert:hover {\n",
              "      background-color: #434B5C;\n",
              "      box-shadow: 0px 1px 3px 1px rgba(0, 0, 0, 0.15);\n",
              "      filter: drop-shadow(0px 1px 2px rgba(0, 0, 0, 0.3));\n",
              "      fill: #FFFFFF;\n",
              "    }\n",
              "  </style>\n",
              "\n",
              "      <script>\n",
              "        const buttonEl =\n",
              "          document.querySelector('#df-a3f0cda4-bea6-4b1a-afee-f7f241fdd928 button.colab-df-convert');\n",
              "        buttonEl.style.display =\n",
              "          google.colab.kernel.accessAllowed ? 'block' : 'none';\n",
              "\n",
              "        async function convertToInteractive(key) {\n",
              "          const element = document.querySelector('#df-a3f0cda4-bea6-4b1a-afee-f7f241fdd928');\n",
              "          const dataTable =\n",
              "            await google.colab.kernel.invokeFunction('convertToInteractive',\n",
              "                                                     [key], {});\n",
              "          if (!dataTable) return;\n",
              "\n",
              "          const docLinkHtml = 'Like what you see? Visit the ' +\n",
              "            '<a target=\"_blank\" href=https://colab.research.google.com/notebooks/data_table.ipynb>data table notebook</a>'\n",
              "            + ' to learn more about interactive tables.';\n",
              "          element.innerHTML = '';\n",
              "          dataTable['output_type'] = 'display_data';\n",
              "          await google.colab.output.renderOutput(dataTable, element);\n",
              "          const docLink = document.createElement('div');\n",
              "          docLink.innerHTML = docLinkHtml;\n",
              "          element.appendChild(docLink);\n",
              "        }\n",
              "      </script>\n",
              "    </div>\n",
              "  </div>\n",
              "  "
            ]
          },
          "metadata": {},
          "execution_count": 287
        }
      ]
    },
    {
      "cell_type": "code",
      "source": [
        "df_false_positives = df_false_positives.assign(prediction=np.full(len(df_false_positives), 1))\n",
        "df_false_positives = df_false_positives.assign(ground_truth=np.full(len(df_false_positives), 0))\n",
        "\n",
        "df_true_positives = df_true_positives.assign(prediction=np.full(len(df_true_positives), 1))\n",
        "df_true_positives = df_true_positives.assign(ground_truth=np.full(len(df_true_positives), 1))\n",
        "\n",
        "df_predictions = pd.concat([df_false_positives, df_true_positives])\n",
        "df_predictions"
      ],
      "metadata": {
        "colab": {
          "base_uri": "https://localhost:8080/",
          "height": 488
        },
        "id": "gNqgibqfhSEs",
        "outputId": "f5e13d4d-aacc-450c-e723-c998f745fc3a"
      },
      "execution_count": 288,
      "outputs": [
        {
          "output_type": "execute_result",
          "data": {
            "text/plain": [
              "     age_first_funding_year  age_last_funding_year  relationships  \\\n",
              "439                  2.4438                 7.1973              6   \n",
              "345                  1.1836                 1.3781              7   \n",
              "36                   0.6192                 1.5945              8   \n",
              "105                  2.4658                 4.8329              4   \n",
              "202                  0.8164                 5.5616              8   \n",
              "..                      ...                    ...            ...   \n",
              "153                  3.1041                 4.9205             10   \n",
              "509                  0.0411                 3.1425             30   \n",
              "261                  7.3534                 8.1260             13   \n",
              "699                  1.1616                 4.1644             19   \n",
              "799                  1.5151                 2.9370              6   \n",
              "\n",
              "     funding_rounds  funding_total_usd  milestones  has_VC  has_angel  \\\n",
              "439               3           25500100           3       1          0   \n",
              "345               2            1900000           2       0          1   \n",
              "36                2           14600000           3       0          0   \n",
              "105               2            5000000           6       0          0   \n",
              "202               4           32500000           3       0          0   \n",
              "..              ...                ...         ...     ...        ...   \n",
              "153               2           11500000           5       0          0   \n",
              "509               2            6875000           5       1          0   \n",
              "261               2           24500000           2       0          0   \n",
              "699               4           33000000           4       0          0   \n",
              "799               2            2250000           2       1          0   \n",
              "\n",
              "     has_roundA  has_roundB  has_roundC  has_roundD  avg_participants  \\\n",
              "439           0           1           0           0            2.5000   \n",
              "345           1           0           0           0            2.5000   \n",
              "36            1           1           0           0            2.0000   \n",
              "105           1           1           0           0            1.0000   \n",
              "202           1           1           1           1            2.7500   \n",
              "..          ...         ...         ...         ...               ...   \n",
              "153           1           1           0           0            2.5000   \n",
              "509           1           0           0           0            7.0000   \n",
              "261           0           0           0           0            5.5000   \n",
              "699           1           1           1           1            1.3333   \n",
              "799           0           0           0           0            8.5000   \n",
              "\n",
              "     is_top500  prediction  ground_truth  \n",
              "439          1           1             0  \n",
              "345          1           1             0  \n",
              "36           1           1             0  \n",
              "105          0           1             0  \n",
              "202          1           1             0  \n",
              "..         ...         ...           ...  \n",
              "153          1           1             1  \n",
              "509          1           1             1  \n",
              "261          1           1             1  \n",
              "699          1           1             1  \n",
              "799          1           1             1  \n",
              "\n",
              "[83 rows x 16 columns]"
            ],
            "text/html": [
              "\n",
              "  <div id=\"df-5e51096d-60ac-4664-b229-b50621945cba\">\n",
              "    <div class=\"colab-df-container\">\n",
              "      <div>\n",
              "<style scoped>\n",
              "    .dataframe tbody tr th:only-of-type {\n",
              "        vertical-align: middle;\n",
              "    }\n",
              "\n",
              "    .dataframe tbody tr th {\n",
              "        vertical-align: top;\n",
              "    }\n",
              "\n",
              "    .dataframe thead th {\n",
              "        text-align: right;\n",
              "    }\n",
              "</style>\n",
              "<table border=\"1\" class=\"dataframe\">\n",
              "  <thead>\n",
              "    <tr style=\"text-align: right;\">\n",
              "      <th></th>\n",
              "      <th>age_first_funding_year</th>\n",
              "      <th>age_last_funding_year</th>\n",
              "      <th>relationships</th>\n",
              "      <th>funding_rounds</th>\n",
              "      <th>funding_total_usd</th>\n",
              "      <th>milestones</th>\n",
              "      <th>has_VC</th>\n",
              "      <th>has_angel</th>\n",
              "      <th>has_roundA</th>\n",
              "      <th>has_roundB</th>\n",
              "      <th>has_roundC</th>\n",
              "      <th>has_roundD</th>\n",
              "      <th>avg_participants</th>\n",
              "      <th>is_top500</th>\n",
              "      <th>prediction</th>\n",
              "      <th>ground_truth</th>\n",
              "    </tr>\n",
              "  </thead>\n",
              "  <tbody>\n",
              "    <tr>\n",
              "      <th>439</th>\n",
              "      <td>2.4438</td>\n",
              "      <td>7.1973</td>\n",
              "      <td>6</td>\n",
              "      <td>3</td>\n",
              "      <td>25500100</td>\n",
              "      <td>3</td>\n",
              "      <td>1</td>\n",
              "      <td>0</td>\n",
              "      <td>0</td>\n",
              "      <td>1</td>\n",
              "      <td>0</td>\n",
              "      <td>0</td>\n",
              "      <td>2.5000</td>\n",
              "      <td>1</td>\n",
              "      <td>1</td>\n",
              "      <td>0</td>\n",
              "    </tr>\n",
              "    <tr>\n",
              "      <th>345</th>\n",
              "      <td>1.1836</td>\n",
              "      <td>1.3781</td>\n",
              "      <td>7</td>\n",
              "      <td>2</td>\n",
              "      <td>1900000</td>\n",
              "      <td>2</td>\n",
              "      <td>0</td>\n",
              "      <td>1</td>\n",
              "      <td>1</td>\n",
              "      <td>0</td>\n",
              "      <td>0</td>\n",
              "      <td>0</td>\n",
              "      <td>2.5000</td>\n",
              "      <td>1</td>\n",
              "      <td>1</td>\n",
              "      <td>0</td>\n",
              "    </tr>\n",
              "    <tr>\n",
              "      <th>36</th>\n",
              "      <td>0.6192</td>\n",
              "      <td>1.5945</td>\n",
              "      <td>8</td>\n",
              "      <td>2</td>\n",
              "      <td>14600000</td>\n",
              "      <td>3</td>\n",
              "      <td>0</td>\n",
              "      <td>0</td>\n",
              "      <td>1</td>\n",
              "      <td>1</td>\n",
              "      <td>0</td>\n",
              "      <td>0</td>\n",
              "      <td>2.0000</td>\n",
              "      <td>1</td>\n",
              "      <td>1</td>\n",
              "      <td>0</td>\n",
              "    </tr>\n",
              "    <tr>\n",
              "      <th>105</th>\n",
              "      <td>2.4658</td>\n",
              "      <td>4.8329</td>\n",
              "      <td>4</td>\n",
              "      <td>2</td>\n",
              "      <td>5000000</td>\n",
              "      <td>6</td>\n",
              "      <td>0</td>\n",
              "      <td>0</td>\n",
              "      <td>1</td>\n",
              "      <td>1</td>\n",
              "      <td>0</td>\n",
              "      <td>0</td>\n",
              "      <td>1.0000</td>\n",
              "      <td>0</td>\n",
              "      <td>1</td>\n",
              "      <td>0</td>\n",
              "    </tr>\n",
              "    <tr>\n",
              "      <th>202</th>\n",
              "      <td>0.8164</td>\n",
              "      <td>5.5616</td>\n",
              "      <td>8</td>\n",
              "      <td>4</td>\n",
              "      <td>32500000</td>\n",
              "      <td>3</td>\n",
              "      <td>0</td>\n",
              "      <td>0</td>\n",
              "      <td>1</td>\n",
              "      <td>1</td>\n",
              "      <td>1</td>\n",
              "      <td>1</td>\n",
              "      <td>2.7500</td>\n",
              "      <td>1</td>\n",
              "      <td>1</td>\n",
              "      <td>0</td>\n",
              "    </tr>\n",
              "    <tr>\n",
              "      <th>...</th>\n",
              "      <td>...</td>\n",
              "      <td>...</td>\n",
              "      <td>...</td>\n",
              "      <td>...</td>\n",
              "      <td>...</td>\n",
              "      <td>...</td>\n",
              "      <td>...</td>\n",
              "      <td>...</td>\n",
              "      <td>...</td>\n",
              "      <td>...</td>\n",
              "      <td>...</td>\n",
              "      <td>...</td>\n",
              "      <td>...</td>\n",
              "      <td>...</td>\n",
              "      <td>...</td>\n",
              "      <td>...</td>\n",
              "    </tr>\n",
              "    <tr>\n",
              "      <th>153</th>\n",
              "      <td>3.1041</td>\n",
              "      <td>4.9205</td>\n",
              "      <td>10</td>\n",
              "      <td>2</td>\n",
              "      <td>11500000</td>\n",
              "      <td>5</td>\n",
              "      <td>0</td>\n",
              "      <td>0</td>\n",
              "      <td>1</td>\n",
              "      <td>1</td>\n",
              "      <td>0</td>\n",
              "      <td>0</td>\n",
              "      <td>2.5000</td>\n",
              "      <td>1</td>\n",
              "      <td>1</td>\n",
              "      <td>1</td>\n",
              "    </tr>\n",
              "    <tr>\n",
              "      <th>509</th>\n",
              "      <td>0.0411</td>\n",
              "      <td>3.1425</td>\n",
              "      <td>30</td>\n",
              "      <td>2</td>\n",
              "      <td>6875000</td>\n",
              "      <td>5</td>\n",
              "      <td>1</td>\n",
              "      <td>0</td>\n",
              "      <td>1</td>\n",
              "      <td>0</td>\n",
              "      <td>0</td>\n",
              "      <td>0</td>\n",
              "      <td>7.0000</td>\n",
              "      <td>1</td>\n",
              "      <td>1</td>\n",
              "      <td>1</td>\n",
              "    </tr>\n",
              "    <tr>\n",
              "      <th>261</th>\n",
              "      <td>7.3534</td>\n",
              "      <td>8.1260</td>\n",
              "      <td>13</td>\n",
              "      <td>2</td>\n",
              "      <td>24500000</td>\n",
              "      <td>2</td>\n",
              "      <td>0</td>\n",
              "      <td>0</td>\n",
              "      <td>0</td>\n",
              "      <td>0</td>\n",
              "      <td>0</td>\n",
              "      <td>0</td>\n",
              "      <td>5.5000</td>\n",
              "      <td>1</td>\n",
              "      <td>1</td>\n",
              "      <td>1</td>\n",
              "    </tr>\n",
              "    <tr>\n",
              "      <th>699</th>\n",
              "      <td>1.1616</td>\n",
              "      <td>4.1644</td>\n",
              "      <td>19</td>\n",
              "      <td>4</td>\n",
              "      <td>33000000</td>\n",
              "      <td>4</td>\n",
              "      <td>0</td>\n",
              "      <td>0</td>\n",
              "      <td>1</td>\n",
              "      <td>1</td>\n",
              "      <td>1</td>\n",
              "      <td>1</td>\n",
              "      <td>1.3333</td>\n",
              "      <td>1</td>\n",
              "      <td>1</td>\n",
              "      <td>1</td>\n",
              "    </tr>\n",
              "    <tr>\n",
              "      <th>799</th>\n",
              "      <td>1.5151</td>\n",
              "      <td>2.9370</td>\n",
              "      <td>6</td>\n",
              "      <td>2</td>\n",
              "      <td>2250000</td>\n",
              "      <td>2</td>\n",
              "      <td>1</td>\n",
              "      <td>0</td>\n",
              "      <td>0</td>\n",
              "      <td>0</td>\n",
              "      <td>0</td>\n",
              "      <td>0</td>\n",
              "      <td>8.5000</td>\n",
              "      <td>1</td>\n",
              "      <td>1</td>\n",
              "      <td>1</td>\n",
              "    </tr>\n",
              "  </tbody>\n",
              "</table>\n",
              "<p>83 rows × 16 columns</p>\n",
              "</div>\n",
              "      <button class=\"colab-df-convert\" onclick=\"convertToInteractive('df-5e51096d-60ac-4664-b229-b50621945cba')\"\n",
              "              title=\"Convert this dataframe to an interactive table.\"\n",
              "              style=\"display:none;\">\n",
              "        \n",
              "  <svg xmlns=\"http://www.w3.org/2000/svg\" height=\"24px\"viewBox=\"0 0 24 24\"\n",
              "       width=\"24px\">\n",
              "    <path d=\"M0 0h24v24H0V0z\" fill=\"none\"/>\n",
              "    <path d=\"M18.56 5.44l.94 2.06.94-2.06 2.06-.94-2.06-.94-.94-2.06-.94 2.06-2.06.94zm-11 1L8.5 8.5l.94-2.06 2.06-.94-2.06-.94L8.5 2.5l-.94 2.06-2.06.94zm10 10l.94 2.06.94-2.06 2.06-.94-2.06-.94-.94-2.06-.94 2.06-2.06.94z\"/><path d=\"M17.41 7.96l-1.37-1.37c-.4-.4-.92-.59-1.43-.59-.52 0-1.04.2-1.43.59L10.3 9.45l-7.72 7.72c-.78.78-.78 2.05 0 2.83L4 21.41c.39.39.9.59 1.41.59.51 0 1.02-.2 1.41-.59l7.78-7.78 2.81-2.81c.8-.78.8-2.07 0-2.86zM5.41 20L4 18.59l7.72-7.72 1.47 1.35L5.41 20z\"/>\n",
              "  </svg>\n",
              "      </button>\n",
              "      \n",
              "  <style>\n",
              "    .colab-df-container {\n",
              "      display:flex;\n",
              "      flex-wrap:wrap;\n",
              "      gap: 12px;\n",
              "    }\n",
              "\n",
              "    .colab-df-convert {\n",
              "      background-color: #E8F0FE;\n",
              "      border: none;\n",
              "      border-radius: 50%;\n",
              "      cursor: pointer;\n",
              "      display: none;\n",
              "      fill: #1967D2;\n",
              "      height: 32px;\n",
              "      padding: 0 0 0 0;\n",
              "      width: 32px;\n",
              "    }\n",
              "\n",
              "    .colab-df-convert:hover {\n",
              "      background-color: #E2EBFA;\n",
              "      box-shadow: 0px 1px 2px rgba(60, 64, 67, 0.3), 0px 1px 3px 1px rgba(60, 64, 67, 0.15);\n",
              "      fill: #174EA6;\n",
              "    }\n",
              "\n",
              "    [theme=dark] .colab-df-convert {\n",
              "      background-color: #3B4455;\n",
              "      fill: #D2E3FC;\n",
              "    }\n",
              "\n",
              "    [theme=dark] .colab-df-convert:hover {\n",
              "      background-color: #434B5C;\n",
              "      box-shadow: 0px 1px 3px 1px rgba(0, 0, 0, 0.15);\n",
              "      filter: drop-shadow(0px 1px 2px rgba(0, 0, 0, 0.3));\n",
              "      fill: #FFFFFF;\n",
              "    }\n",
              "  </style>\n",
              "\n",
              "      <script>\n",
              "        const buttonEl =\n",
              "          document.querySelector('#df-5e51096d-60ac-4664-b229-b50621945cba button.colab-df-convert');\n",
              "        buttonEl.style.display =\n",
              "          google.colab.kernel.accessAllowed ? 'block' : 'none';\n",
              "\n",
              "        async function convertToInteractive(key) {\n",
              "          const element = document.querySelector('#df-5e51096d-60ac-4664-b229-b50621945cba');\n",
              "          const dataTable =\n",
              "            await google.colab.kernel.invokeFunction('convertToInteractive',\n",
              "                                                     [key], {});\n",
              "          if (!dataTable) return;\n",
              "\n",
              "          const docLinkHtml = 'Like what you see? Visit the ' +\n",
              "            '<a target=\"_blank\" href=https://colab.research.google.com/notebooks/data_table.ipynb>data table notebook</a>'\n",
              "            + ' to learn more about interactive tables.';\n",
              "          element.innerHTML = '';\n",
              "          dataTable['output_type'] = 'display_data';\n",
              "          await google.colab.output.renderOutput(dataTable, element);\n",
              "          const docLink = document.createElement('div');\n",
              "          docLink.innerHTML = docLinkHtml;\n",
              "          element.appendChild(docLink);\n",
              "        }\n",
              "      </script>\n",
              "    </div>\n",
              "  </div>\n",
              "  "
            ]
          },
          "metadata": {},
          "execution_count": 288
        }
      ]
    },
    {
      "cell_type": "code",
      "source": [
        "fig, ax = plt.subplots(figsize=(7, 5))\n",
        "sns.boxplot(x='ground_truth', y='relationships', data=df_predictions)"
      ],
      "metadata": {
        "colab": {
          "base_uri": "https://localhost:8080/",
          "height": 353
        },
        "id": "LhY9zAqshbEI",
        "outputId": "06bc5143-c4d3-4fed-a33b-17ee8d1dc245"
      },
      "execution_count": 289,
      "outputs": [
        {
          "output_type": "execute_result",
          "data": {
            "text/plain": [
              "<matplotlib.axes._subplots.AxesSubplot at 0x7fe36d6f5cd0>"
            ]
          },
          "metadata": {},
          "execution_count": 289
        },
        {
          "output_type": "display_data",
          "data": {
            "text/plain": [
              "<Figure size 504x360 with 1 Axes>"
            ],
            "image/png": "[encoded data removed]"
          },
          "metadata": {
            "needs_background": "light"
          }
        }
      ]
    },
    {
      "cell_type": "code",
      "source": [
        "df_predictions['funding_total_usd_log'] = np.log(df_predictions['funding_total_usd'])\n",
        "fig, ax = plt.subplots(figsize=(7, 5))\n",
        "sns.boxplot(x='ground_truth', y='funding_total_usd_log', data=df_predictions)"
      ],
      "metadata": {
        "colab": {
          "base_uri": "https://localhost:8080/",
          "height": 353
        },
        "id": "lxeV7I6-heas",
        "outputId": "b683a132-6775-46b9-bce4-43e6ebd30063"
      },
      "execution_count": 290,
      "outputs": [
        {
          "output_type": "execute_result",
          "data": {
            "text/plain": [
              "<matplotlib.axes._subplots.AxesSubplot at 0x7fe3758aae50>"
            ]
          },
          "metadata": {},
          "execution_count": 290
        },
        {
          "output_type": "display_data",
          "data": {
            "text/plain": [
              "<Figure size 504x360 with 1 Axes>"
            ],
            "image/png": "[encoded data removed]"
          },
          "metadata": {
            "needs_background": "light"
          }
        }
      ]
    },
    {
      "cell_type": "code",
      "source": [
        "fig, ax = plt.subplots(figsize=(7, 5))\n",
        "sns.boxplot(x='ground_truth', y='age_first_funding_year', data=df_predictions)"
      ],
      "metadata": {
        "colab": {
          "base_uri": "https://localhost:8080/",
          "height": 353
        },
        "id": "ZTHkox5WhjYX",
        "outputId": "4a1dbdfb-bf8d-4227-c71f-8727765a3246"
      },
      "execution_count": 291,
      "outputs": [
        {
          "output_type": "execute_result",
          "data": {
            "text/plain": [
              "<matplotlib.axes._subplots.AxesSubplot at 0x7fe36fb84110>"
            ]
          },
          "metadata": {},
          "execution_count": 291
        },
        {
          "output_type": "display_data",
          "data": {
            "text/plain": [
              "<Figure size 504x360 with 1 Axes>"
            ],
            "image/png": "[encoded data removed]"
          },
          "metadata": {
            "needs_background": "light"
          }
        }
      ]
    },
    {
      "cell_type": "code",
      "source": [
        "fig, ax = plt.subplots(figsize=(7, 5))\n",
        "sns.boxplot(x='ground_truth', y='age_last_funding_year', data=df_predictions)"
      ],
      "metadata": {
        "colab": {
          "base_uri": "https://localhost:8080/",
          "height": 353
        },
        "id": "OtPZQ5HLhuJd",
        "outputId": "ff90e065-a854-4e21-be46-2e491bf74334"
      },
      "execution_count": 292,
      "outputs": [
        {
          "output_type": "execute_result",
          "data": {
            "text/plain": [
              "<matplotlib.axes._subplots.AxesSubplot at 0x7fe37308e050>"
            ]
          },
          "metadata": {},
          "execution_count": 292
        },
        {
          "output_type": "display_data",
          "data": {
            "text/plain": [
              "<Figure size 504x360 with 1 Axes>"
            ],
            "image/png": "[encoded data removed]"
          },
          "metadata": {
            "needs_background": "light"
          }
        }
      ]
    },
    {
      "cell_type": "code",
      "source": [
        "fig, ax = plt.subplots(figsize=(7, 5))\n",
        "sns.boxplot(x='ground_truth', y='avg_participants', data=df_predictions)"
      ],
      "metadata": {
        "colab": {
          "base_uri": "https://localhost:8080/",
          "height": 353
        },
        "id": "ECPQ3qNdhyKL",
        "outputId": "917c7186-5b67-4289-8a43-d98ff1881d18"
      },
      "execution_count": 293,
      "outputs": [
        {
          "output_type": "execute_result",
          "data": {
            "text/plain": [
              "<matplotlib.axes._subplots.AxesSubplot at 0x7fe373069e10>"
            ]
          },
          "metadata": {},
          "execution_count": 293
        },
        {
          "output_type": "display_data",
          "data": {
            "text/plain": [
              "<Figure size 504x360 with 1 Axes>"
            ],
            "image/png": "[encoded data removed]"
          },
          "metadata": {
            "needs_background": "light"
          }
        }
      ]
    },
    {
      "cell_type": "code",
      "source": [
        "fig, ax = plt.subplots(figsize=(7, 5))\n",
        "sns.boxplot(x='ground_truth', y='milestones', data=df_predictions)"
      ],
      "metadata": {
        "colab": {
          "base_uri": "https://localhost:8080/",
          "height": 353
        },
        "id": "rexgHyOyh3tI",
        "outputId": "6b620083-142d-4896-e9b3-206f103e0543"
      },
      "execution_count": 294,
      "outputs": [
        {
          "output_type": "execute_result",
          "data": {
            "text/plain": [
              "<matplotlib.axes._subplots.AxesSubplot at 0x7fe36d775fd0>"
            ]
          },
          "metadata": {},
          "execution_count": 294
        },
        {
          "output_type": "display_data",
          "data": {
            "text/plain": [
              "<Figure size 504x360 with 1 Axes>"
            ],
            "image/png": "[encoded data removed]"
          },
          "metadata": {
            "needs_background": "light"
          }
        }
      ]
    },
    {
      "cell_type": "code",
      "source": [
        "fig, ax = plt.subplots(figsize=(7, 5))\n",
        "sns.boxplot(x='ground_truth', y='funding_rounds', data=df_predictions)"
      ],
      "metadata": {
        "colab": {
          "base_uri": "https://localhost:8080/",
          "height": 353
        },
        "id": "c6W0OHWrh9c6",
        "outputId": "b5ae0032-7132-4da9-b6dd-084bc55c976b"
      },
      "execution_count": 295,
      "outputs": [
        {
          "output_type": "execute_result",
          "data": {
            "text/plain": [
              "<matplotlib.axes._subplots.AxesSubplot at 0x7fe36e941690>"
            ]
          },
          "metadata": {},
          "execution_count": 295
        },
        {
          "output_type": "display_data",
          "data": {
            "text/plain": [
              "<Figure size 504x360 with 1 Axes>"
            ],
            "image/png": "[encoded data removed]"
          },
          "metadata": {
            "needs_background": "light"
          }
        }
      ]
    },
    {
      "cell_type": "code",
      "source": [
        "plot_countplot(df=df_predictions, x='is_top500', hue='ground_truth', x_label='is Top 500', y_label='Count',  \n",
        "                 figsize=(8, 4), sort_by_count=True)"
      ],
      "metadata": {
        "colab": {
          "base_uri": "https://localhost:8080/",
          "height": 281
        },
        "id": "55li4EHgiFHO",
        "outputId": "20f0437b-5d05-4835-9228-29bb95d32bed"
      },
      "execution_count": 296,
      "outputs": [
        {
          "output_type": "display_data",
          "data": {
            "text/plain": [
              "<Figure size 576x288 with 1 Axes>"
            ],
            "image/png": "[encoded data removed]"
          },
          "metadata": {
            "needs_background": "light"
          }
        }
      ]
    },
    {
      "cell_type": "code",
      "source": [
        "plot_countplot(df=df_predictions, x='has_VC', hue='ground_truth', x_label='has VC', y_label='Count',  \n",
        "                 figsize=(8, 4), sort_by_count=True)"
      ],
      "metadata": {
        "colab": {
          "base_uri": "https://localhost:8080/",
          "height": 281
        },
        "id": "1GdX2f-tiInG",
        "outputId": "4f757bfd-3021-4b8b-de81-e475a4f9150a"
      },
      "execution_count": 297,
      "outputs": [
        {
          "output_type": "display_data",
          "data": {
            "text/plain": [
              "<Figure size 576x288 with 1 Axes>"
            ],
            "image/png": "[encoded data removed]"
          },
          "metadata": {
            "needs_background": "light"
          }
        }
      ]
    },
    {
      "cell_type": "code",
      "source": [
        "plot_countplot(df=df_predictions, x='has_angel', hue='ground_truth', x_label='has angel', y_label='Count',  \n",
        "                 figsize=(8, 4), sort_by_count=True)"
      ],
      "metadata": {
        "colab": {
          "base_uri": "https://localhost:8080/",
          "height": 281
        },
        "id": "PTC07AuoiPnV",
        "outputId": "69dacee7-26a9-4d74-fdc8-e79fe761158c"
      },
      "execution_count": 298,
      "outputs": [
        {
          "output_type": "display_data",
          "data": {
            "text/plain": [
              "<Figure size 576x288 with 1 Axes>"
            ],
            "image/png": "[encoded data removed]"
          },
          "metadata": {
            "needs_background": "light"
          }
        }
      ]
    },
    {
      "cell_type": "markdown",
      "source": [
        "## Precision/recall tradeoff"
      ],
      "metadata": {
        "id": "PLO3T3TiixL2"
      }
    },
    {
      "cell_type": "code",
      "source": [
        "precision, recall, thresholds = metrics.precision_recall_curve(y_test, test_probas)"
      ],
      "metadata": {
        "id": "Na3VhL6Tiy-K"
      },
      "execution_count": 299,
      "outputs": []
    },
    {
      "cell_type": "code",
      "source": [
        "threshold_precision = thresholds[np.argmax(precision >= 0.9)]\n",
        "threshold_precision"
      ],
      "metadata": {
        "colab": {
          "base_uri": "https://localhost:8080/"
        },
        "id": "uPa4zHP6kUD1",
        "outputId": "d89c2c57-fdc3-49c4-aff0-3fef36c9b350"
      },
      "execution_count": 300,
      "outputs": [
        {
          "output_type": "execute_result",
          "data": {
            "text/plain": [
              "0.5318812"
            ]
          },
          "metadata": {},
          "execution_count": 300
        }
      ]
    },
    {
      "cell_type": "code",
      "source": [
        "test_y_pred_2 = (test_probas >= threshold_precision).astype(int)\n",
        "evaluate_classifier(y_test.astype(int), test_y_pred_2)"
      ],
      "metadata": {
        "colab": {
          "base_uri": "https://localhost:8080/"
        },
        "id": "aT0-LewakZzl",
        "outputId": "9c7755ca-2878-4678-dd7c-15f5a115aaa3"
      },
      "execution_count": 301,
      "outputs": [
        {
          "output_type": "stream",
          "name": "stdout",
          "text": [
            "Accuracy: 0.6757\n",
            "Recall: 0.5583\n",
            "Precision: 0.9054\n",
            "F1: 0.6907\n"
          ]
        }
      ]
    },
    {
      "cell_type": "code",
      "source": [
        "confusion_matrix = metrics.confusion_matrix(y_true=y_test.astype(int), y_pred=test_y_pred_2)\n",
        "confusion_matrix"
      ],
      "metadata": {
        "colab": {
          "base_uri": "https://localhost:8080/"
        },
        "id": "7-RjabxHlnsy",
        "outputId": "09977dba-9a33-448f-a181-c8b3d54f9360"
      },
      "execution_count": 302,
      "outputs": [
        {
          "output_type": "execute_result",
          "data": {
            "text/plain": [
              "array([[58,  7],\n",
              "       [53, 67]])"
            ]
          },
          "metadata": {},
          "execution_count": 302
        }
      ]
    },
    {
      "cell_type": "code",
      "source": [
        "plot_confusion_matrix(confusion_matrix=confusion_matrix, figsize=(5, 4))"
      ],
      "metadata": {
        "colab": {
          "base_uri": "https://localhost:8080/",
          "height": 299
        },
        "id": "Nmo6LC2alxaq",
        "outputId": "6196d28a-c1ea-4eab-803d-32e0249c5d46"
      },
      "execution_count": 303,
      "outputs": [
        {
          "output_type": "display_data",
          "data": {
            "text/plain": [
              "<Figure size 360x288 with 2 Axes>"
            ],
            "image/png": "[encoded data removed]"
          },
          "metadata": {
            "needs_background": "light"
          }
        }
      ]
    },
    {
      "cell_type": "code",
      "source": [
        "y_test_arr = y_test.astype(int)\n",
        "false_positives = (y_test_arr != test_y_pred_2) & (y_test_arr == 0)\n",
        "df_false_positives = X_test[false_positives]\n",
        "print(f'False positives count: {len(df_false_positives)}')\n",
        "df_false_positives"
      ],
      "metadata": {
        "colab": {
          "base_uri": "https://localhost:8080/",
          "height": 351
        },
        "id": "SkrbTOfyl0yn",
        "outputId": "28c8c7e7-780a-4983-8131-4d61b392eb90"
      },
      "execution_count": 304,
      "outputs": [
        {
          "output_type": "stream",
          "name": "stdout",
          "text": [
            "False positives count: 7\n"
          ]
        },
        {
          "output_type": "execute_result",
          "data": {
            "text/plain": [
              "     age_first_funding_year  age_last_funding_year  relationships  \\\n",
              "439                  2.4438                 7.1973              6   \n",
              "36                   0.6192                 1.5945              8   \n",
              "105                  2.4658                 4.8329              4   \n",
              "202                  0.8164                 5.5616              8   \n",
              "515                  2.1616                 3.2877             13   \n",
              "206                  1.1699                 1.4986              3   \n",
              "230                  2.1890                 2.1890             32   \n",
              "\n",
              "     funding_rounds  funding_total_usd  milestones  has_VC  has_angel  \\\n",
              "439               3           25500100           3       1          0   \n",
              "36                2           14600000           3       0          0   \n",
              "105               2            5000000           6       0          0   \n",
              "202               4           32500000           3       0          0   \n",
              "515               2           33000000           4       0          0   \n",
              "206               2            4700000           4       0          1   \n",
              "230               1            9000000           0       0          0   \n",
              "\n",
              "     has_roundA  has_roundB  has_roundC  has_roundD  avg_participants  \\\n",
              "439           0           1           0           0              2.50   \n",
              "36            1           1           0           0              2.00   \n",
              "105           1           1           0           0              1.00   \n",
              "202           1           1           1           1              2.75   \n",
              "515           1           1           0           0              2.50   \n",
              "206           1           0           0           0              1.50   \n",
              "230           0           1           0           0              4.00   \n",
              "\n",
              "     is_top500  \n",
              "439          1  \n",
              "36           1  \n",
              "105          0  \n",
              "202          1  \n",
              "515          1  \n",
              "206          1  \n",
              "230          1  "
            ],
            "text/html": [
              "\n",
              "  <div id=\"df-15976efd-e5af-40b9-9936-d95fe4fa817c\">\n",
              "    <div class=\"colab-df-container\">\n",
              "      <div>\n",
              "<style scoped>\n",
              "    .dataframe tbody tr th:only-of-type {\n",
              "        vertical-align: middle;\n",
              "    }\n",
              "\n",
              "    .dataframe tbody tr th {\n",
              "        vertical-align: top;\n",
              "    }\n",
              "\n",
              "    .dataframe thead th {\n",
              "        text-align: right;\n",
              "    }\n",
              "</style>\n",
              "<table border=\"1\" class=\"dataframe\">\n",
              "  <thead>\n",
              "    <tr style=\"text-align: right;\">\n",
              "      <th></th>\n",
              "      <th>age_first_funding_year</th>\n",
              "      <th>age_last_funding_year</th>\n",
              "      <th>relationships</th>\n",
              "      <th>funding_rounds</th>\n",
              "      <th>funding_total_usd</th>\n",
              "      <th>milestones</th>\n",
              "      <th>has_VC</th>\n",
              "      <th>has_angel</th>\n",
              "      <th>has_roundA</th>\n",
              "      <th>has_roundB</th>\n",
              "      <th>has_roundC</th>\n",
              "      <th>has_roundD</th>\n",
              "      <th>avg_participants</th>\n",
              "      <th>is_top500</th>\n",
              "    </tr>\n",
              "  </thead>\n",
              "  <tbody>\n",
              "    <tr>\n",
              "      <th>439</th>\n",
              "      <td>2.4438</td>\n",
              "      <td>7.1973</td>\n",
              "      <td>6</td>\n",
              "      <td>3</td>\n",
              "      <td>25500100</td>\n",
              "      <td>3</td>\n",
              "      <td>1</td>\n",
              "      <td>0</td>\n",
              "      <td>0</td>\n",
              "      <td>1</td>\n",
              "      <td>0</td>\n",
              "      <td>0</td>\n",
              "      <td>2.50</td>\n",
              "      <td>1</td>\n",
              "    </tr>\n",
              "    <tr>\n",
              "      <th>36</th>\n",
              "      <td>0.6192</td>\n",
              "      <td>1.5945</td>\n",
              "      <td>8</td>\n",
              "      <td>2</td>\n",
              "      <td>14600000</td>\n",
              "      <td>3</td>\n",
              "      <td>0</td>\n",
              "      <td>0</td>\n",
              "      <td>1</td>\n",
              "      <td>1</td>\n",
              "      <td>0</td>\n",
              "      <td>0</td>\n",
              "      <td>2.00</td>\n",
              "      <td>1</td>\n",
              "    </tr>\n",
              "    <tr>\n",
              "      <th>105</th>\n",
              "      <td>2.4658</td>\n",
              "      <td>4.8329</td>\n",
              "      <td>4</td>\n",
              "      <td>2</td>\n",
              "      <td>5000000</td>\n",
              "      <td>6</td>\n",
              "      <td>0</td>\n",
              "      <td>0</td>\n",
              "      <td>1</td>\n",
              "      <td>1</td>\n",
              "      <td>0</td>\n",
              "      <td>0</td>\n",
              "      <td>1.00</td>\n",
              "      <td>0</td>\n",
              "    </tr>\n",
              "    <tr>\n",
              "      <th>202</th>\n",
              "      <td>0.8164</td>\n",
              "      <td>5.5616</td>\n",
              "      <td>8</td>\n",
              "      <td>4</td>\n",
              "      <td>32500000</td>\n",
              "      <td>3</td>\n",
              "      <td>0</td>\n",
              "      <td>0</td>\n",
              "      <td>1</td>\n",
              "      <td>1</td>\n",
              "      <td>1</td>\n",
              "      <td>1</td>\n",
              "      <td>2.75</td>\n",
              "      <td>1</td>\n",
              "    </tr>\n",
              "    <tr>\n",
              "      <th>515</th>\n",
              "      <td>2.1616</td>\n",
              "      <td>3.2877</td>\n",
              "      <td>13</td>\n",
              "      <td>2</td>\n",
              "      <td>33000000</td>\n",
              "      <td>4</td>\n",
              "      <td>0</td>\n",
              "      <td>0</td>\n",
              "      <td>1</td>\n",
              "      <td>1</td>\n",
              "      <td>0</td>\n",
              "      <td>0</td>\n",
              "      <td>2.50</td>\n",
              "      <td>1</td>\n",
              "    </tr>\n",
              "    <tr>\n",
              "      <th>206</th>\n",
              "      <td>1.1699</td>\n",
              "      <td>1.4986</td>\n",
              "      <td>3</td>\n",
              "      <td>2</td>\n",
              "      <td>4700000</td>\n",
              "      <td>4</td>\n",
              "      <td>0</td>\n",
              "      <td>1</td>\n",
              "      <td>1</td>\n",
              "      <td>0</td>\n",
              "      <td>0</td>\n",
              "      <td>0</td>\n",
              "      <td>1.50</td>\n",
              "      <td>1</td>\n",
              "    </tr>\n",
              "    <tr>\n",
              "      <th>230</th>\n",
              "      <td>2.1890</td>\n",
              "      <td>2.1890</td>\n",
              "      <td>32</td>\n",
              "      <td>1</td>\n",
              "      <td>9000000</td>\n",
              "      <td>0</td>\n",
              "      <td>0</td>\n",
              "      <td>0</td>\n",
              "      <td>0</td>\n",
              "      <td>1</td>\n",
              "      <td>0</td>\n",
              "      <td>0</td>\n",
              "      <td>4.00</td>\n",
              "      <td>1</td>\n",
              "    </tr>\n",
              "  </tbody>\n",
              "</table>\n",
              "</div>\n",
              "      <button class=\"colab-df-convert\" onclick=\"convertToInteractive('df-15976efd-e5af-40b9-9936-d95fe4fa817c')\"\n",
              "              title=\"Convert this dataframe to an interactive table.\"\n",
              "              style=\"display:none;\">\n",
              "        \n",
              "  <svg xmlns=\"http://www.w3.org/2000/svg\" height=\"24px\"viewBox=\"0 0 24 24\"\n",
              "       width=\"24px\">\n",
              "    <path d=\"M0 0h24v24H0V0z\" fill=\"none\"/>\n",
              "    <path d=\"M18.56 5.44l.94 2.06.94-2.06 2.06-.94-2.06-.94-.94-2.06-.94 2.06-2.06.94zm-11 1L8.5 8.5l.94-2.06 2.06-.94-2.06-.94L8.5 2.5l-.94 2.06-2.06.94zm10 10l.94 2.06.94-2.06 2.06-.94-2.06-.94-.94-2.06-.94 2.06-2.06.94z\"/><path d=\"M17.41 7.96l-1.37-1.37c-.4-.4-.92-.59-1.43-.59-.52 0-1.04.2-1.43.59L10.3 9.45l-7.72 7.72c-.78.78-.78 2.05 0 2.83L4 21.41c.39.39.9.59 1.41.59.51 0 1.02-.2 1.41-.59l7.78-7.78 2.81-2.81c.8-.78.8-2.07 0-2.86zM5.41 20L4 18.59l7.72-7.72 1.47 1.35L5.41 20z\"/>\n",
              "  </svg>\n",
              "      </button>\n",
              "      \n",
              "  <style>\n",
              "    .colab-df-container {\n",
              "      display:flex;\n",
              "      flex-wrap:wrap;\n",
              "      gap: 12px;\n",
              "    }\n",
              "\n",
              "    .colab-df-convert {\n",
              "      background-color: #E8F0FE;\n",
              "      border: none;\n",
              "      border-radius: 50%;\n",
              "      cursor: pointer;\n",
              "      display: none;\n",
              "      fill: #1967D2;\n",
              "      height: 32px;\n",
              "      padding: 0 0 0 0;\n",
              "      width: 32px;\n",
              "    }\n",
              "\n",
              "    .colab-df-convert:hover {\n",
              "      background-color: #E2EBFA;\n",
              "      box-shadow: 0px 1px 2px rgba(60, 64, 67, 0.3), 0px 1px 3px 1px rgba(60, 64, 67, 0.15);\n",
              "      fill: #174EA6;\n",
              "    }\n",
              "\n",
              "    [theme=dark] .colab-df-convert {\n",
              "      background-color: #3B4455;\n",
              "      fill: #D2E3FC;\n",
              "    }\n",
              "\n",
              "    [theme=dark] .colab-df-convert:hover {\n",
              "      background-color: #434B5C;\n",
              "      box-shadow: 0px 1px 3px 1px rgba(0, 0, 0, 0.15);\n",
              "      filter: drop-shadow(0px 1px 2px rgba(0, 0, 0, 0.3));\n",
              "      fill: #FFFFFF;\n",
              "    }\n",
              "  </style>\n",
              "\n",
              "      <script>\n",
              "        const buttonEl =\n",
              "          document.querySelector('#df-15976efd-e5af-40b9-9936-d95fe4fa817c button.colab-df-convert');\n",
              "        buttonEl.style.display =\n",
              "          google.colab.kernel.accessAllowed ? 'block' : 'none';\n",
              "\n",
              "        async function convertToInteractive(key) {\n",
              "          const element = document.querySelector('#df-15976efd-e5af-40b9-9936-d95fe4fa817c');\n",
              "          const dataTable =\n",
              "            await google.colab.kernel.invokeFunction('convertToInteractive',\n",
              "                                                     [key], {});\n",
              "          if (!dataTable) return;\n",
              "\n",
              "          const docLinkHtml = 'Like what you see? Visit the ' +\n",
              "            '<a target=\"_blank\" href=https://colab.research.google.com/notebooks/data_table.ipynb>data table notebook</a>'\n",
              "            + ' to learn more about interactive tables.';\n",
              "          element.innerHTML = '';\n",
              "          dataTable['output_type'] = 'display_data';\n",
              "          await google.colab.output.renderOutput(dataTable, element);\n",
              "          const docLink = document.createElement('div');\n",
              "          docLink.innerHTML = docLinkHtml;\n",
              "          element.appendChild(docLink);\n",
              "        }\n",
              "      </script>\n",
              "    </div>\n",
              "  </div>\n",
              "  "
            ]
          },
          "metadata": {},
          "execution_count": 304
        }
      ]
    }
  ],
  "metadata": {
    "colab": {
      "name": "Untitled0.ipynb",
      "provenance": [],
      "collapsed_sections": []
    },
    "kernelspec": {
      "display_name": "Python 3",
      "name": "python3"
    },
    "language_info": {
      "name": "python"
    }
  },
  "nbformat": 4,
  "nbformat_minor": 0
}